{
 "cells": [
  {
   "cell_type": "code",
   "execution_count": 102,
   "metadata": {},
   "outputs": [],
   "source": [
    "from transformers import pipeline\n",
    "from nltk import sent_tokenize\n",
    "import nltk\n",
    "import torch\n",
    "from glob import glob\n",
    "import pandas as pd\n",
    "import numpy as np"
   ]
  },
  {
   "cell_type": "code",
   "execution_count": 103,
   "metadata": {},
   "outputs": [
    {
     "name": "stderr",
     "output_type": "stream",
     "text": [
      "[nltk_data] Downloading package punkt to\n",
      "[nltk_data]     C:\\Users\\anshu\\AppData\\Roaming\\nltk_data...\n",
      "[nltk_data]   Package punkt is already up-to-date!\n"
     ]
    },
    {
     "data": {
      "text/plain": [
       "True"
      ]
     },
     "execution_count": 103,
     "metadata": {},
     "output_type": "execute_result"
    }
   ],
   "source": [
    "nltk.download('punkt')"
   ]
  },
  {
   "cell_type": "markdown",
   "metadata": {},
   "source": [
    " # Load Model"
   ]
  },
  {
   "cell_type": "code",
   "execution_count": 104,
   "metadata": {},
   "outputs": [],
   "source": [
    "model_name = \"facebook/bart-large-mnli\"\n",
    "device =0 if torch.cuda.is_available() else 'cpu'"
   ]
  },
  {
   "cell_type": "code",
   "execution_count": 105,
   "metadata": {},
   "outputs": [],
   "source": [
    "def load_model(device):\n",
    "    theme_classifier = pipeline(\n",
    "        \"zero-shot-classification\",\n",
    "        model = model_name,\n",
    "        device= device\n",
    "    )\n",
    "\n",
    "    return theme_classifier\n",
    "    "
   ]
  },
  {
   "cell_type": "code",
   "execution_count": null,
   "metadata": {},
   "outputs": [],
   "source": []
  },
  {
   "cell_type": "code",
   "execution_count": 106,
   "metadata": {},
   "outputs": [
    {
     "name": "stderr",
     "output_type": "stream",
     "text": [
      "Device set to use cpu\n"
     ]
    }
   ],
   "source": [
    "theme_classifier = load_model(device)"
   ]
  },
  {
   "cell_type": "code",
   "execution_count": 107,
   "metadata": {},
   "outputs": [],
   "source": [
    "theme_list = [\"friendship\", \"hope\", \"sacrifice\", \"battle\", \"self developement\", \"betrayal\", \"love\", \"dialogue\"]"
   ]
  },
  {
   "cell_type": "code",
   "execution_count": 108,
   "metadata": {},
   "outputs": [
    {
     "data": {
      "text/plain": [
       "{'sequence': 'I gave him a right hook then a left jab',\n",
       " 'labels': ['battle',\n",
       "  'self developement',\n",
       "  'hope',\n",
       "  'sacrifice',\n",
       "  'dialogue',\n",
       "  'betrayal',\n",
       "  'love',\n",
       "  'friendship'],\n",
       " 'scores': [0.9121250510215759,\n",
       "  0.5736570954322815,\n",
       "  0.0878177210688591,\n",
       "  0.04499926045536995,\n",
       "  0.02013271301984787,\n",
       "  0.012040363624691963,\n",
       "  0.00429225480183959,\n",
       "  0.0028172037564218044]}"
      ]
     },
     "execution_count": 108,
     "metadata": {},
     "output_type": "execute_result"
    }
   ],
   "source": [
    "theme_classifier(\n",
    "    \"I gave him a right hook then a left jab\",\n",
    "    theme_list,\n",
    "    multi_label = True\n",
    ")"
   ]
  },
  {
   "cell_type": "markdown",
   "metadata": {},
   "source": [
    "# Load Datasets"
   ]
  },
  {
   "cell_type": "code",
   "execution_count": 109,
   "metadata": {},
   "outputs": [],
   "source": [
    "files = glob('../data/Subtitles/*.ass')"
   ]
  },
  {
   "cell_type": "code",
   "execution_count": 110,
   "metadata": {},
   "outputs": [
    {
     "data": {
      "text/plain": [
       "['../data/Subtitles\\\\Naruto Season 1 - 01.ass',\n",
       " '../data/Subtitles\\\\Naruto Season 1 - 02.ass',\n",
       " '../data/Subtitles\\\\Naruto Season 1 - 03.ass',\n",
       " '../data/Subtitles\\\\Naruto Season 1 - 04.ass',\n",
       " '../data/Subtitles\\\\Naruto Season 1 - 05.ass']"
      ]
     },
     "execution_count": 110,
     "metadata": {},
     "output_type": "execute_result"
    }
   ],
   "source": [
    "files[:5]"
   ]
  },
  {
   "cell_type": "code",
   "execution_count": 111,
   "metadata": {},
   "outputs": [],
   "source": [
    "with open(files[0],'r') as file:\n",
    "    lines = file.readlines()\n",
    "    lines = lines[27:]\n",
    "    lines = [\",\".join(line.split(',')[9:]) for line in lines]"
   ]
  },
  {
   "cell_type": "code",
   "execution_count": 112,
   "metadata": {},
   "outputs": [
    {
     "data": {
      "text/plain": [
       "['A long time ago, a powerful demon fox\\\\Nappeared with nine tails.\\n',\n",
       " 'With its powerful tails,\\n']"
      ]
     },
     "execution_count": 112,
     "metadata": {},
     "output_type": "execute_result"
    }
   ],
   "source": [
    "lines[:2]"
   ]
  },
  {
   "cell_type": "code",
   "execution_count": 113,
   "metadata": {},
   "outputs": [],
   "source": [
    "lines = [line.replace(\"\\\\N\", \"\") for line in lines]"
   ]
  },
  {
   "cell_type": "code",
   "execution_count": 114,
   "metadata": {},
   "outputs": [
    {
     "data": {
      "text/plain": [
       "['A long time ago, a powerful demon foxappeared with nine tails.\\n',\n",
       " 'With its powerful tails,\\n']"
      ]
     },
     "execution_count": 114,
     "metadata": {},
     "output_type": "execute_result"
    }
   ],
   "source": [
    "lines[:2]"
   ]
  },
  {
   "cell_type": "code",
   "execution_count": 115,
   "metadata": {},
   "outputs": [
    {
     "data": {
      "text/plain": [
       "\"A long time ago, a powerful demon foxappeared with nine tails.\\n,With its powerful tails,\\n,it could smash mountainsand create tidal waves.\\n,A band of Ninjas rose todefend their village from attack.\\n,We have to wait untilthe Fourth Hokage gets here!\\n,We can't let it get any closerto our village!\\n,One great Ninja was able toimprison the monster,\\n,but died in the process.\\n,This Ninja was known asâ€¦the Fourth Hokage.\\n,Naruto!\\n\""
      ]
     },
     "execution_count": 115,
     "metadata": {},
     "output_type": "execute_result"
    }
   ],
   "source": [
    "\",\".join(lines[:10])"
   ]
  },
  {
   "cell_type": "code",
   "execution_count": 116,
   "metadata": {},
   "outputs": [
    {
     "data": {
      "text/plain": [
       "1"
      ]
     },
     "execution_count": 116,
     "metadata": {},
     "output_type": "execute_result"
    }
   ],
   "source": [
    "int(files[0].split('-')[-1].split('.')[0].strip())"
   ]
  },
  {
   "cell_type": "code",
   "execution_count": 117,
   "metadata": {},
   "outputs": [],
   "source": [
    "import glob\n",
    "import pandas as pd\n",
    "\n",
    "def load_subtitles_dataset(dataset_path):\n",
    "    # Find all .ass files in the dataset directory\n",
    "    subtitles_paths = glob.glob(dataset_path + '/*.ass')\n",
    "\n",
    "    scripts = []\n",
    "    episode_num = []\n",
    "\n",
    "    for path in subtitles_paths:\n",
    "        \n",
    "            \n",
    "            with open(path, 'r', encoding='utf-8') as file:\n",
    "                lines = file.readlines()\n",
    "                lines = lines[27:]          \n",
    "                processed_lines = []\n",
    "                for line in lines:\n",
    "                    parts = line.split(',')\n",
    "                    if len(parts) > 9:\n",
    "                        processed_lines.append(\",\".join(parts[9:]))\n",
    "\n",
    "                script = \" \".join([line.replace('\\\\N', ' ') for line in processed_lines])\n",
    "\n",
    "                \n",
    "                file_name = path.split('/')[-1]  \n",
    "                episode = int(file_name.split('-')[-1].split('.')[0].strip())\n",
    "\n",
    "                scripts.append(script)\n",
    "                episode_num.append(episode)\n",
    "        \n",
    "\n",
    "    \n",
    "    df = pd.DataFrame.from_dict({\"episode\": episode_num, \"script\": scripts})\n",
    "    return df\n"
   ]
  },
  {
   "cell_type": "code",
   "execution_count": 118,
   "metadata": {},
   "outputs": [],
   "source": [
    "dataset_path = \"../data/Subtitles\"\n",
    "df = load_subtitles_dataset(dataset_path)"
   ]
  },
  {
   "cell_type": "code",
   "execution_count": 119,
   "metadata": {},
   "outputs": [
    {
     "data": {
      "application/vnd.microsoft.datawrangler.viewer.v0+json": {
       "columns": [
        {
         "name": "index",
         "rawType": "int64",
         "type": "integer"
        },
        {
         "name": "episode",
         "rawType": "int64",
         "type": "integer"
        },
        {
         "name": "script",
         "rawType": "object",
         "type": "string"
        }
       ],
       "conversionMethod": "pd.DataFrame",
       "ref": "0a54e586-77f7-49ae-9d71-5752494ec62d",
       "rows": [
        [
         "0",
         "1",
         "A long time ago, a powerful demon fox appeared with nine tails.\n With its powerful tails,\n it could smash mountains and create tidal waves.\n A band of Ninjas rose to defend their village from attack.\n We have to wait until the Fourth Hokage gets here!\n We can't let it get any closer to our village!\n One great Ninja was able to imprison the monster,\n but died in the process.\n This Ninja was known as… the Fourth Hokage.\n Naruto!\n Why did you do such a thing?!\n You're really gonna get it this time!\n I don't care!\n You know your problem?\n You can't do the things I do!\n Only I can do this!\n I'm better than all of you! Believe it!\n There's a problem, sir!\n Lord Hokage!\n What is it?\n Did that Naruto do something again?\n Yes. He climbed onto the Mountainside Images…\n And he vandalized and graffitied all over them!\n Wait!\n Ha ha…\n Why should I?\n Hey, Naruto!\n How did you suddenly get here, lruka Sensei?\n The question is what are you doing here when you should be in class now?\n Now listen, Naruto.\n You failed the last graduation test and the one before that.\n This is no time to be goofing off, you fool!\n We will have a re-test on the Transformation Jutsu!\n Even those who already passed will take it!\n Whaaaat?!\n Sakura Haruno. Here I go…\n Transform!\n OK!\n I did it!\n Cha!\n Did you see that, Sasuke?\n Next, Sasuke Uchiha.\n Yes.\n O-OK.\n Next, Naruto Uzumaki.\n This is a real pain.\n And it's all your fault.\n Like I care!!\n OK…\n Good luck, Naruto…\n Transform!\n How was it?\n I call it the \"Sexy Jutsu\"!\n You fool! Stop making idiotic spells!\n Darn…\n Darn…\n I won't let you go home unless you clean that all up.\n I don't care…\n There's nobody home anyway.\n Naruto...\n What is it this time?\n What I meant was…\n If you clean up all that mess, I'll buy you ramen tonight.\n Huh?!\n Yes! I-I will finish it no time!\n Enter: Naruto Uzumaki!\n Naruto.\n Why did you vandalize those faces?\n Don't you know who the Hokage leaders are?\n Of course, I do!\n I know they earned the title Lord Hokage\n because they were the best Ninja of their time, right?\n Especially the Fourth Hokage was a hero\n who saved the village from the nine-tail demon fox.\n Then why did you do that?\n Because I'll become a Hokage myself.\n And I'll be the greatest Hokage of all time!\n So that everyone will finally learn to accept me!\n By the way, Sensei, I have a favor to ask.\n You want another bowl?\n Mmmm…No…\n Can I borrow that Leaf headband for a while?\n This?\n No no!\n This is worn only by those who have graduated from Ninja Academy.\n Tomorrow, you will…\n You're so mean!\n So that's why you took off your goggles…\n Humph... One more bowl please!\n We are now about to begin the graduation test.\n When your name is called, proceed to the next classroom.\n The test is on the Clone Jutsu.\n Oh no…\n Of all the…! That is my weakest Jutsu!\n But still… I will do it no matter what!\n Clone Jutsu!\n Disqualified!\n Iruka Sensei.\n His physical coordination and stamina are excellent.\n And he managed to come up with something.\n Isn't that enough for him to pass?\n Mizuki Sensei... All the others created three or more clones.\n Naruto created just one.\n And it's practically useless. I can't give him a passing mark.\n I 'm a Ninja now!\n You did well. That's my son.\n Congratulations for your graduation.\n I'll cook something good tonight!\n Look at that one.\n It's that boy. I hear he's the only one who failed.\n Serves him right.\n Imagine what would happen if he became a Ninja.\n Isn't that the boy who is actually…\n Hey! We're not supposed to talk about that.\n Iruka. We need to talk later.\n Yes, sir.\n Iruka Sensei isn't trying to be mean to you.\n Then why only me?\n He wants you to become strong from the bottom of his heart.\n You both don't have parents.\n But I really wanted to graduate.\n Heh... I guess I have no choice…\n I'll let you in on a big secret.\n Secret?\n Iruka.\n What is it, Lord Hokage?\n I know how you feel. But…\n Naruto also grew up without knowing the love of his parents…like you.\n Let me go!\n My mom and dad are still out there fighting!\n Wake up, Iruka Sensei!\n What's the matter?\n Come to Lord Hokage's immediately!\n I heard that Naruto… stole the Scroll of Sealing.\n The Scroll of Sealing?!\n Let's see…\n The first Jutsu is… Multi-Shadow Clone Jutsu?\n What?! Already a Jutsu I'm no good at?\n Lord Hokage! We can't forgive him!\n This is not just a prank!\n The Scroll is a dangerous item that the First Hokage sealed!\n Depending on its use…\n It will be a major disaster if it is taken out of the village!\n Yes. Bring Naruto here at once!\n Yes, sir!\n Where did you go…Naruto?\n I will tell everyone in the village about this and eliminate Naruto…\n Then the Scroll of Sealing will be mine!\n Hey you, Naruto!\n You found me..\n And I've only learned one Jutsu.\n He's been practicing the Jutsu…\n until he's become this exhausted and dirty…?\n Listen, listen! I'm gonna show you this amazing Jutsu!\n You're gonna let me graduate if I can do it!\n Isn't it true that I can graduate if I can do one of the Jutsu written here?\n Who told you that?\n Mizuki Sensei. He told me about this scroll, and this place…\n Mizuki did?!\n I'm impressed you found this place.\n I see now…how it is.\n Naruto, give me that scroll.\n Wait, wait… What's going on here?\n Naruto! Never give him that scroll!\n It is a dangerous object that contains forbidden Ninja Jutsu. It was sealed.\n Mizuki used you in order to get it for himself!\n W-Wha--?\n Naruto, Iruka is only afraid of you holding that scroll!\n Huh?\n What are you saying, Mizuki! Don't let him fool you, Naruto!\n I will tell you the truth.\n Idiot! Don't do that!\n After an incident 12 years ago, a rule was created.\n A rule?\n That is, Naruto, a rule everybody but you knows.\n Except me?! \t\t\t\t\tWhat is it?\n Stop it, Mizuki!\n The rule forbids anyone from revealing that you are actually the Demon Fox Spirit!\n Huh?\n You are actually the Demon, Nine-Tailed Fox Spirit,\n who killed Iruka's parents and destroyed our village!\n Stop it!\n Everyone has been deceiving you ever since.\n Didn't you find it strange?\n Why everyone hated you so much?\n No! No! No! No! No!\n Naruto…\n Nobody accepts you. That's why Iruka hates you so much!\n Iruka... Naruto grew up without the love of parents.\n Everyone avoids him like the plague after what happened.\n That's why he keeps misbehaving.\n It's the only way for him to get any attention or acknowledgement.\n He pretends to be tough, but inside he is really hurting.\n Die, Naruto!\n Naruto! \t\t\t\t\tGet down!\n Why…?\n Because you and I are the same.\n After my parents died,\n nobody paid attention to me or gave me any support.\n I wasn't a good student in school.\n I was the class clown… because I wanted people to notice me.\n I couldn't get noticed through excellence, so I kept doing stupid things.\n It was so hard.\n Isn't that right, Naruto?\n You felt so lonely…right? And you suffered inside, right?\n I'm sorry, Naruto….\n If I had been more responsible, maybe you wouldn't have suffered so much.\n Don't make me laugh!\n Iruka has always hated you, ever since you killed his parents!\n He's just saying all that to get the Scroll of Sealing back!\n Naruto!\n Narutoooooo!\n He is not the type of kid who will change his mind.\n He will take revenge against our village using that scroll!\n Didn't you see his eyes? Those are the eyes of a Demon Fox.\n No… Naruto…isn't…like that at all!\n All I want is to kill Naruto and get the scroll.\n I'll take care of you later!\n I-I won't let you…\n Well, well.\n Mizuki has a big mouth!\n Naruto feels worse than he's ever felt.\n He might unleash the power locked up inside him.\n The Scroll of Sealing is now with him.\n There's a slight chance he might actually release\n the Nine-Tailed Fox Spirit sealed inside him!\n If that happens…\n I've found him!\n Naruto!\n Everything that Mizuki said was a lie!\n Give me that scroll, quick! Mizuki is after the scroll!\n It can't be…\n Why is it, Naruto?\n How…\n did you know I wasn't Iruka…?\n Because I'm Iruka.\n I see.\n What's in it for you to protect the one who killed your family?\n I'm not gonna let a stupid idiot like you get that scroll!\n You're the idiot. Naruto is the same as me.\n Same?\n Anyone can do whatever he wants once he has the scroll.\n There is no way that that monster…\n that Fox Spirit, won't take advantage of the power of that scroll!\n You're right…\n I guess it was true all along!\n See, Iruka Sensei never really cared for me at all!\n ...if he was the Demon Fox Spirit.\n But Naruto is different!\n I know that he is an exceptional student.\n He works very hard,\n and he's single-minded and clumsy at the same time.\n No one accepts him, but he knows the meaning of human suffering.\n He is not the Demon Fox Spirit.\n He's Naruto Uzumaki of the Village Hidden in the Leaves!\n You are so gullible. \t\t\t\t\tlruka!\n I was gonna take you down later, but I have changed my mind.\n Die!\n I guess this is the end for me…\n Naruto?!\n You surprised me there, freak.\n If you ever lay a hand on Iruka Sensei, I'll kill you!\n Shut up! I can take care of a kid like you with a single blow!\n Why don't you try then? I'll strike you back a thousand-fold!\n Let's see you try! Show me what you can do, Demon Fox!\n Shadow Clone Jutsu!\n Naruto! You've…\n Those aren't just images but actual clones! That's an advanced Ninjutsu!\n What's this…?\n What's the matter? \t\t\t\t\tC'mon!\n Weren't you gonna get me with one blow? Here!\n In that case… I'll come to you.\n I kinda got carried away. lruka Sensei, are you okay?\n Yeah.\n He's really something.\n Maybe it is true.\n Maybe he will surpass all the Hokage leaders…\n Naruto, come over here. I'd like to give you something.\n Has anyone found Naruto yet?\n No.\n Darn, this is going to be bad…\n There's no need to worry anymore.\n Lord Hokage!\n He'll be back soon.\n Sensei, how much longer?\n OK, you may open your eyes now.\n Congratulations…on your graduation.\n In celebration, we'll have ramen tonight!\n Iruka Sensei!\n That hurts!\n Naruto…\n I was going to lecture to you...\n that the road gets more difficult now that you're a Ninja.\n But I guess I'll just wait to tell you that until we get to the ramen stand…\n W-What do you want, you little shrimp? Quit following me!\n You're smaller than me and\n you're saying that you're gonna become the Fifth Hokage?\n I don't care if you are the 3rd Hokage's grandson or not.\n It's not that easy to be a Hokage!\n If you want it that bad, you're gonna have to beat me first!\n Next episode:  \"My Name Is Konohamaru!\"\n Watch my outstanding performance!\n"
        ],
        [
         "1",
         "2",
         "C'mon!\n Running like a fugitive,\n Being chased by something\n Inside my heart is pounding\n My throat dry like it's withering\n For no single one,\n To none does belong,\n This time is ours, right now...\n Unraveling the pain,\n Unraveling our hearts,\n Unraveling shadows\n Stifling our breath,\n Reaching for beyond,\n Tearing through the dark\n In fighting and in love\n To the distant light above,\n Yes, we are on the way\n I wanna rock...\n Rockin' my heart\n Hey, you!\n Are you sure you want to look like that?\n Yes, of course! C'mon! So hurry hurry!\n Don't regret it later.\n Say cheese!\n My Name Is Konohamaru!\n I couldn't decide on how to look.\n It took me 3 hours to decide.\n But as you can see, it's more like a work of art.\n Doesn't it look great?\n Take it over.\n What?!\n Take it over.\n Stop saying that!\n Transform!\n Oh please, Lord Hokage…\n The Sexy Jutsu… That's quite a devious technique.\n By the way Naruto, where's your headband?\n I won't wear it until the orientation. lt might get scratched\n Well, that's just fine.\n But the Ninja Registration Form is a very important document\n held in high regard by our village.\n Why do you want to look like this?\n Because!\n Anyway, how should I know about all that stuff?\n Old man! Get ready to fight!\n I am going to be the Fifth Hokage!\n Ouch!\n If it's not one thing, it's another….\n Drat! Is this a trap?\n Are you okay, Honorable Grandson?\n May I just inform you that there aren't any traps here…\n Huh? What's with this runt?\n What?!\n I know this kid… He's that Nine-Tailed boy!\n He's a good-for-nothing scoundrel!\n You must have done this to me!\n You tripped all by yourself, stupid!\n Hey! Let go of him!\n He is the Honorable Grandson of the Third Hokage!\n He stopped as soon as he learned who I am….\n He's like my four-eyed teacher.\n He's just like everyone else!\n What's the matter?\n Weren't you gonna hit me, huh?\n Can't do it 'cuz I'm the Hokage's grandson, eh?\n As if I care! \t\t\t\t\tlmbecile!\n This guy…\n What?!\n Good grief…\n Listen to me.\n You are the Honorable Grandson of the Third Hokage.\n Even though that scoundrel hit you, you must not associate with his kind.\n Nothing good will come of your tangling with him.\n This is your distinguished teacher Ebisu,\n and I am never wrong about these things!\n Don't you want to become the Fifth Hokage?\n Then allow me to teach you Ninjutsu,\n so that your dream will become a reality.\n That's right.\n Stick with me and you will gain a shortcut towards becoming the Fifth Hokage.\n Is that clear, Honorable Grandson?\n He's gone!\n It seems he's gone after Naruto.\n Oh no!\n This is terrible!\n Honorable Grandson!\n How did he become like this?\n That was the 20th sneak attack today.\n And now he's in the company of Naruto. I'm a bit worried.\n I just hope he doesn't pick up more foolishness.\n Huh?\n Stop following me!\n What is it now?!\n Your camouflage is pathetic.\n You've seen through my disguise...\n Your reputation is well-earned.\n I will allow you to make me your apprentice.\n But you must first teach me that  \"Sexy Jutsu\"  technique\n you used to beat Grandpa Hokage.\n You gotta be kidding.\n I beg you to say yes, boss!\n Huh?\n Boss?\n Boss! Boss! Boss!\n I guess I have no choice.\n Listen.\n In order to become a skilled Ninja,\n you must first learn to control your Chatora.\n Chatora?\n Yes, Chatora.\n Boss, I think you mean Chakra.\n Silence!\n That's what real Ninjas call it!\n Oh! I didn't know that!\n Whew… I'm glad he's a fool.\n Listen. Chakra essentially means…\n Basically, it is the energy needed in order to use Jutsu.\n Huh?\n In other words, fundamentally Ninja Arts combine the Chakra,\n the physical energy accumulated from each cell in the body\n with spiritual energy intensified through training and experience.\n This combined energy is summoned with certain hand signs.\n You made me think you knew all that,\n when you were just reading from a scroll!\n Much has been said about perfecting the Ninja techniques,\n but it really boils down to just one thing.\n And what is that?\n Hard work and guts.\n Hard work and guts?\n That's right.\n So be ready for the challenging tasks I will give you.\n Yes, boss!\n Good. Let's start right now. Transform for me.\n Huh?\n Let me see first how much you already know.\n But what do I transform into?\n OK... First, transform into that lady.\n An easy task, boss.\n Transform!\n Well, do I look like her?\n Uhm… Well, the clothes do and…\n And what's so similar about that?!\n Honorable Grandson.\n If you will transform into me, at least try to look a little cuter, OK?\n She's scary!\n Why am I the one who gets hit?\n OK! Next, we'll do some research on sexiness!\n Yes, boss!\n I told you I don't allow reading here, Naruto!\n This is the last test. Put all of your effort into it!\n Yes, boss!\n Transform!\n Naruto! It's you again!\n Why is it always me…?\n Sorry.\n Huh?\n It's because I'm the Hokage's grandson.\n Don't worry about it.\n Huh?\n You're now ready to perform the Sexy Jutsu!\n You just need more practice.\n Yes, boss!\n OK, keep in mind… the point is for \"boom boom boom\"!\n Now do it!\n Yes, boss! \t\t\t\t\tTransform!\n What do you think?\n That won't do!\n More slender.\n Yes, boss!\n Is this okay?\n Not yet. \t\t\t\t\tMore attractive.\n Yes, boss!\n How about now?\n That Naruto… What is he teaching the Honorable Grandson…?\n Where the hell could they be…?\n I am a distinguished teacher training potential Hokage.\n All those who interfere will be eliminated.\n You know I've been wondering…\n You seem obsessed with beating your Grandpa Hokage.\n My name is Konohamaru.\n It was Grandpa who gave me that name.\n He named me after our village.\n It should be easy for everyone here to remember.\n But nobody ever calls me by that name.\n When they see me, all they see is the grandson of Lord Hokage.\n No one sees me for who I really am.\n I can't stand it anymore.\n That's why…\n That's why I want the title of Lord Hokage now.\n Idiot…Who do you think will accept you, huh?\n Huh?\n You won't win the title that easily, you know.\n What?!\n It's not that simple.\n If you're really serious about gaining the title of Lord Hokage…\n What?\n You'll have to beat me first!\n Lord Hokage! I've been looking for you.\n Iruka.\n Did Naruto re-submit his Ninja Registration Form?\n Yes.\n When I lectured to him the other night at the ramen stand,\n he said he will make everyone accept him now that he's a Ninja.\n He's been happy since then.\n It might not be easy for Naruto to realize that dream.\n Huh?\n As you well know,\n only the villagers who fought the Nine-Tailed Fox Spirit 12 years ago\n know that the monster is sealed inside Naruto.\n I ruled that no one shall speak about that incident.\n I have severely punished those who have broken this rule.\n Now our children know nothing about it.\n That is the only positive development for Naruto.\n Before the Fourth Hokage trapped the monster and died,\n his last wish was for the villagers to regard Naruto as a hero.\n A hero?\n The Fourth Hokage sealed the monster into the navel of a newborn baby\n whose umbilical cord had just been cut.\n As the receptacle for the Nine-Tailed Fox Spirit,\n Naruto saved the village.\n Unfortunately, the other villagers don't see him like that.\n Some even say that Naruto is the Nine-Tailed Fox Spirit himself.\n Little by little, that attitude has been passed down to their own children.\n Iruka. \t\t\t\t\tDo you know?\n What, sir?\n When someone is hated and people refuse to accept his existence,\n he sees it in the eyes of the people around him.\n I have found you!\n Huh?\n That Demon Fox!!\n That cold look! lt's always like that!\n Honorable Grandson, we have to go now.\n No way!\n I want to beat Grandpa right now so I can win the title of Lord Hokage!\n Don't get in my way!\n A Hokage must first know about virtue, honor, etiquette, wisdom, loyalty, faith,\n judgment, obedience and all that.\n He must be skilled at more than thousand techniques…\n And then...\n Transform!\n Take this! Sexy Jutsu!\n What? \t\t\t\t\tlt didn't work!\n What kind of a disgraceful spell is that?!\n I am a gentleman!\n Such vulgar attacks will never work on me!\n Honorable Grandson! That rascal will only make you an imbecile!\n Stick with me and...\n you will gain a shortcut towards becoming the Fifth Hokage.\n C'mon, let's go!\n No way!\n Shadow Clone Jutsu\n Wow! \t\t\t\t\tFantastic!\n Ha! \t\t\t\t\tThat's nothing.\n I am a distinguished teacher.\n I am not as weak as Mizuki.\n Boss…\n Transform!\n Transform!\n Oh, Master Ebisu…\n I call it \"the Harem Jutsu\"!\n He combined the Multiple Clones with his own Sexy Jutsu.\n That's another devious attack.\n I probably won't even survive that one.\n I can't even beat that four-eyed teacher of mine!\n I want the title of Lord Hokage so badly! I want to be recognized by everybody!\n But I keep failing.\n You think it's that easy?\n Huh?\n It's given only to the greatest Ninja in the village.\n Everybody must learn to believe in you.\n I've been through a lot already.\n It's been one struggle after another.\n But after all that, I found someone who accepts me.\n I had to go through a lot... Just for one person.\n You had better push yourself.\n For what?\n The path of getting the title, Lord Hokage, is a brutal one.\n There's no such thing as a shortcut.\n If you're really serious about attaining the title of Lord Hokage\n You'll have to beat me first.\n Who do you think you are, lecturing me like that?\n I won't be your apprentice anymore.\n From now on, you're my rival.\n Unfortunately for you, tomorrow I graduate from the Ninja Academy.\n Still, I'll consider you an equal someday when we fight for the title of Lord Hokage.\n Let's look forward to that, Konohamaru.\n You still have a long way to go to become a real Ninja.\n Aaah! Why do I have to be in the same group with Sasuke?\n The guy I hate the most?\n Sakura keeps saying  \"Sasuke Sasuke Sasuke!\"\n and doesn't even pay attention to me!\n It makes me so mad! I got it! I'm going to pull one on him!\n I'm not gonna let him be so cool in front of Sakura!\n Next Episode:  \"Sasuke and Sakura: Friends or Foes?\"\n Watch my outstanding performance!\n"
        ],
        [
         "2",
         "3",
         "C'mon!\n Running like a fugitive,\n Being chased by something\n Inside my heart is pounding\n My throat dry like it's withering\n For no single one,\n To none does belong,\n This time is ours, right now...\n Unraveling the pain,\n Unraveling our hearts,\n Unraveling shadows\n Stifling our breath,\n Reaching for beyond,\n Tearing through the dark\n In fighting and in love\n To the distant light above,\n Yes, we are on the way\n I wanna rock...\n Rockin' my heart\n Today's…a special day, so…\n Time to eat!\n Sasuke and Sakura: Friends or Foes?\n Fight me, here!\n What're you doing, Konohamaru?\n Very good, Naruto…\n You're the man I expected you to be.\n I didn't do anything, you know…\n Let's fight fair!\n Sorry! I've got an orientation meeting to go to.\n An orientation meeting…?\n Cause… As of today, I'm a Ninja!\n Oh…\n Sakura! Shouldn't you be heading out soon?\n I was thinking of leaving now!\n Cha! How long are you planning to treat me like a child?!\n That's right… I'm not a student of the academy anymore…\n I'm a Kunoichi of the Leaf Village, Sakura Haruno!\n I'm off!\n Morning, Sakura.\n Morning... Ino.\n Who would've thought you'd be able to graduate.\n Ancient history has nothing to do with it.\n As of today, we're both full-fledged Ninjas...\n I won't lose to you anymore, Ino!\n What the--? Why are you here?\n Today's meeting is for graduates only.\n Hey, don't you see this headband?\n As of today, I'm a Ninja, too!\n How can I put it, it really suits me.\n So Naruto…was able to graduate.\n Goal!\n I won again, Sakura!\n What're you saying…?\n The tip of my foot got in one centimeter faster!\n You must be blind.\n It's Sakura.\n Oh…\n Sakura's looking at me…\n Hey, Sakura!\n Mor... morning, Sakur--\n Get outta' the way!\n M-Morning, Sasuke…\n Mind if I sit next to you?\n Hey! I'm going to sit next to Sasuke!\n First come, first served!\n I got in the classroom sooner!\n I did!\n If that's the case, then I did!\n I was first!\n I'm sitting next to Sasuke!\n How annoying...\n Is that this year's top rookie, Sasuke Uchiha?\n Yes.\n The sole survivor of the Uchiha clan?\n Yes.\n Naruto Uzumaki, eh…\n Naruto! Don't glare at Sasuke!\n Sakura…\n Everyone's all Sasuke Sasuke.\n What's so great about this guy?!\n Just beat him up, Sasuke!\n Yeah! Yeah!\n What? Really?\n Oh! Sorry!\n Wha--?\n Whoa!\n Cha! I was planning on seizing Sasuke's first kiss!\n You jerk… Naruto! I'll kill you!\n – My mouth is rotting. – Huh? Was that my fault?\n What? I feel rage…\n Naruto…\n You…\n An accident… lt was an accident\n You are annoying!\n Yikes!\n Naruto…He's at the center of trouble as usual.\n As of today, you all have become full-fledged Ninjas…\n However, you're still Genin.\n The tough part's still to come!\n From here on, you'll be in a squad of three\n and carry out your missions under your Jonin teachers.\n A squad of three?!\n I wonder who's going to be grouped with Sasuke.\n I don't know…\n Cha! I'll be the one grouped with Sasuke, naturally!\n Squads of three, eh. lt'll just slow me down…\n First will be Sakura.\n And the other person…\n can be anyone other than Sasuke!\n The groups have been determined\n so that the strength of the groups will be balanced.\n Now for the assignments!\n Now then, next is Group Seven…\n Naruto Uzumaki!\n Sakura Haruno.\n Hooray!\n I'm with…Naruto…?\n And…Sasuke Uchiha!\n Hooray!\n I'm with…Sasuke…?\n So I'll be in a different group from Naruto, huh…\n Next is Group Eight. Hinata Hyuga!\n Y-Yes…\n Kiba Inuzuka!\n Shino Aburame!\n Why is this happening…?\n Group Nine.\n Cha! Love will be victorious!\n Man…\n Why do women think that kind of guy's so great…?\n Don't you understand, Shikamaru?\n Well, I'm not a woman…\n That's why you are not popular among girls.\n I wouldn't want to be grouped with you.\n Group Ten. Ino Yamanaka.  Shikamaru Nara.\n It appears we've been grouped together.\n And Choji Akimichi.\n And Fatty on top of that...\n That's all for the group division.\n Iruka Sensei!\n Why does an exceptional student like me have to be\n in the same group with this guy?!\n Sasuke has the best grades of the graduates.\n Naruto, you're at the bottom!\n Of course, this is how it is when trying to balance the strength within groups.\n Just don't get in my way, loser!\n Hey, what did you say?!\n You want to fight, loser?\n Knock it off, Naruto!!\n In the afternoon, I'll introduce you to your Jonin teachers.\n You're dismissed until then!\n Sasuke!\n Where'd you go, Sasuke?\n I thought since we're in the same group and all, we'd eat together.\n Sakuraaaa!\n Since we're in the same group and all, let's eat together!\n Why should I have to eat with you?!\n Well... we're in the same group, so…\n You're…annoying.\n Sasuke! Where are you?\n Darn! This is no fun.\n I 'm finally in the same group as Sakura… and then it's like this…\n I wonder if something good will happen…\n That's it!\n Listen up!\n As long as we're in the same group, you will follow my instructions.\n Yeah-yeah…\n She becomes a real pain in the neck when people try to argue with to her, so…\n Let's all go out for some BBQ sometime.\n Oh, man…\n Hmm?\n Naruto…?\n Huh?\n Oh!\n Jerk, it's Naruto, isn't it!\n Darn! Just be quiet.\n Naruto! I won't forgive you if you hurt Sasuke!\n What happened?\n Heh! Idiot…\n So Naruto got beaten by the one he challenged…\n Of course! Naruto's no match  for Sasuke!\n No need for me to feel rushed…\n From here on out,\n I'll be in the same group as Sasuke for the long haul…\n But…\n Even if I were to use my feminine charms…\n my proportions are below average…\n All that's above average is  the width of my forehead…\n What should I do…?\n Huh? No way!\n Sasuke…is looking...\n this way!\n And with such a passionate look!\n You…have a charmingly wide forehead.\n It makes me want to kiss it.\n That's what its surface area is for.\n Yeah, right…\n I'm not just some kid who believes in fairy tales…\n There's no way.\n You…have a charmingly wide forehead.\n What?!\n It makes me want to kiss it.\n Cha! This fairy tale is for real!!\n Or that's what Naruto would say.\n I've got something to ask you.\n What?\n What do you think…of Naruto?\n He's quite at home interfering and enjoys it when I make mistakes.\n Naruto doesn't understand one thing about me…\n He just annoys me!\n All I want…is for you to accept me, Sasuke.…\n For me to accept you…?\n I'll do anything for the sake of that.\n I was careless!\n W-Wha--?!\n Gotcha!\n I didn't think someone who couldn't perform the Clone Jutsu properly\n could do the Shadow Clone Jutsu.\n I'm…desperate, so…\n I finally know why I…\n I like Sakura so much.\n Diarrhea at a time like this?!\n What's wrong?\n I-I'll be right back… 225\t01:41:53:26\t01:41:56:04 Sasuke's so shy!\n I guess he needs to prepare himself mentally…\n That was close!\n My stomach hurt so much that the Jutsu was about to wear off!\n Why does my stomach have to hurt at such a good time?!\n I'm annoying... huh…\n She said so again…\n And I transformed into Sasuke and had got a little closer to Sakura…\n In that case… I'll play an obnoxious Sasuke …\n and make her hate him!\n Oh Sasuke, you're such a shy bad boy!\n Are you prepared? I'm raring to go!\n H-Hey, Sasuke!\n Where's Naruto?\n Oh, there you go changing the subject again…\n Just leave Naruto alone!\n All he does is pick fights with you!\n It's because he wasn't raised right!\n You know!\n He doesn't have any parents, right?\n He always selfishly does  whatever he wants!\n My parents would get mad at me if I did something like that!\n There are no parents to nag you if it's just you alone!\n So his selfishness comes out at various times!\n The loneliness.\n Huh?\n It's something worse than getting scolded by parents and...\n W-What's gotten into you…?\n You…\n annoy me.\n Darn! It finally stopped!\n I wonder if Sakura's still waiting.\n W-What are you doing here?!\n I used the Escape Jutsu, the very basic of techniques.\n Oh...\n What were you planning to do…\n by transforming into me?!\n I thought it'd be fun, so I gave it a try!\n The Shadow Clone Jutsu again?!\n I'll show you that I'm really amazing!\n I'll defeat you…\n and make you accept me!\n Prepare yourself, Sasuke!\n Just like that, my stomach again…\n B-Bathroom!\n I'm first, I say!\n I'm first, I say.\n I'm about to go in my pants, I say!\n How stupid!\n \"You annoy me\" …huh?\n I see. So this is how Naruto must've felt…\n I wonder if I can… be a bit more nice next time…\n Darn.\n Did I eat something bad?\n Naruto…\n Smile…Smile…\n Let's go back to the classroom, Naruto.\n Sakura…\n Payback for earlier, huh?\n Sasuke's turned himself into Sakura…\n You're trying to trick me, right, Sasuke?!\n I don't think so!\n Ow-ow-ow… What the heck is going on?!\n Oh…\n You idiot, Naruto!\n So, this is Naruto's room…\n And Sasuke of the Uchiha clan is  also in the group you'll be in charge of.\n I wish you good luck!\n The expiration date…\n of this milk has passed quite awhile ago…\n He'll get sick if he drink this.\n It seems like that things are going to get disastrous.\n What the heck is going on?!\n What is going on?!\n This isn't the same Kakashi Sensei from yesterday.\n Is this really the same Kakashi Sensei\n who got caught in my trap and breezily came late?\n Darn it! Darn it!\n No way am I giving up!\n I'll defeat him and clear this super difficult testl!\n No way am I going back now!\n Next episode:  \"Pass or Fail: Survival Test\"\n Don't miss my outstanding performance!\n"
        ],
        [
         "3",
         "4",
         "C'mon!\n Running like a fugitive,\n Being chased by something\n Inside my heart is pounding\n My throat dry like it's withering\n For no single one,\n To none does belong,\n This time is ours, right now...\n Unraveling the pain,\n Unraveling our hearts,\n Unraveling shadows\n Stifling our breath,\n Reaching for beyond,\n Tearing through the dark\n In fighting and in love\n To the distant light above,\n Yes, we are on the way\n I wanna rock...\n Rockin' my heart\n He's late.\n Naruto!\n Stay still.\n Why's it that only our squad's teacher is late?\n The other squads have gone off somewhere with their new teachers,\n and Iruka Sensei's also left.\n Don't look at me.\n Hey, what're you doing, Naruto?!\n Hey!\n It'll be his fault because he's late.\n Man! You're asking for it!\n I like stuff like this!\n A Jonin wouldn't get caught in such a weak booby trap.\n That's right. You're such an idiot...!\n I got him, I got him...\n I-I'm sorry, sir.\n I tried to stop him, but Naruto did it on his own...\n It's all good.\n Get real. ls he really a Jonin?\n How can I put this?\n As for my first impression of you guys...?\n Well, I hate you.\n Pass or Fail: Survival Test\n Let's see.\n First off, let me have you guys introduce yourselves.\n Introduce ourselves...\n What should we say?\n Your likes, dislikes, your future dream, hobbies, things like that!\n Hey!  Before that, please tell us about yourself.\n Me? My name's Kakashi Hatake.\n I don't feel like telling you guys about my likes and dislikes.\n I've never really thought about my future dream...\n As for my hobbies, I have many.\n In the end, isn't all we know his name?\n Yeah.\n Next is you guys.\n Let's start with you.\n My name's Naruto Uzumaki!\n I like instant ramen,\n but what I like even more is the ramen from Ichiraku\n that Iruka Sensei treats me to.\n What I dislike is the three minutes\n after pouring hot water in the instant ramen.\n My hobby is eating and comparing ramen!\n And my future dream...\n is to surpass the Hokage!\n And so I'm going to get the entire village\n to acknowledge my existence!\n I see...\n this kid's grown up in an interesting way.\n Okay, next.\n I'm Sakura Haruno.\n What I like... I mean, who I like is...\n And, my hobby is, \t\t\t\t\tI mean...\n My future dream is...\n And? What about your dislikes?\n Naruto!\n Girls at her age are probably more interested in love\n than the Ninja Arts.\n And lastly.\n My name's... Sasuke Uchiha.\n I have lots of dislikes, but no likes in particular.\n Oh...\n And...\n I don't feel like summing up my ambition as just a dream\n but I do have an ambition!\n The ambition to restore my clan and without fail...\n to kill a certain man!\n He doesn't...\n mean me, does he?\n Sure enough, Sasuke's cool.\n I knew it...\n Good!\n The three of you are very distinctive and interesting!\n We'll have a mission tomorrow!\n Yes, sir! What kind of mission?\n First, we'll do what we can do with just four people.\n What-what-what?!\n A survival exercise.\n Survival exercise?\n Why are we doing an exercise\n even though this is supposed to be a mission?\n We've had more than our share of exercises in the Academy!\n This is no simple exercise.\n Then... then what kind of exercise is it?\n Hey! What's so funny, Sensei?\n Uh, well, if I tell you, I know you'll grow disenchanted.\n What?\n Of the twenty-seven graduates,\n only nine will be recognized as junior ninjas.\n The remaining eighteen will be sent back to the Academy.\n In other words, this exercise is an extremely difficult test\n with a failure rate of 66% or higher!\n See, see?\n You got disenchanted!\n That's crazy!\n To have suffered that much!\n T-Then, what was the graduation test for?\n Oh, that.\n It was just to select those who have the potential of becoming Genin.\n Whaaaat?!\n Well, that's the way it is.\n I'll be determining whether you pass or fail.\n Bring your complete set of Ninja tools!\n We meet at five in the morning.\n N-No way am I going to be dropped now!\n I've got to have my strength recognized for real.\n I'll be separated from Sasuke if I fail this test.\n This is an exercise of love!\n Okay! You're dismissed.\n Oh... And you'd best skip breakfast.\n You'll throw up.\n Morning.\n Hi, folks. Good morning!\n You're late!\n Well, a black cat crossed my path, you see.\n Ahem! Oh well...\n Okay, it's set for 12:00!\n Today's assignment is to take these bells away from me by noon.\n Those who can't do it won't get lunch.\n They'll be tied to that...\n and I'll eat my lunch before your very eyes.\n So that was the point...\n for us not to eat breakfast...\n But, hold on.\n Why are there only two bells?\n There are only two, so at the very least,\n one will have to go to the logs.\n That person will be disqualified for failing the mission...\n and will return to the Academy.\n It might be one person at the very least,\n or it could be all three of you.\n You can use your Shuriken.\n You won't be able to take the bells unless you come with the intent to kill me.\n But, that's dangerous, sir!\n Y-Yeah, that's right!\n You couldn't even evade a chalkboard eraser!\n In this world,\n those who aren't skilled enough tend to complain more.\n Well, just ignore the loser...\n Begin when I give the \"ready-go\" signal.\n Loser, loser, loser.\n Don't be so hasty. I didn't say start, yet.\n No way...!\n I didn't see him at all.\n So this is a Jonin.\n But, that's fine.\n At least you came with  the intent to kill me.\n How can I put this...?\n I feel like I'm finally starting...\n to like you guys.\n We're going to start.\n Ready... start!\n What do you want to know?\n I didn't think you just came here to drink tea.\n The Jonin in Naruto and company's Group Seven...\n What kind of teacher is he? ls he strict?\n You mean Kakashi? Does he concern you?\n I heard a rumor that concerns me.\n What's this?\n It's a pass-fail list of the junior ninjas\n Kakashi has been in charge of up until now.\n Let me have a look.\n T-This is...!\n Fundamentally, ninja must mask their presence and hide.\n Okay, everyone is hidden pretty well...\n Alright! Let's face off fair and square!\n Oh?\n That goof.\n Say, aren't you a bit off kilter?\n What's off kilter is your hairstyle!\n I'll teach you the first Shinobi Battle Jutsu...\n Taijutsu.\n Taijutsu...?\n That's ninja hand-to-hand combat...\n That being said... he's going to use weapons?\n Make-Out Paradise\n What's the matter?\n Why don't you come at me?\n But hey... what's with the book?\n Why do you ask...?\n It's because I was curious about what happens next.\n Don't worry.\n With you guys as opponents,\n it makes no difference if I'm reading or not.\n I'm going to rip you apart!\n Darn! This time a spin kick!\n Man!\n Wha--?!\n Ninja shouldn't let the enemy take them from behind multiple times, fool.\n The way his hands are positioned...\n Is that the Sign of the Tiger?!\n No way!\n With Naruto as his opponent,\n that's too strong a Ninjutsu no matter how you look at it.\n That Sign... lt's a fire-style skill.\n That idiot teacher's doing more than just running around?\n Naruto, get out of there quick!\n You'll die!\n Too late.\n Leaf Village Secret! Ultimate Taijutsu!\n One Thousand Years of Death!\n Oh, it's not a Ninjutsu.\n Those two are idiots.\n Alright...\n Even so, isn't that against the rules?\n What're we supposed to do about his strength?\n Darn it!\n It wasn't supposed to be like this.\n It... can't be!\n This is more than just a rumor.\n Kakashi's test might be a bit difficult...\n Even so, this means absolutely no one has passed...!\n That's right...\n Kakashi has never had someone pass.\n They have all...\n been annihilated...\n What's the matter?\n You won't get lunch if you can't take the bell by noon.\n I know that, I say.\n You're not very energetic,\n considering you said that you'd surpass the Hokage.\n Darn it! Darn it! I can fight even if I'm hungry.\n I didn't even have dinner last night.\n I shouldn't have gone on a diet.\n I just got a bit careless earlier!\n Darn! I'm hungry, so my strength...\n But... I've got to take the bell, no matter what.\n No matter what...\n I'm... not...\n turning back now!\n I'm going to become a Ninja!\n Security is your greatest enemy!\n Now for my favorite Multi-Shadow Clone Jutsu!\n Seven... Narutos?\n What? They're not just images?\n Are they all real? The real thing?\n Not the clone, but the shadow clone, eh.\n If you ever lay a hand on Iruka Sensei, I'll kill you!\n Show me what you can do, Demon Fox!\n Those aren't just images but actual clones!\n That's an advanced Ninjutsu!\n It's the forbidden Jutsu that did in Mizuki.\n Judging from your ability,\n that Jutsu should have a one-minute limit.\n Even if you talk trash,\n Naruto is Naruto after all is said and done...\n You still can't beat me with that skill.\n W-What?! Behind me?!\n Ninja shouldn't let the enemy take them from behind.\n Right, Kakashi Sensei?\n Using the Shadow Clone,\n I had one of them come up\n from the bottom of the river and sneak behind you!\n Here's one for that attack on my butt earlier!\n Naruto, not bad!\n So... a diversionary tactic, eh?\n Now... allow me to punch you!\n What?!\n The one who got punched was...\n Naruto?\n Ouch!\n You...!\n You're Kakashi Sensei, right?!\n You used the Transformation Jutsu to change yourself, didn't you?!\n It's you!\n You're Kakashi Sensei, I say.\n You smell like Kakashi Sensei!\n The smell of an old guy!\n Why you--!\n Hey! For the time being, let's try undoing the Jutsu.\n If we do that, only the two will remain... so...\n You should've realized that sooner, you idiot!\n You're me, you idiot! Just undo the Jutsu!\n Naruto...\n You're embarrassing to watch...\n That was the Substitution Jutsu, you fool.\n Essentially, it's a skill used to quickly switch one's own body\n with an object or animal.\n This makes your enemy think you're being attacked,\n but then you strike during their unguarded moment.\n After letting himself get caught by the real Naruto,\n the Jonin fool switched bodies with one of the clone Narutos.\n Not only did he make Naruto think he'd been nailed...\n he used Naruto's own attack on him.\n A bell?!\n You really must have been in a hurry.\n You've dropped a bell!\n What the heck is this?!\n Of course it's a trap...\n H-H-Hey!\n That jonin doesn't lower his guard even when he's fighting Naruto.\n The bell!\n You have to think when using Jutsu.\n They can be used against you.\n Also...\n ...don't get caught in an obvious trap, you fool.\n A Ninja must see through deception!\n I know that, I say!\n You know, I'm telling you because you don't get it.\n Listen up!\n Your movements are wasteful.\n Now!\n He finally dropped his guard!\n You're so...\n No way!\n You jerk Sasuke!\n You're overdoing it!\n Darn it!\n At this rate, there's no way I can beat Kakashi Sensei.\n But if I don't take the bell...\n I won't get lunch...\n No... I'll fail the test!\n He says a Ninja must see through deception,\n but I have no idea what that means.\n How in the world can I take the bell back\n from Kakashi Sensei?!\n Next episode:  \"You Failed! Kakashi's Final Decision\"\n Don't miss my outstanding performance!\n"
        ],
        [
         "4",
         "5",
         "C'mon!\n Running like a fugitive,\n Being chased by something\n Inside my heart is pounding\n My throat dry like it's withering\n For no single one,\n To none does belong,\n This time is ours, right now...\n Unraveling the pain,\n Unraveling our hearts,\n Unraveling shadows\n Stifling our breath,\n Reaching for beyond,\n Tearing through the dark\n In fighting and in love\n To the distant light above,\n Yes, we are on the way\n I wanna rock...\n Rockin' my heart\n You have to think when using Jutsu.\n They can be used against you.\n Also, don't get caught in an obvious trap, you fool.\n A Ninja must see through deception…got it?\n I know that!\n You know, you say that because you don't get it. Listen up.\n Your movements are wasteful.\n Now!\n He finally dropped his guard!\n You're so...\n No way!\n You jerk Sasuke! You overdid it.\n Damn! Another substitution…?\n He must have found out my location with those Shuriken!\n He purposely lowered his guard! Serves me right…\n I fell for the trap.\n So he's over there, eh…\n Sasuke…Where are you…?!\n Don't tell me, Kakashi Sensei already…\n No!\n That couldn't happen to Sasuke, right?!\n Safe! He didn't notice me.\n Sakura, behind you.\n Huh?!\n What's up with that \"A Ninja must see through deception\" stuff?!\n Darn it! I'll never fall for his trap again!\n I fell for it again!\n You Failed! Kakashi's Final Decision\n What was that?! Huh?!\n Hold on! Where's Sensei?!\n Huh?! What's going on?!\n Huh?! What's what?!\n Sakura…\n Sasuke?!\n Sa…Saku…ra…\n P-Please…help…me…\n Maybe I went a bit overboard…\n But it's really something she should notice…\n Was that voice…Sakura's…?\n Shinobi Battle Skill ♪2, Genjutsu.\n Sakura was easily lured.\n Genjutsu, huh...?\n An illusory mind-controlling technique. I'm not surprised she got lured.\n However…\n I'm different from them.\n Why don't you say that after you get a bell…Sasuke?\n It's no use just using straightforward attacks.\n A trap?!\n What?!\n This guy's...?!\n What a guy.\n There's no time to read \"Make-Out Paradise.\"\n What…? \t\t\t\t\tI…?!\n That's right! I saw Sasuke on the verge of dying and I…\n Sasuke! Don't die and leave me here!!\n Where are you?!\n So that's what it looks like behind the logs.\n Oh! There are box lunches on the stone!\n A Ninja must see through deception... eh?\n Well! I'll acknowledge that you're different from those two.\n Horse!\n Tiger!\n Fire Style! Fireball Jutsu!\n What?! That's not a Jutsu that a Genin can do…\n He shouldn't have enough Chakra yet!\n He's gone! ls he behind me?! No, above me?!\n Where is he?!\n I'm under you!!\n Wha--?!\n Earth Style: Headhunter Jutsu.\n Shinobi Battle Skill ♪3, Ninjutsu.\n How's that? You can't move, heh?\n Although, you're…already starting to make your mark.\n But, oh well.\n They do say that the nail that sticks up gets hammered down, so…\n Damn it!\n I don't have to naively take those bells. I'll just eat in secret right now!\n Let's eat!!\n Hey.\n I was just joking…\n Too late!\n Darn it…! Is there this much of a difference in strength…?\n Sakura...\n This time it's a freshly severed head?!\n What's up with her?\n Sasuke?\n You're okay!\n Hey, cut it out! Don't cling to me!\n There's not much time left until noon. I'm going.\n Sasuke, you're still going after the bells?!\n I was able to touch them last time. Next time I'll be able to take them.\n What?! \t\t\t\t\tI-I see.\n Sure enough, you're awesome, Sasuke.\n There's no way I can take the bells from Sensei.\n At this rate, I'll face separation from Sasuke…\n Uh…say. There's really no time left…\n So let's just take it easy and try again next time.\n I'm the only one who can kill that man.\n Huh…? What? You mean Sensei?\n At that time…I was crying.\n Crying…?\n My…\n What…? What is it…?\n I'm an avenger. I must become stronger than that man…\n I don't have time for setbacks here...\n ...to kill a certain man!\n Damn it…I wasted my time talking.\n Sasuke...\n Oh-oh, your stomachs are growling…\n By the way, about this exercise…\n Well! There's no need for you guys to go back to the Academy.\n What? I… All I did was lay unconscious.\n Is that okay?\n Love is victorious!! Cha!!\n Yahooooo!\n Then, then! That means the three of us…\n Yes. The three of you…\n must quit being Ninja!!\n N-No way!\n Kakashi hasn't passed a single person this whole time…\n Iruka…\n Even I don't know if it's good for those kids to become Shinobi right away…\n However… Kakashi's judgments were correct…\n Quit being Ninja?! What do you mean?!\n Uh, well it's true, we weren't able to take the bells.\n But why do we have to be told to \"quit\"?!\n That's because you're all squirts who don't have the qualifications to become Ninja.\n Oh!\n Sasuke!\n I'm saying you're squirts.\n Don't step on Sasuke!!\n Are you kids thinking that being a Ninja is easy? Huh?\n Why do you think you're doing this exercise in teams?\n Huh?! What do you mean?\n Put simply…\n it's as if you guys have no understanding of the answer to this test.\n Answer…?\n Yes. The answer that determines passing or failing of this test.\n That's…what I've wanted to ask about for a while now.\n Man, are you guys brainless or what?\n Don't you get the meaning of the three-man squad?!\n Jeez!! What of three people to a squad?!\n That's…teamwork!\n You mean, working together?\n Exactly. But it's too late even if you realize that now.\n You might've been able to…\n take the bells if the three of you had come at me…\n Well, it's too bad.\n Now wait a minute.\n Why use teamwork if there were only two bells?\n If the three of us were to desperately go take the bells with one having to hold back,\n that wouldn't be teamwork. That'd create internal discord.\n Of course!\n This is a test set up to purposely place you against each other.\n It's under just such conditions where one's own interests aren't the issue.\n The intention was to select those who could prioritize teamwork…\n Despite this, you fools…\n Sakura!\n You were only concerned with Sasuke and you didn't even know where he was.\n And you didn't care for Naruto who was right in front of your eyes…\n Naruto!\n All you do is run solo…\n You labeled the other two as hindrances and acted on your own…\n Missions are carried out in squads!\n There's no mistaking that Ninjas need unsurpassed individual skills…\n But \"teamwork\" is considered more important than that.\n Individual actions that disrupt teamwork throw the team into crisis and lead to death…\n For example...\n \"Sakura! Kill Naruto, or else Sasuke dies…\"\n What?! What?! Whaaat?!\n Is what will…happen.\n Oh, I was so surpised.\n On top of having a hostage taken,\n you're faced with two impossible choices and end up being killed.\n Every mission is a life-risking assignment.\n Look at this…\n The many names engraved on this stone…\n These are all Ninjas who are called heroes in the village.\n That-that-that-that! I like thaaat!\n I've decided now to get my name engraved there, too!\n A hero! A hero! I'm not going to die like a dog!\n But…they're not just ordinary heroes.\n No kidding. Then, what kind of heroes are they?\n Hey! Hey!\n They are heroes who were killed in action.\n Killed in action?\n It means they died performing a mission.\n This is a memorial.\n The names of my friends are also engraved here...\n I'll give you guys one more chance!\n However, after noon it'll be a harsher battle to take the bell.\n Those who want to take on the challenge can eat lunch.\n However, don't let Naruto have any.\n It's punishment for breaking the rules and attempting to eat lunch on your own.\n If someone lets him eat…\n that person will be disqualified on the spot.\n I make the rules, here. Got it?!\n I must be going.\n Listen to me, Iruka.\n What?\n No matter what the result, don't hold it against Kakashi…\n Alright.\n I'm okay with not eating lunch! No sweat at all!\n No sweat…\n Here.\n H-Hey, Sasuke. Sensei just said…!\n It's okay. There's no sign of him now.\n The three of us are going to go take the bells together.\n It'll be trouble for me if he becomes a hindrance, so...\n Sasuke…\n Sakura…\n Thanks…\n Don't thank me. Just hurry up and eat.\n But…\n I'm on…a diet… I mean I just eat less than Sasuke.\n So you don't need to worry.\n But…\n See…\n Wha--?!\n Hurry it up. We don't know when he'll be back…\n It's just this one time.\n Okay? You got it?!\n I got it.\n You three!\n Yiiikes!\n You defied the rules so that means you know what's coming…\n Do you have…something to say?\n But you see…\n What?!\n But! But! But! You said, Sensei!\n These guys…\n We're a three-man squad, right?\n That's right! The three of us are one, so…!\n That's right! That's right! That's right!\n That's right!\n The three of you are one, eh…\n You pass!\n What?!\n Whaaat?!\n You pass!\n We passed?! Why?!\n You guys are the first.\n Up until now, it was always just dunces who would meekly listen to what I said.\n A Ninja must see through deception…\n In the world of Ninja,\n those who break rules and codes are branded as garbage…\n But…\n Those who don't cherish their friends are garbage worse than that.\n He's… He's…kinda…cool…\n That's it for the exercise…\n Everyone passes!\n Group Seven starts their mission tomorrow!\n Yes, Sir!\n I did it!! I'm a Ninja! Ninja! Ninja!\n Let's go home.\n Cha!\n I...\n knew this is how it'd turn out!\n Untie the rope!\n Oh, please! It'd been nothing but blah missions until now.\n And just when I thought I'd finally gotten an awesome mission,\n to think it'd be bodyguarding this old man.\n He mocks the heck out of me, calling me a brat.\n I'll tell him a thing or two.\n Someday I'll be… Hey, are you listening?!\n Next episode: \"A Dangerous Mission! Journey to the Land of Waves!\"\n Don't miss me kick butt!\n"
        ]
       ],
       "shape": {
        "columns": 2,
        "rows": 5
       }
      },
      "text/html": [
       "<div>\n",
       "<style scoped>\n",
       "    .dataframe tbody tr th:only-of-type {\n",
       "        vertical-align: middle;\n",
       "    }\n",
       "\n",
       "    .dataframe tbody tr th {\n",
       "        vertical-align: top;\n",
       "    }\n",
       "\n",
       "    .dataframe thead th {\n",
       "        text-align: right;\n",
       "    }\n",
       "</style>\n",
       "<table border=\"1\" class=\"dataframe\">\n",
       "  <thead>\n",
       "    <tr style=\"text-align: right;\">\n",
       "      <th></th>\n",
       "      <th>episode</th>\n",
       "      <th>script</th>\n",
       "    </tr>\n",
       "  </thead>\n",
       "  <tbody>\n",
       "    <tr>\n",
       "      <th>0</th>\n",
       "      <td>1</td>\n",
       "      <td>A long time ago, a powerful demon fox appeared...</td>\n",
       "    </tr>\n",
       "    <tr>\n",
       "      <th>1</th>\n",
       "      <td>2</td>\n",
       "      <td>C'mon!\\n Running like a fugitive,\\n Being chas...</td>\n",
       "    </tr>\n",
       "    <tr>\n",
       "      <th>2</th>\n",
       "      <td>3</td>\n",
       "      <td>C'mon!\\n Running like a fugitive,\\n Being chas...</td>\n",
       "    </tr>\n",
       "    <tr>\n",
       "      <th>3</th>\n",
       "      <td>4</td>\n",
       "      <td>C'mon!\\n Running like a fugitive,\\n Being chas...</td>\n",
       "    </tr>\n",
       "    <tr>\n",
       "      <th>4</th>\n",
       "      <td>5</td>\n",
       "      <td>C'mon!\\n Running like a fugitive,\\n Being chas...</td>\n",
       "    </tr>\n",
       "  </tbody>\n",
       "</table>\n",
       "</div>"
      ],
      "text/plain": [
       "   episode                                             script\n",
       "0        1  A long time ago, a powerful demon fox appeared...\n",
       "1        2  C'mon!\\n Running like a fugitive,\\n Being chas...\n",
       "2        3  C'mon!\\n Running like a fugitive,\\n Being chas...\n",
       "3        4  C'mon!\\n Running like a fugitive,\\n Being chas...\n",
       "4        5  C'mon!\\n Running like a fugitive,\\n Being chas..."
      ]
     },
     "execution_count": 119,
     "metadata": {},
     "output_type": "execute_result"
    }
   ],
   "source": [
    "df.head()"
   ]
  },
  {
   "cell_type": "markdown",
   "metadata": {},
   "source": [
    "# Run Model"
   ]
  },
  {
   "cell_type": "code",
   "execution_count": 120,
   "metadata": {},
   "outputs": [],
   "source": [
    "script = df.iloc[0]['script']"
   ]
  },
  {
   "cell_type": "code",
   "execution_count": 121,
   "metadata": {},
   "outputs": [
    {
     "data": {
      "text/plain": [
       "'A long time ago, a powerful demon fox appeared with nine tails.\\n With its powerful tails,\\n it could smash mountains and create tidal waves.\\n A band of Ninjas rose to defend their village from attack.\\n We have to wait until the Fourth Hokage gets here!\\n We can\\'t let it get any closer to our village!\\n One great Ninja was able to imprison the monster,\\n but died in the process.\\n This Ninja was known as… the Fourth Hokage.\\n Naruto!\\n Why did you do such a thing?!\\n You\\'re really gonna get it this time!\\n I don\\'t care!\\n You know your problem?\\n You can\\'t do the things I do!\\n Only I can do this!\\n I\\'m better than all of you! Believe it!\\n There\\'s a problem, sir!\\n Lord Hokage!\\n What is it?\\n Did that Naruto do something again?\\n Yes. He climbed onto the Mountainside Images…\\n And he vandalized and graffitied all over them!\\n Wait!\\n Ha ha…\\n Why should I?\\n Hey, Naruto!\\n How did you suddenly get here, lruka Sensei?\\n The question is what are you doing here when you should be in class now?\\n Now listen, Naruto.\\n You failed the last graduation test and the one before that.\\n This is no time to be goofing off, you fool!\\n We will have a re-test on the Transformation Jutsu!\\n Even those who already passed will take it!\\n Whaaaat?!\\n Sakura Haruno. Here I go…\\n Transform!\\n OK!\\n I did it!\\n Cha!\\n Did you see that, Sasuke?\\n Next, Sasuke Uchiha.\\n Yes.\\n O-OK.\\n Next, Naruto Uzumaki.\\n This is a real pain.\\n And it\\'s all your fault.\\n Like I care!!\\n OK…\\n Good luck, Naruto…\\n Transform!\\n How was it?\\n I call it the \"Sexy Jutsu\"!\\n You fool! Stop making idiotic spells!\\n Darn…\\n Darn…\\n I won\\'t let you go home unless you clean that all up.\\n I don\\'t care…\\n There\\'s nobody home anyway.\\n Naruto...\\n What is it this time?\\n What I meant was…\\n If you clean up all that mess, I\\'ll buy you ramen tonight.\\n Huh?!\\n Yes! I-I will finish it no time!\\n Enter: Naruto Uzumaki!\\n Naruto.\\n Why did you vandalize those faces?\\n Don\\'t you know who the Hokage leaders are?\\n Of course, I do!\\n I know they earned the title Lord Hokage\\n because they were the best Ninja of their time, right?\\n Especially the Fourth Hokage was a hero\\n who saved the village from the nine-tail demon fox.\\n Then why did you do that?\\n Because I\\'ll become a Hokage myself.\\n And I\\'ll be the greatest Hokage of all time!\\n So that everyone will finally learn to accept me!\\n By the way, Sensei, I have a favor to ask.\\n You want another bowl?\\n Mmmm…No…\\n Can I borrow that Leaf headband for a while?\\n This?\\n No no!\\n This is worn only by those who have graduated from Ninja Academy.\\n Tomorrow, you will…\\n You\\'re so mean!\\n So that\\'s why you took off your goggles…\\n Humph... One more bowl please!\\n We are now about to begin the graduation test.\\n When your name is called, proceed to the next classroom.\\n The test is on the Clone Jutsu.\\n Oh no…\\n Of all the…! That is my weakest Jutsu!\\n But still… I will do it no matter what!\\n Clone Jutsu!\\n Disqualified!\\n Iruka Sensei.\\n His physical coordination and stamina are excellent.\\n And he managed to come up with something.\\n Isn\\'t that enough for him to pass?\\n Mizuki Sensei... All the others created three or more clones.\\n Naruto created just one.\\n And it\\'s practically useless. I can\\'t give him a passing mark.\\n I \\'m a Ninja now!\\n You did well. That\\'s my son.\\n Congratulations for your graduation.\\n I\\'ll cook something good tonight!\\n Look at that one.\\n It\\'s that boy. I hear he\\'s the only one who failed.\\n Serves him right.\\n Imagine what would happen if he became a Ninja.\\n Isn\\'t that the boy who is actually…\\n Hey! We\\'re not supposed to talk about that.\\n Iruka. We need to talk later.\\n Yes, sir.\\n Iruka Sensei isn\\'t trying to be mean to you.\\n Then why only me?\\n He wants you to become strong from the bottom of his heart.\\n You both don\\'t have parents.\\n But I really wanted to graduate.\\n Heh... I guess I have no choice…\\n I\\'ll let you in on a big secret.\\n Secret?\\n Iruka.\\n What is it, Lord Hokage?\\n I know how you feel. But…\\n Naruto also grew up without knowing the love of his parents…like you.\\n Let me go!\\n My mom and dad are still out there fighting!\\n Wake up, Iruka Sensei!\\n What\\'s the matter?\\n Come to Lord Hokage\\'s immediately!\\n I heard that Naruto… stole the Scroll of Sealing.\\n The Scroll of Sealing?!\\n Let\\'s see…\\n The first Jutsu is… Multi-Shadow Clone Jutsu?\\n What?! Already a Jutsu I\\'m no good at?\\n Lord Hokage! We can\\'t forgive him!\\n This is not just a prank!\\n The Scroll is a dangerous item that the First Hokage sealed!\\n Depending on its use…\\n It will be a major disaster if it is taken out of the village!\\n Yes. Bring Naruto here at once!\\n Yes, sir!\\n Where did you go…Naruto?\\n I will tell everyone in the village about this and eliminate Naruto…\\n Then the Scroll of Sealing will be mine!\\n Hey you, Naruto!\\n You found me..\\n And I\\'ve only learned one Jutsu.\\n He\\'s been practicing the Jutsu…\\n until he\\'s become this exhausted and dirty…?\\n Listen, listen! I\\'m gonna show you this amazing Jutsu!\\n You\\'re gonna let me graduate if I can do it!\\n Isn\\'t it true that I can graduate if I can do one of the Jutsu written here?\\n Who told you that?\\n Mizuki Sensei. He told me about this scroll, and this place…\\n Mizuki did?!\\n I\\'m impressed you found this place.\\n I see now…how it is.\\n Naruto, give me that scroll.\\n Wait, wait… What\\'s going on here?\\n Naruto! Never give him that scroll!\\n It is a dangerous object that contains forbidden Ninja Jutsu. It was sealed.\\n Mizuki used you in order to get it for himself!\\n W-Wha--?\\n Naruto, Iruka is only afraid of you holding that scroll!\\n Huh?\\n What are you saying, Mizuki! Don\\'t let him fool you, Naruto!\\n I will tell you the truth.\\n Idiot! Don\\'t do that!\\n After an incident 12 years ago, a rule was created.\\n A rule?\\n That is, Naruto, a rule everybody but you knows.\\n Except me?! \\t\\t\\t\\t\\tWhat is it?\\n Stop it, Mizuki!\\n The rule forbids anyone from revealing that you are actually the Demon Fox Spirit!\\n Huh?\\n You are actually the Demon, Nine-Tailed Fox Spirit,\\n who killed Iruka\\'s parents and destroyed our village!\\n Stop it!\\n Everyone has been deceiving you ever since.\\n Didn\\'t you find it strange?\\n Why everyone hated you so much?\\n No! No! No! No! No!\\n Naruto…\\n Nobody accepts you. That\\'s why Iruka hates you so much!\\n Iruka... Naruto grew up without the love of parents.\\n Everyone avoids him like the plague after what happened.\\n That\\'s why he keeps misbehaving.\\n It\\'s the only way for him to get any attention or acknowledgement.\\n He pretends to be tough, but inside he is really hurting.\\n Die, Naruto!\\n Naruto! \\t\\t\\t\\t\\tGet down!\\n Why…?\\n Because you and I are the same.\\n After my parents died,\\n nobody paid attention to me or gave me any support.\\n I wasn\\'t a good student in school.\\n I was the class clown… because I wanted people to notice me.\\n I couldn\\'t get noticed through excellence, so I kept doing stupid things.\\n It was so hard.\\n Isn\\'t that right, Naruto?\\n You felt so lonely…right? And you suffered inside, right?\\n I\\'m sorry, Naruto….\\n If I had been more responsible, maybe you wouldn\\'t have suffered so much.\\n Don\\'t make me laugh!\\n Iruka has always hated you, ever since you killed his parents!\\n He\\'s just saying all that to get the Scroll of Sealing back!\\n Naruto!\\n Narutoooooo!\\n He is not the type of kid who will change his mind.\\n He will take revenge against our village using that scroll!\\n Didn\\'t you see his eyes? Those are the eyes of a Demon Fox.\\n No… Naruto…isn\\'t…like that at all!\\n All I want is to kill Naruto and get the scroll.\\n I\\'ll take care of you later!\\n I-I won\\'t let you…\\n Well, well.\\n Mizuki has a big mouth!\\n Naruto feels worse than he\\'s ever felt.\\n He might unleash the power locked up inside him.\\n The Scroll of Sealing is now with him.\\n There\\'s a slight chance he might actually release\\n the Nine-Tailed Fox Spirit sealed inside him!\\n If that happens…\\n I\\'ve found him!\\n Naruto!\\n Everything that Mizuki said was a lie!\\n Give me that scroll, quick! Mizuki is after the scroll!\\n It can\\'t be…\\n Why is it, Naruto?\\n How…\\n did you know I wasn\\'t Iruka…?\\n Because I\\'m Iruka.\\n I see.\\n What\\'s in it for you to protect the one who killed your family?\\n I\\'m not gonna let a stupid idiot like you get that scroll!\\n You\\'re the idiot. Naruto is the same as me.\\n Same?\\n Anyone can do whatever he wants once he has the scroll.\\n There is no way that that monster…\\n that Fox Spirit, won\\'t take advantage of the power of that scroll!\\n You\\'re right…\\n I guess it was true all along!\\n See, Iruka Sensei never really cared for me at all!\\n ...if he was the Demon Fox Spirit.\\n But Naruto is different!\\n I know that he is an exceptional student.\\n He works very hard,\\n and he\\'s single-minded and clumsy at the same time.\\n No one accepts him, but he knows the meaning of human suffering.\\n He is not the Demon Fox Spirit.\\n He\\'s Naruto Uzumaki of the Village Hidden in the Leaves!\\n You are so gullible. \\t\\t\\t\\t\\tlruka!\\n I was gonna take you down later, but I have changed my mind.\\n Die!\\n I guess this is the end for me…\\n Naruto?!\\n You surprised me there, freak.\\n If you ever lay a hand on Iruka Sensei, I\\'ll kill you!\\n Shut up! I can take care of a kid like you with a single blow!\\n Why don\\'t you try then? I\\'ll strike you back a thousand-fold!\\n Let\\'s see you try! Show me what you can do, Demon Fox!\\n Shadow Clone Jutsu!\\n Naruto! You\\'ve…\\n Those aren\\'t just images but actual clones! That\\'s an advanced Ninjutsu!\\n What\\'s this…?\\n What\\'s the matter? \\t\\t\\t\\t\\tC\\'mon!\\n Weren\\'t you gonna get me with one blow? Here!\\n In that case… I\\'ll come to you.\\n I kinda got carried away. lruka Sensei, are you okay?\\n Yeah.\\n He\\'s really something.\\n Maybe it is true.\\n Maybe he will surpass all the Hokage leaders…\\n Naruto, come over here. I\\'d like to give you something.\\n Has anyone found Naruto yet?\\n No.\\n Darn, this is going to be bad…\\n There\\'s no need to worry anymore.\\n Lord Hokage!\\n He\\'ll be back soon.\\n Sensei, how much longer?\\n OK, you may open your eyes now.\\n Congratulations…on your graduation.\\n In celebration, we\\'ll have ramen tonight!\\n Iruka Sensei!\\n That hurts!\\n Naruto…\\n I was going to lecture to you...\\n that the road gets more difficult now that you\\'re a Ninja.\\n But I guess I\\'ll just wait to tell you that until we get to the ramen stand…\\n W-What do you want, you little shrimp? Quit following me!\\n You\\'re smaller than me and\\n you\\'re saying that you\\'re gonna become the Fifth Hokage?\\n I don\\'t care if you are the 3rd Hokage\\'s grandson or not.\\n It\\'s not that easy to be a Hokage!\\n If you want it that bad, you\\'re gonna have to beat me first!\\n Next episode:  \"My Name Is Konohamaru!\"\\n Watch my outstanding performance!\\n'"
      ]
     },
     "execution_count": 121,
     "metadata": {},
     "output_type": "execute_result"
    }
   ],
   "source": [
    "script"
   ]
  },
  {
   "cell_type": "code",
   "execution_count": 122,
   "metadata": {},
   "outputs": [
    {
     "data": {
      "text/plain": [
       "['A long time ago, a powerful demon fox appeared with nine tails.',\n",
       " 'With its powerful tails,\\n it could smash mountains and create tidal waves.',\n",
       " 'A band of Ninjas rose to defend their village from attack.']"
      ]
     },
     "execution_count": 122,
     "metadata": {},
     "output_type": "execute_result"
    }
   ],
   "source": [
    "script_sentence = sent_tokenize(script)\n",
    "script_sentence[:3]"
   ]
  },
  {
   "cell_type": "code",
   "execution_count": 123,
   "metadata": {},
   "outputs": [],
   "source": [
    "# BATCH SENTENCE\n",
    "sentence_batch_size = 20\n",
    "script_batches = []\n",
    "for index in range(0,len(script_sentence), sentence_batch_size):\n",
    "    sent = \" \".join(script_sentence[index:index+sentence_batch_size])\n",
    "    script_batches.append(sent)\n",
    "    "
   ]
  },
  {
   "cell_type": "code",
   "execution_count": 124,
   "metadata": {},
   "outputs": [
    {
     "data": {
      "text/plain": [
       "[\"A long time ago, a powerful demon fox appeared with nine tails. With its powerful tails,\\n it could smash mountains and create tidal waves. A band of Ninjas rose to defend their village from attack. We have to wait until the Fourth Hokage gets here! We can't let it get any closer to our village! One great Ninja was able to imprison the monster,\\n but died in the process. This Ninja was known as… the Fourth Hokage. Naruto! Why did you do such a thing?! You're really gonna get it this time! I don't care! You know your problem? You can't do the things I do! Only I can do this! I'm better than all of you! Believe it! There's a problem, sir! Lord Hokage! What is it? Did that Naruto do something again?\",\n",
       " 'Yes. He climbed onto the Mountainside Images…\\n And he vandalized and graffitied all over them! Wait! Ha ha…\\n Why should I? Hey, Naruto! How did you suddenly get here, lruka Sensei? The question is what are you doing here when you should be in class now? Now listen, Naruto. You failed the last graduation test and the one before that. This is no time to be goofing off, you fool! We will have a re-test on the Transformation Jutsu! Even those who already passed will take it! Whaaaat?! Sakura Haruno. Here I go…\\n Transform! OK! I did it! Cha! Did you see that, Sasuke? Next, Sasuke Uchiha.']"
      ]
     },
     "execution_count": 124,
     "metadata": {},
     "output_type": "execute_result"
    }
   ],
   "source": [
    "script_batches[:2]"
   ]
  },
  {
   "cell_type": "code",
   "execution_count": 125,
   "metadata": {},
   "outputs": [],
   "source": [
    "theme_output = theme_classifier(\n",
    "    script_batches[:2],\n",
    "    theme_list,\n",
    "    multi_label =True\n",
    ")"
   ]
  },
  {
   "cell_type": "code",
   "execution_count": 126,
   "metadata": {},
   "outputs": [
    {
     "data": {
      "text/plain": [
       "[{'sequence': \"A long time ago, a powerful demon fox appeared with nine tails. With its powerful tails,\\n it could smash mountains and create tidal waves. A band of Ninjas rose to defend their village from attack. We have to wait until the Fourth Hokage gets here! We can't let it get any closer to our village! One great Ninja was able to imprison the monster,\\n but died in the process. This Ninja was known as… the Fourth Hokage. Naruto! Why did you do such a thing?! You're really gonna get it this time! I don't care! You know your problem? You can't do the things I do! Only I can do this! I'm better than all of you! Believe it! There's a problem, sir! Lord Hokage! What is it? Did that Naruto do something again?\",\n",
       "  'labels': ['dialogue',\n",
       "   'betrayal',\n",
       "   'battle',\n",
       "   'sacrifice',\n",
       "   'self developement',\n",
       "   'hope',\n",
       "   'friendship',\n",
       "   'love'],\n",
       "  'scores': [0.9800738096237183,\n",
       "   0.9396899938583374,\n",
       "   0.8546874523162842,\n",
       "   0.7349801063537598,\n",
       "   0.6545605063438416,\n",
       "   0.19909825921058655,\n",
       "   0.05922292172908783,\n",
       "   0.04026198759675026]},\n",
       " {'sequence': 'Yes. He climbed onto the Mountainside Images…\\n And he vandalized and graffitied all over them! Wait! Ha ha…\\n Why should I? Hey, Naruto! How did you suddenly get here, lruka Sensei? The question is what are you doing here when you should be in class now? Now listen, Naruto. You failed the last graduation test and the one before that. This is no time to be goofing off, you fool! We will have a re-test on the Transformation Jutsu! Even those who already passed will take it! Whaaaat?! Sakura Haruno. Here I go…\\n Transform! OK! I did it! Cha! Did you see that, Sasuke? Next, Sasuke Uchiha.',\n",
       "  'labels': ['dialogue',\n",
       "   'self developement',\n",
       "   'battle',\n",
       "   'betrayal',\n",
       "   'sacrifice',\n",
       "   'hope',\n",
       "   'friendship',\n",
       "   'love'],\n",
       "  'scores': [0.9370125532150269,\n",
       "   0.8029855489730835,\n",
       "   0.658130943775177,\n",
       "   0.645723283290863,\n",
       "   0.6258819699287415,\n",
       "   0.20423993468284607,\n",
       "   0.08603287488222122,\n",
       "   0.02802043966948986]}]"
      ]
     },
     "execution_count": 126,
     "metadata": {},
     "output_type": "execute_result"
    }
   ],
   "source": [
    "theme_output"
   ]
  },
  {
   "cell_type": "code",
   "execution_count": 127,
   "metadata": {},
   "outputs": [],
   "source": [
    "# Wrangle output\n",
    "# battle : [0.51489498, 0.2156498]\n",
    "\n",
    "themes = {}\n",
    "for output in theme_output:\n",
    "    for label,score in zip(output['labels'], output['scores']):\n",
    "        if label not in themes:\n",
    "            themes[label] = []\n",
    "        themes[label].append(score)"
   ]
  },
  {
   "cell_type": "code",
   "execution_count": 128,
   "metadata": {},
   "outputs": [
    {
     "data": {
      "text/plain": [
       "{'dialogue': [0.9800738096237183, 0.9370125532150269],\n",
       " 'betrayal': [0.9396899938583374, 0.645723283290863],\n",
       " 'battle': [0.8546874523162842, 0.658130943775177],\n",
       " 'sacrifice': [0.7349801063537598, 0.6258819699287415],\n",
       " 'self developement': [0.6545605063438416, 0.8029855489730835],\n",
       " 'hope': [0.19909825921058655, 0.20423993468284607],\n",
       " 'friendship': [0.05922292172908783, 0.08603287488222122],\n",
       " 'love': [0.04026198759675026, 0.02802043966948986]}"
      ]
     },
     "execution_count": 128,
     "metadata": {},
     "output_type": "execute_result"
    }
   ],
   "source": [
    "themes"
   ]
  },
  {
   "cell_type": "code",
   "execution_count": 129,
   "metadata": {},
   "outputs": [],
   "source": [
    "def get_themes_inference(script):\n",
    "    script_sentence = sent_tokenize(script)\n",
    "\n",
    "    #batch sentence\n",
    "    sentence_batch_size = 20\n",
    "    script_batches = []\n",
    "    for index in range(0,len(script_sentence), sentence_batch_size):\n",
    "        sent = \" \".join(script_sentence[index:index+sentence_batch_size])\n",
    "        script_batches.append(sent)\n",
    "\n",
    "    # Run model\n",
    "    theme_output = theme_classifier(\n",
    "        script_batches[:2],\n",
    "        theme_list,\n",
    "        multi_label =True\n",
    "    )\n",
    "\n",
    "    # wrangle output\n",
    "\n",
    "    themes = {}\n",
    "    for output in theme_output:\n",
    "        for label,score in zip(output['labels'], output['scores']):\n",
    "            if label not in themes:\n",
    "                themes[label] = []\n",
    "            themes[label].append(score)\n",
    "\n",
    "    themes = {key: np.mean(np.array(value)) for key, value in themes.items()}\n",
    "\n",
    "    return themes\n",
    "     "
   ]
  },
  {
   "cell_type": "code",
   "execution_count": 130,
   "metadata": {},
   "outputs": [],
   "source": [
    "df = df.head()"
   ]
  },
  {
   "cell_type": "code",
   "execution_count": 131,
   "metadata": {},
   "outputs": [
    {
     "data": {
      "application/vnd.microsoft.datawrangler.viewer.v0+json": {
       "columns": [
        {
         "name": "index",
         "rawType": "int64",
         "type": "integer"
        },
        {
         "name": "episode",
         "rawType": "int64",
         "type": "integer"
        },
        {
         "name": "script",
         "rawType": "object",
         "type": "string"
        }
       ],
       "conversionMethod": "pd.DataFrame",
       "ref": "05f101f1-d599-4160-9f97-bed2223cc20d",
       "rows": [
        [
         "0",
         "1",
         "A long time ago, a powerful demon fox appeared with nine tails.\n With its powerful tails,\n it could smash mountains and create tidal waves.\n A band of Ninjas rose to defend their village from attack.\n We have to wait until the Fourth Hokage gets here!\n We can't let it get any closer to our village!\n One great Ninja was able to imprison the monster,\n but died in the process.\n This Ninja was known as… the Fourth Hokage.\n Naruto!\n Why did you do such a thing?!\n You're really gonna get it this time!\n I don't care!\n You know your problem?\n You can't do the things I do!\n Only I can do this!\n I'm better than all of you! Believe it!\n There's a problem, sir!\n Lord Hokage!\n What is it?\n Did that Naruto do something again?\n Yes. He climbed onto the Mountainside Images…\n And he vandalized and graffitied all over them!\n Wait!\n Ha ha…\n Why should I?\n Hey, Naruto!\n How did you suddenly get here, lruka Sensei?\n The question is what are you doing here when you should be in class now?\n Now listen, Naruto.\n You failed the last graduation test and the one before that.\n This is no time to be goofing off, you fool!\n We will have a re-test on the Transformation Jutsu!\n Even those who already passed will take it!\n Whaaaat?!\n Sakura Haruno. Here I go…\n Transform!\n OK!\n I did it!\n Cha!\n Did you see that, Sasuke?\n Next, Sasuke Uchiha.\n Yes.\n O-OK.\n Next, Naruto Uzumaki.\n This is a real pain.\n And it's all your fault.\n Like I care!!\n OK…\n Good luck, Naruto…\n Transform!\n How was it?\n I call it the \"Sexy Jutsu\"!\n You fool! Stop making idiotic spells!\n Darn…\n Darn…\n I won't let you go home unless you clean that all up.\n I don't care…\n There's nobody home anyway.\n Naruto...\n What is it this time?\n What I meant was…\n If you clean up all that mess, I'll buy you ramen tonight.\n Huh?!\n Yes! I-I will finish it no time!\n Enter: Naruto Uzumaki!\n Naruto.\n Why did you vandalize those faces?\n Don't you know who the Hokage leaders are?\n Of course, I do!\n I know they earned the title Lord Hokage\n because they were the best Ninja of their time, right?\n Especially the Fourth Hokage was a hero\n who saved the village from the nine-tail demon fox.\n Then why did you do that?\n Because I'll become a Hokage myself.\n And I'll be the greatest Hokage of all time!\n So that everyone will finally learn to accept me!\n By the way, Sensei, I have a favor to ask.\n You want another bowl?\n Mmmm…No…\n Can I borrow that Leaf headband for a while?\n This?\n No no!\n This is worn only by those who have graduated from Ninja Academy.\n Tomorrow, you will…\n You're so mean!\n So that's why you took off your goggles…\n Humph... One more bowl please!\n We are now about to begin the graduation test.\n When your name is called, proceed to the next classroom.\n The test is on the Clone Jutsu.\n Oh no…\n Of all the…! That is my weakest Jutsu!\n But still… I will do it no matter what!\n Clone Jutsu!\n Disqualified!\n Iruka Sensei.\n His physical coordination and stamina are excellent.\n And he managed to come up with something.\n Isn't that enough for him to pass?\n Mizuki Sensei... All the others created three or more clones.\n Naruto created just one.\n And it's practically useless. I can't give him a passing mark.\n I 'm a Ninja now!\n You did well. That's my son.\n Congratulations for your graduation.\n I'll cook something good tonight!\n Look at that one.\n It's that boy. I hear he's the only one who failed.\n Serves him right.\n Imagine what would happen if he became a Ninja.\n Isn't that the boy who is actually…\n Hey! We're not supposed to talk about that.\n Iruka. We need to talk later.\n Yes, sir.\n Iruka Sensei isn't trying to be mean to you.\n Then why only me?\n He wants you to become strong from the bottom of his heart.\n You both don't have parents.\n But I really wanted to graduate.\n Heh... I guess I have no choice…\n I'll let you in on a big secret.\n Secret?\n Iruka.\n What is it, Lord Hokage?\n I know how you feel. But…\n Naruto also grew up without knowing the love of his parents…like you.\n Let me go!\n My mom and dad are still out there fighting!\n Wake up, Iruka Sensei!\n What's the matter?\n Come to Lord Hokage's immediately!\n I heard that Naruto… stole the Scroll of Sealing.\n The Scroll of Sealing?!\n Let's see…\n The first Jutsu is… Multi-Shadow Clone Jutsu?\n What?! Already a Jutsu I'm no good at?\n Lord Hokage! We can't forgive him!\n This is not just a prank!\n The Scroll is a dangerous item that the First Hokage sealed!\n Depending on its use…\n It will be a major disaster if it is taken out of the village!\n Yes. Bring Naruto here at once!\n Yes, sir!\n Where did you go…Naruto?\n I will tell everyone in the village about this and eliminate Naruto…\n Then the Scroll of Sealing will be mine!\n Hey you, Naruto!\n You found me..\n And I've only learned one Jutsu.\n He's been practicing the Jutsu…\n until he's become this exhausted and dirty…?\n Listen, listen! I'm gonna show you this amazing Jutsu!\n You're gonna let me graduate if I can do it!\n Isn't it true that I can graduate if I can do one of the Jutsu written here?\n Who told you that?\n Mizuki Sensei. He told me about this scroll, and this place…\n Mizuki did?!\n I'm impressed you found this place.\n I see now…how it is.\n Naruto, give me that scroll.\n Wait, wait… What's going on here?\n Naruto! Never give him that scroll!\n It is a dangerous object that contains forbidden Ninja Jutsu. It was sealed.\n Mizuki used you in order to get it for himself!\n W-Wha--?\n Naruto, Iruka is only afraid of you holding that scroll!\n Huh?\n What are you saying, Mizuki! Don't let him fool you, Naruto!\n I will tell you the truth.\n Idiot! Don't do that!\n After an incident 12 years ago, a rule was created.\n A rule?\n That is, Naruto, a rule everybody but you knows.\n Except me?! \t\t\t\t\tWhat is it?\n Stop it, Mizuki!\n The rule forbids anyone from revealing that you are actually the Demon Fox Spirit!\n Huh?\n You are actually the Demon, Nine-Tailed Fox Spirit,\n who killed Iruka's parents and destroyed our village!\n Stop it!\n Everyone has been deceiving you ever since.\n Didn't you find it strange?\n Why everyone hated you so much?\n No! No! No! No! No!\n Naruto…\n Nobody accepts you. That's why Iruka hates you so much!\n Iruka... Naruto grew up without the love of parents.\n Everyone avoids him like the plague after what happened.\n That's why he keeps misbehaving.\n It's the only way for him to get any attention or acknowledgement.\n He pretends to be tough, but inside he is really hurting.\n Die, Naruto!\n Naruto! \t\t\t\t\tGet down!\n Why…?\n Because you and I are the same.\n After my parents died,\n nobody paid attention to me or gave me any support.\n I wasn't a good student in school.\n I was the class clown… because I wanted people to notice me.\n I couldn't get noticed through excellence, so I kept doing stupid things.\n It was so hard.\n Isn't that right, Naruto?\n You felt so lonely…right? And you suffered inside, right?\n I'm sorry, Naruto….\n If I had been more responsible, maybe you wouldn't have suffered so much.\n Don't make me laugh!\n Iruka has always hated you, ever since you killed his parents!\n He's just saying all that to get the Scroll of Sealing back!\n Naruto!\n Narutoooooo!\n He is not the type of kid who will change his mind.\n He will take revenge against our village using that scroll!\n Didn't you see his eyes? Those are the eyes of a Demon Fox.\n No… Naruto…isn't…like that at all!\n All I want is to kill Naruto and get the scroll.\n I'll take care of you later!\n I-I won't let you…\n Well, well.\n Mizuki has a big mouth!\n Naruto feels worse than he's ever felt.\n He might unleash the power locked up inside him.\n The Scroll of Sealing is now with him.\n There's a slight chance he might actually release\n the Nine-Tailed Fox Spirit sealed inside him!\n If that happens…\n I've found him!\n Naruto!\n Everything that Mizuki said was a lie!\n Give me that scroll, quick! Mizuki is after the scroll!\n It can't be…\n Why is it, Naruto?\n How…\n did you know I wasn't Iruka…?\n Because I'm Iruka.\n I see.\n What's in it for you to protect the one who killed your family?\n I'm not gonna let a stupid idiot like you get that scroll!\n You're the idiot. Naruto is the same as me.\n Same?\n Anyone can do whatever he wants once he has the scroll.\n There is no way that that monster…\n that Fox Spirit, won't take advantage of the power of that scroll!\n You're right…\n I guess it was true all along!\n See, Iruka Sensei never really cared for me at all!\n ...if he was the Demon Fox Spirit.\n But Naruto is different!\n I know that he is an exceptional student.\n He works very hard,\n and he's single-minded and clumsy at the same time.\n No one accepts him, but he knows the meaning of human suffering.\n He is not the Demon Fox Spirit.\n He's Naruto Uzumaki of the Village Hidden in the Leaves!\n You are so gullible. \t\t\t\t\tlruka!\n I was gonna take you down later, but I have changed my mind.\n Die!\n I guess this is the end for me…\n Naruto?!\n You surprised me there, freak.\n If you ever lay a hand on Iruka Sensei, I'll kill you!\n Shut up! I can take care of a kid like you with a single blow!\n Why don't you try then? I'll strike you back a thousand-fold!\n Let's see you try! Show me what you can do, Demon Fox!\n Shadow Clone Jutsu!\n Naruto! You've…\n Those aren't just images but actual clones! That's an advanced Ninjutsu!\n What's this…?\n What's the matter? \t\t\t\t\tC'mon!\n Weren't you gonna get me with one blow? Here!\n In that case… I'll come to you.\n I kinda got carried away. lruka Sensei, are you okay?\n Yeah.\n He's really something.\n Maybe it is true.\n Maybe he will surpass all the Hokage leaders…\n Naruto, come over here. I'd like to give you something.\n Has anyone found Naruto yet?\n No.\n Darn, this is going to be bad…\n There's no need to worry anymore.\n Lord Hokage!\n He'll be back soon.\n Sensei, how much longer?\n OK, you may open your eyes now.\n Congratulations…on your graduation.\n In celebration, we'll have ramen tonight!\n Iruka Sensei!\n That hurts!\n Naruto…\n I was going to lecture to you...\n that the road gets more difficult now that you're a Ninja.\n But I guess I'll just wait to tell you that until we get to the ramen stand…\n W-What do you want, you little shrimp? Quit following me!\n You're smaller than me and\n you're saying that you're gonna become the Fifth Hokage?\n I don't care if you are the 3rd Hokage's grandson or not.\n It's not that easy to be a Hokage!\n If you want it that bad, you're gonna have to beat me first!\n Next episode:  \"My Name Is Konohamaru!\"\n Watch my outstanding performance!\n"
        ],
        [
         "1",
         "2",
         "C'mon!\n Running like a fugitive,\n Being chased by something\n Inside my heart is pounding\n My throat dry like it's withering\n For no single one,\n To none does belong,\n This time is ours, right now...\n Unraveling the pain,\n Unraveling our hearts,\n Unraveling shadows\n Stifling our breath,\n Reaching for beyond,\n Tearing through the dark\n In fighting and in love\n To the distant light above,\n Yes, we are on the way\n I wanna rock...\n Rockin' my heart\n Hey, you!\n Are you sure you want to look like that?\n Yes, of course! C'mon! So hurry hurry!\n Don't regret it later.\n Say cheese!\n My Name Is Konohamaru!\n I couldn't decide on how to look.\n It took me 3 hours to decide.\n But as you can see, it's more like a work of art.\n Doesn't it look great?\n Take it over.\n What?!\n Take it over.\n Stop saying that!\n Transform!\n Oh please, Lord Hokage…\n The Sexy Jutsu… That's quite a devious technique.\n By the way Naruto, where's your headband?\n I won't wear it until the orientation. lt might get scratched\n Well, that's just fine.\n But the Ninja Registration Form is a very important document\n held in high regard by our village.\n Why do you want to look like this?\n Because!\n Anyway, how should I know about all that stuff?\n Old man! Get ready to fight!\n I am going to be the Fifth Hokage!\n Ouch!\n If it's not one thing, it's another….\n Drat! Is this a trap?\n Are you okay, Honorable Grandson?\n May I just inform you that there aren't any traps here…\n Huh? What's with this runt?\n What?!\n I know this kid… He's that Nine-Tailed boy!\n He's a good-for-nothing scoundrel!\n You must have done this to me!\n You tripped all by yourself, stupid!\n Hey! Let go of him!\n He is the Honorable Grandson of the Third Hokage!\n He stopped as soon as he learned who I am….\n He's like my four-eyed teacher.\n He's just like everyone else!\n What's the matter?\n Weren't you gonna hit me, huh?\n Can't do it 'cuz I'm the Hokage's grandson, eh?\n As if I care! \t\t\t\t\tlmbecile!\n This guy…\n What?!\n Good grief…\n Listen to me.\n You are the Honorable Grandson of the Third Hokage.\n Even though that scoundrel hit you, you must not associate with his kind.\n Nothing good will come of your tangling with him.\n This is your distinguished teacher Ebisu,\n and I am never wrong about these things!\n Don't you want to become the Fifth Hokage?\n Then allow me to teach you Ninjutsu,\n so that your dream will become a reality.\n That's right.\n Stick with me and you will gain a shortcut towards becoming the Fifth Hokage.\n Is that clear, Honorable Grandson?\n He's gone!\n It seems he's gone after Naruto.\n Oh no!\n This is terrible!\n Honorable Grandson!\n How did he become like this?\n That was the 20th sneak attack today.\n And now he's in the company of Naruto. I'm a bit worried.\n I just hope he doesn't pick up more foolishness.\n Huh?\n Stop following me!\n What is it now?!\n Your camouflage is pathetic.\n You've seen through my disguise...\n Your reputation is well-earned.\n I will allow you to make me your apprentice.\n But you must first teach me that  \"Sexy Jutsu\"  technique\n you used to beat Grandpa Hokage.\n You gotta be kidding.\n I beg you to say yes, boss!\n Huh?\n Boss?\n Boss! Boss! Boss!\n I guess I have no choice.\n Listen.\n In order to become a skilled Ninja,\n you must first learn to control your Chatora.\n Chatora?\n Yes, Chatora.\n Boss, I think you mean Chakra.\n Silence!\n That's what real Ninjas call it!\n Oh! I didn't know that!\n Whew… I'm glad he's a fool.\n Listen. Chakra essentially means…\n Basically, it is the energy needed in order to use Jutsu.\n Huh?\n In other words, fundamentally Ninja Arts combine the Chakra,\n the physical energy accumulated from each cell in the body\n with spiritual energy intensified through training and experience.\n This combined energy is summoned with certain hand signs.\n You made me think you knew all that,\n when you were just reading from a scroll!\n Much has been said about perfecting the Ninja techniques,\n but it really boils down to just one thing.\n And what is that?\n Hard work and guts.\n Hard work and guts?\n That's right.\n So be ready for the challenging tasks I will give you.\n Yes, boss!\n Good. Let's start right now. Transform for me.\n Huh?\n Let me see first how much you already know.\n But what do I transform into?\n OK... First, transform into that lady.\n An easy task, boss.\n Transform!\n Well, do I look like her?\n Uhm… Well, the clothes do and…\n And what's so similar about that?!\n Honorable Grandson.\n If you will transform into me, at least try to look a little cuter, OK?\n She's scary!\n Why am I the one who gets hit?\n OK! Next, we'll do some research on sexiness!\n Yes, boss!\n I told you I don't allow reading here, Naruto!\n This is the last test. Put all of your effort into it!\n Yes, boss!\n Transform!\n Naruto! It's you again!\n Why is it always me…?\n Sorry.\n Huh?\n It's because I'm the Hokage's grandson.\n Don't worry about it.\n Huh?\n You're now ready to perform the Sexy Jutsu!\n You just need more practice.\n Yes, boss!\n OK, keep in mind… the point is for \"boom boom boom\"!\n Now do it!\n Yes, boss! \t\t\t\t\tTransform!\n What do you think?\n That won't do!\n More slender.\n Yes, boss!\n Is this okay?\n Not yet. \t\t\t\t\tMore attractive.\n Yes, boss!\n How about now?\n That Naruto… What is he teaching the Honorable Grandson…?\n Where the hell could they be…?\n I am a distinguished teacher training potential Hokage.\n All those who interfere will be eliminated.\n You know I've been wondering…\n You seem obsessed with beating your Grandpa Hokage.\n My name is Konohamaru.\n It was Grandpa who gave me that name.\n He named me after our village.\n It should be easy for everyone here to remember.\n But nobody ever calls me by that name.\n When they see me, all they see is the grandson of Lord Hokage.\n No one sees me for who I really am.\n I can't stand it anymore.\n That's why…\n That's why I want the title of Lord Hokage now.\n Idiot…Who do you think will accept you, huh?\n Huh?\n You won't win the title that easily, you know.\n What?!\n It's not that simple.\n If you're really serious about gaining the title of Lord Hokage…\n What?\n You'll have to beat me first!\n Lord Hokage! I've been looking for you.\n Iruka.\n Did Naruto re-submit his Ninja Registration Form?\n Yes.\n When I lectured to him the other night at the ramen stand,\n he said he will make everyone accept him now that he's a Ninja.\n He's been happy since then.\n It might not be easy for Naruto to realize that dream.\n Huh?\n As you well know,\n only the villagers who fought the Nine-Tailed Fox Spirit 12 years ago\n know that the monster is sealed inside Naruto.\n I ruled that no one shall speak about that incident.\n I have severely punished those who have broken this rule.\n Now our children know nothing about it.\n That is the only positive development for Naruto.\n Before the Fourth Hokage trapped the monster and died,\n his last wish was for the villagers to regard Naruto as a hero.\n A hero?\n The Fourth Hokage sealed the monster into the navel of a newborn baby\n whose umbilical cord had just been cut.\n As the receptacle for the Nine-Tailed Fox Spirit,\n Naruto saved the village.\n Unfortunately, the other villagers don't see him like that.\n Some even say that Naruto is the Nine-Tailed Fox Spirit himself.\n Little by little, that attitude has been passed down to their own children.\n Iruka. \t\t\t\t\tDo you know?\n What, sir?\n When someone is hated and people refuse to accept his existence,\n he sees it in the eyes of the people around him.\n I have found you!\n Huh?\n That Demon Fox!!\n That cold look! lt's always like that!\n Honorable Grandson, we have to go now.\n No way!\n I want to beat Grandpa right now so I can win the title of Lord Hokage!\n Don't get in my way!\n A Hokage must first know about virtue, honor, etiquette, wisdom, loyalty, faith,\n judgment, obedience and all that.\n He must be skilled at more than thousand techniques…\n And then...\n Transform!\n Take this! Sexy Jutsu!\n What? \t\t\t\t\tlt didn't work!\n What kind of a disgraceful spell is that?!\n I am a gentleman!\n Such vulgar attacks will never work on me!\n Honorable Grandson! That rascal will only make you an imbecile!\n Stick with me and...\n you will gain a shortcut towards becoming the Fifth Hokage.\n C'mon, let's go!\n No way!\n Shadow Clone Jutsu\n Wow! \t\t\t\t\tFantastic!\n Ha! \t\t\t\t\tThat's nothing.\n I am a distinguished teacher.\n I am not as weak as Mizuki.\n Boss…\n Transform!\n Transform!\n Oh, Master Ebisu…\n I call it \"the Harem Jutsu\"!\n He combined the Multiple Clones with his own Sexy Jutsu.\n That's another devious attack.\n I probably won't even survive that one.\n I can't even beat that four-eyed teacher of mine!\n I want the title of Lord Hokage so badly! I want to be recognized by everybody!\n But I keep failing.\n You think it's that easy?\n Huh?\n It's given only to the greatest Ninja in the village.\n Everybody must learn to believe in you.\n I've been through a lot already.\n It's been one struggle after another.\n But after all that, I found someone who accepts me.\n I had to go through a lot... Just for one person.\n You had better push yourself.\n For what?\n The path of getting the title, Lord Hokage, is a brutal one.\n There's no such thing as a shortcut.\n If you're really serious about attaining the title of Lord Hokage\n You'll have to beat me first.\n Who do you think you are, lecturing me like that?\n I won't be your apprentice anymore.\n From now on, you're my rival.\n Unfortunately for you, tomorrow I graduate from the Ninja Academy.\n Still, I'll consider you an equal someday when we fight for the title of Lord Hokage.\n Let's look forward to that, Konohamaru.\n You still have a long way to go to become a real Ninja.\n Aaah! Why do I have to be in the same group with Sasuke?\n The guy I hate the most?\n Sakura keeps saying  \"Sasuke Sasuke Sasuke!\"\n and doesn't even pay attention to me!\n It makes me so mad! I got it! I'm going to pull one on him!\n I'm not gonna let him be so cool in front of Sakura!\n Next Episode:  \"Sasuke and Sakura: Friends or Foes?\"\n Watch my outstanding performance!\n"
        ],
        [
         "2",
         "3",
         "C'mon!\n Running like a fugitive,\n Being chased by something\n Inside my heart is pounding\n My throat dry like it's withering\n For no single one,\n To none does belong,\n This time is ours, right now...\n Unraveling the pain,\n Unraveling our hearts,\n Unraveling shadows\n Stifling our breath,\n Reaching for beyond,\n Tearing through the dark\n In fighting and in love\n To the distant light above,\n Yes, we are on the way\n I wanna rock...\n Rockin' my heart\n Today's…a special day, so…\n Time to eat!\n Sasuke and Sakura: Friends or Foes?\n Fight me, here!\n What're you doing, Konohamaru?\n Very good, Naruto…\n You're the man I expected you to be.\n I didn't do anything, you know…\n Let's fight fair!\n Sorry! I've got an orientation meeting to go to.\n An orientation meeting…?\n Cause… As of today, I'm a Ninja!\n Oh…\n Sakura! Shouldn't you be heading out soon?\n I was thinking of leaving now!\n Cha! How long are you planning to treat me like a child?!\n That's right… I'm not a student of the academy anymore…\n I'm a Kunoichi of the Leaf Village, Sakura Haruno!\n I'm off!\n Morning, Sakura.\n Morning... Ino.\n Who would've thought you'd be able to graduate.\n Ancient history has nothing to do with it.\n As of today, we're both full-fledged Ninjas...\n I won't lose to you anymore, Ino!\n What the--? Why are you here?\n Today's meeting is for graduates only.\n Hey, don't you see this headband?\n As of today, I'm a Ninja, too!\n How can I put it, it really suits me.\n So Naruto…was able to graduate.\n Goal!\n I won again, Sakura!\n What're you saying…?\n The tip of my foot got in one centimeter faster!\n You must be blind.\n It's Sakura.\n Oh…\n Sakura's looking at me…\n Hey, Sakura!\n Mor... morning, Sakur--\n Get outta' the way!\n M-Morning, Sasuke…\n Mind if I sit next to you?\n Hey! I'm going to sit next to Sasuke!\n First come, first served!\n I got in the classroom sooner!\n I did!\n If that's the case, then I did!\n I was first!\n I'm sitting next to Sasuke!\n How annoying...\n Is that this year's top rookie, Sasuke Uchiha?\n Yes.\n The sole survivor of the Uchiha clan?\n Yes.\n Naruto Uzumaki, eh…\n Naruto! Don't glare at Sasuke!\n Sakura…\n Everyone's all Sasuke Sasuke.\n What's so great about this guy?!\n Just beat him up, Sasuke!\n Yeah! Yeah!\n What? Really?\n Oh! Sorry!\n Wha--?\n Whoa!\n Cha! I was planning on seizing Sasuke's first kiss!\n You jerk… Naruto! I'll kill you!\n – My mouth is rotting. – Huh? Was that my fault?\n What? I feel rage…\n Naruto…\n You…\n An accident… lt was an accident\n You are annoying!\n Yikes!\n Naruto…He's at the center of trouble as usual.\n As of today, you all have become full-fledged Ninjas…\n However, you're still Genin.\n The tough part's still to come!\n From here on, you'll be in a squad of three\n and carry out your missions under your Jonin teachers.\n A squad of three?!\n I wonder who's going to be grouped with Sasuke.\n I don't know…\n Cha! I'll be the one grouped with Sasuke, naturally!\n Squads of three, eh. lt'll just slow me down…\n First will be Sakura.\n And the other person…\n can be anyone other than Sasuke!\n The groups have been determined\n so that the strength of the groups will be balanced.\n Now for the assignments!\n Now then, next is Group Seven…\n Naruto Uzumaki!\n Sakura Haruno.\n Hooray!\n I'm with…Naruto…?\n And…Sasuke Uchiha!\n Hooray!\n I'm with…Sasuke…?\n So I'll be in a different group from Naruto, huh…\n Next is Group Eight. Hinata Hyuga!\n Y-Yes…\n Kiba Inuzuka!\n Shino Aburame!\n Why is this happening…?\n Group Nine.\n Cha! Love will be victorious!\n Man…\n Why do women think that kind of guy's so great…?\n Don't you understand, Shikamaru?\n Well, I'm not a woman…\n That's why you are not popular among girls.\n I wouldn't want to be grouped with you.\n Group Ten. Ino Yamanaka.  Shikamaru Nara.\n It appears we've been grouped together.\n And Choji Akimichi.\n And Fatty on top of that...\n That's all for the group division.\n Iruka Sensei!\n Why does an exceptional student like me have to be\n in the same group with this guy?!\n Sasuke has the best grades of the graduates.\n Naruto, you're at the bottom!\n Of course, this is how it is when trying to balance the strength within groups.\n Just don't get in my way, loser!\n Hey, what did you say?!\n You want to fight, loser?\n Knock it off, Naruto!!\n In the afternoon, I'll introduce you to your Jonin teachers.\n You're dismissed until then!\n Sasuke!\n Where'd you go, Sasuke?\n I thought since we're in the same group and all, we'd eat together.\n Sakuraaaa!\n Since we're in the same group and all, let's eat together!\n Why should I have to eat with you?!\n Well... we're in the same group, so…\n You're…annoying.\n Sasuke! Where are you?\n Darn! This is no fun.\n I 'm finally in the same group as Sakura… and then it's like this…\n I wonder if something good will happen…\n That's it!\n Listen up!\n As long as we're in the same group, you will follow my instructions.\n Yeah-yeah…\n She becomes a real pain in the neck when people try to argue with to her, so…\n Let's all go out for some BBQ sometime.\n Oh, man…\n Hmm?\n Naruto…?\n Huh?\n Oh!\n Jerk, it's Naruto, isn't it!\n Darn! Just be quiet.\n Naruto! I won't forgive you if you hurt Sasuke!\n What happened?\n Heh! Idiot…\n So Naruto got beaten by the one he challenged…\n Of course! Naruto's no match  for Sasuke!\n No need for me to feel rushed…\n From here on out,\n I'll be in the same group as Sasuke for the long haul…\n But…\n Even if I were to use my feminine charms…\n my proportions are below average…\n All that's above average is  the width of my forehead…\n What should I do…?\n Huh? No way!\n Sasuke…is looking...\n this way!\n And with such a passionate look!\n You…have a charmingly wide forehead.\n It makes me want to kiss it.\n That's what its surface area is for.\n Yeah, right…\n I'm not just some kid who believes in fairy tales…\n There's no way.\n You…have a charmingly wide forehead.\n What?!\n It makes me want to kiss it.\n Cha! This fairy tale is for real!!\n Or that's what Naruto would say.\n I've got something to ask you.\n What?\n What do you think…of Naruto?\n He's quite at home interfering and enjoys it when I make mistakes.\n Naruto doesn't understand one thing about me…\n He just annoys me!\n All I want…is for you to accept me, Sasuke.…\n For me to accept you…?\n I'll do anything for the sake of that.\n I was careless!\n W-Wha--?!\n Gotcha!\n I didn't think someone who couldn't perform the Clone Jutsu properly\n could do the Shadow Clone Jutsu.\n I'm…desperate, so…\n I finally know why I…\n I like Sakura so much.\n Diarrhea at a time like this?!\n What's wrong?\n I-I'll be right back… 225\t01:41:53:26\t01:41:56:04 Sasuke's so shy!\n I guess he needs to prepare himself mentally…\n That was close!\n My stomach hurt so much that the Jutsu was about to wear off!\n Why does my stomach have to hurt at such a good time?!\n I'm annoying... huh…\n She said so again…\n And I transformed into Sasuke and had got a little closer to Sakura…\n In that case… I'll play an obnoxious Sasuke …\n and make her hate him!\n Oh Sasuke, you're such a shy bad boy!\n Are you prepared? I'm raring to go!\n H-Hey, Sasuke!\n Where's Naruto?\n Oh, there you go changing the subject again…\n Just leave Naruto alone!\n All he does is pick fights with you!\n It's because he wasn't raised right!\n You know!\n He doesn't have any parents, right?\n He always selfishly does  whatever he wants!\n My parents would get mad at me if I did something like that!\n There are no parents to nag you if it's just you alone!\n So his selfishness comes out at various times!\n The loneliness.\n Huh?\n It's something worse than getting scolded by parents and...\n W-What's gotten into you…?\n You…\n annoy me.\n Darn! It finally stopped!\n I wonder if Sakura's still waiting.\n W-What are you doing here?!\n I used the Escape Jutsu, the very basic of techniques.\n Oh...\n What were you planning to do…\n by transforming into me?!\n I thought it'd be fun, so I gave it a try!\n The Shadow Clone Jutsu again?!\n I'll show you that I'm really amazing!\n I'll defeat you…\n and make you accept me!\n Prepare yourself, Sasuke!\n Just like that, my stomach again…\n B-Bathroom!\n I'm first, I say!\n I'm first, I say.\n I'm about to go in my pants, I say!\n How stupid!\n \"You annoy me\" …huh?\n I see. So this is how Naruto must've felt…\n I wonder if I can… be a bit more nice next time…\n Darn.\n Did I eat something bad?\n Naruto…\n Smile…Smile…\n Let's go back to the classroom, Naruto.\n Sakura…\n Payback for earlier, huh?\n Sasuke's turned himself into Sakura…\n You're trying to trick me, right, Sasuke?!\n I don't think so!\n Ow-ow-ow… What the heck is going on?!\n Oh…\n You idiot, Naruto!\n So, this is Naruto's room…\n And Sasuke of the Uchiha clan is  also in the group you'll be in charge of.\n I wish you good luck!\n The expiration date…\n of this milk has passed quite awhile ago…\n He'll get sick if he drink this.\n It seems like that things are going to get disastrous.\n What the heck is going on?!\n What is going on?!\n This isn't the same Kakashi Sensei from yesterday.\n Is this really the same Kakashi Sensei\n who got caught in my trap and breezily came late?\n Darn it! Darn it!\n No way am I giving up!\n I'll defeat him and clear this super difficult testl!\n No way am I going back now!\n Next episode:  \"Pass or Fail: Survival Test\"\n Don't miss my outstanding performance!\n"
        ],
        [
         "3",
         "4",
         "C'mon!\n Running like a fugitive,\n Being chased by something\n Inside my heart is pounding\n My throat dry like it's withering\n For no single one,\n To none does belong,\n This time is ours, right now...\n Unraveling the pain,\n Unraveling our hearts,\n Unraveling shadows\n Stifling our breath,\n Reaching for beyond,\n Tearing through the dark\n In fighting and in love\n To the distant light above,\n Yes, we are on the way\n I wanna rock...\n Rockin' my heart\n He's late.\n Naruto!\n Stay still.\n Why's it that only our squad's teacher is late?\n The other squads have gone off somewhere with their new teachers,\n and Iruka Sensei's also left.\n Don't look at me.\n Hey, what're you doing, Naruto?!\n Hey!\n It'll be his fault because he's late.\n Man! You're asking for it!\n I like stuff like this!\n A Jonin wouldn't get caught in such a weak booby trap.\n That's right. You're such an idiot...!\n I got him, I got him...\n I-I'm sorry, sir.\n I tried to stop him, but Naruto did it on his own...\n It's all good.\n Get real. ls he really a Jonin?\n How can I put this?\n As for my first impression of you guys...?\n Well, I hate you.\n Pass or Fail: Survival Test\n Let's see.\n First off, let me have you guys introduce yourselves.\n Introduce ourselves...\n What should we say?\n Your likes, dislikes, your future dream, hobbies, things like that!\n Hey!  Before that, please tell us about yourself.\n Me? My name's Kakashi Hatake.\n I don't feel like telling you guys about my likes and dislikes.\n I've never really thought about my future dream...\n As for my hobbies, I have many.\n In the end, isn't all we know his name?\n Yeah.\n Next is you guys.\n Let's start with you.\n My name's Naruto Uzumaki!\n I like instant ramen,\n but what I like even more is the ramen from Ichiraku\n that Iruka Sensei treats me to.\n What I dislike is the three minutes\n after pouring hot water in the instant ramen.\n My hobby is eating and comparing ramen!\n And my future dream...\n is to surpass the Hokage!\n And so I'm going to get the entire village\n to acknowledge my existence!\n I see...\n this kid's grown up in an interesting way.\n Okay, next.\n I'm Sakura Haruno.\n What I like... I mean, who I like is...\n And, my hobby is, \t\t\t\t\tI mean...\n My future dream is...\n And? What about your dislikes?\n Naruto!\n Girls at her age are probably more interested in love\n than the Ninja Arts.\n And lastly.\n My name's... Sasuke Uchiha.\n I have lots of dislikes, but no likes in particular.\n Oh...\n And...\n I don't feel like summing up my ambition as just a dream\n but I do have an ambition!\n The ambition to restore my clan and without fail...\n to kill a certain man!\n He doesn't...\n mean me, does he?\n Sure enough, Sasuke's cool.\n I knew it...\n Good!\n The three of you are very distinctive and interesting!\n We'll have a mission tomorrow!\n Yes, sir! What kind of mission?\n First, we'll do what we can do with just four people.\n What-what-what?!\n A survival exercise.\n Survival exercise?\n Why are we doing an exercise\n even though this is supposed to be a mission?\n We've had more than our share of exercises in the Academy!\n This is no simple exercise.\n Then... then what kind of exercise is it?\n Hey! What's so funny, Sensei?\n Uh, well, if I tell you, I know you'll grow disenchanted.\n What?\n Of the twenty-seven graduates,\n only nine will be recognized as junior ninjas.\n The remaining eighteen will be sent back to the Academy.\n In other words, this exercise is an extremely difficult test\n with a failure rate of 66% or higher!\n See, see?\n You got disenchanted!\n That's crazy!\n To have suffered that much!\n T-Then, what was the graduation test for?\n Oh, that.\n It was just to select those who have the potential of becoming Genin.\n Whaaaat?!\n Well, that's the way it is.\n I'll be determining whether you pass or fail.\n Bring your complete set of Ninja tools!\n We meet at five in the morning.\n N-No way am I going to be dropped now!\n I've got to have my strength recognized for real.\n I'll be separated from Sasuke if I fail this test.\n This is an exercise of love!\n Okay! You're dismissed.\n Oh... And you'd best skip breakfast.\n You'll throw up.\n Morning.\n Hi, folks. Good morning!\n You're late!\n Well, a black cat crossed my path, you see.\n Ahem! Oh well...\n Okay, it's set for 12:00!\n Today's assignment is to take these bells away from me by noon.\n Those who can't do it won't get lunch.\n They'll be tied to that...\n and I'll eat my lunch before your very eyes.\n So that was the point...\n for us not to eat breakfast...\n But, hold on.\n Why are there only two bells?\n There are only two, so at the very least,\n one will have to go to the logs.\n That person will be disqualified for failing the mission...\n and will return to the Academy.\n It might be one person at the very least,\n or it could be all three of you.\n You can use your Shuriken.\n You won't be able to take the bells unless you come with the intent to kill me.\n But, that's dangerous, sir!\n Y-Yeah, that's right!\n You couldn't even evade a chalkboard eraser!\n In this world,\n those who aren't skilled enough tend to complain more.\n Well, just ignore the loser...\n Begin when I give the \"ready-go\" signal.\n Loser, loser, loser.\n Don't be so hasty. I didn't say start, yet.\n No way...!\n I didn't see him at all.\n So this is a Jonin.\n But, that's fine.\n At least you came with  the intent to kill me.\n How can I put this...?\n I feel like I'm finally starting...\n to like you guys.\n We're going to start.\n Ready... start!\n What do you want to know?\n I didn't think you just came here to drink tea.\n The Jonin in Naruto and company's Group Seven...\n What kind of teacher is he? ls he strict?\n You mean Kakashi? Does he concern you?\n I heard a rumor that concerns me.\n What's this?\n It's a pass-fail list of the junior ninjas\n Kakashi has been in charge of up until now.\n Let me have a look.\n T-This is...!\n Fundamentally, ninja must mask their presence and hide.\n Okay, everyone is hidden pretty well...\n Alright! Let's face off fair and square!\n Oh?\n That goof.\n Say, aren't you a bit off kilter?\n What's off kilter is your hairstyle!\n I'll teach you the first Shinobi Battle Jutsu...\n Taijutsu.\n Taijutsu...?\n That's ninja hand-to-hand combat...\n That being said... he's going to use weapons?\n Make-Out Paradise\n What's the matter?\n Why don't you come at me?\n But hey... what's with the book?\n Why do you ask...?\n It's because I was curious about what happens next.\n Don't worry.\n With you guys as opponents,\n it makes no difference if I'm reading or not.\n I'm going to rip you apart!\n Darn! This time a spin kick!\n Man!\n Wha--?!\n Ninja shouldn't let the enemy take them from behind multiple times, fool.\n The way his hands are positioned...\n Is that the Sign of the Tiger?!\n No way!\n With Naruto as his opponent,\n that's too strong a Ninjutsu no matter how you look at it.\n That Sign... lt's a fire-style skill.\n That idiot teacher's doing more than just running around?\n Naruto, get out of there quick!\n You'll die!\n Too late.\n Leaf Village Secret! Ultimate Taijutsu!\n One Thousand Years of Death!\n Oh, it's not a Ninjutsu.\n Those two are idiots.\n Alright...\n Even so, isn't that against the rules?\n What're we supposed to do about his strength?\n Darn it!\n It wasn't supposed to be like this.\n It... can't be!\n This is more than just a rumor.\n Kakashi's test might be a bit difficult...\n Even so, this means absolutely no one has passed...!\n That's right...\n Kakashi has never had someone pass.\n They have all...\n been annihilated...\n What's the matter?\n You won't get lunch if you can't take the bell by noon.\n I know that, I say.\n You're not very energetic,\n considering you said that you'd surpass the Hokage.\n Darn it! Darn it! I can fight even if I'm hungry.\n I didn't even have dinner last night.\n I shouldn't have gone on a diet.\n I just got a bit careless earlier!\n Darn! I'm hungry, so my strength...\n But... I've got to take the bell, no matter what.\n No matter what...\n I'm... not...\n turning back now!\n I'm going to become a Ninja!\n Security is your greatest enemy!\n Now for my favorite Multi-Shadow Clone Jutsu!\n Seven... Narutos?\n What? They're not just images?\n Are they all real? The real thing?\n Not the clone, but the shadow clone, eh.\n If you ever lay a hand on Iruka Sensei, I'll kill you!\n Show me what you can do, Demon Fox!\n Those aren't just images but actual clones!\n That's an advanced Ninjutsu!\n It's the forbidden Jutsu that did in Mizuki.\n Judging from your ability,\n that Jutsu should have a one-minute limit.\n Even if you talk trash,\n Naruto is Naruto after all is said and done...\n You still can't beat me with that skill.\n W-What?! Behind me?!\n Ninja shouldn't let the enemy take them from behind.\n Right, Kakashi Sensei?\n Using the Shadow Clone,\n I had one of them come up\n from the bottom of the river and sneak behind you!\n Here's one for that attack on my butt earlier!\n Naruto, not bad!\n So... a diversionary tactic, eh?\n Now... allow me to punch you!\n What?!\n The one who got punched was...\n Naruto?\n Ouch!\n You...!\n You're Kakashi Sensei, right?!\n You used the Transformation Jutsu to change yourself, didn't you?!\n It's you!\n You're Kakashi Sensei, I say.\n You smell like Kakashi Sensei!\n The smell of an old guy!\n Why you--!\n Hey! For the time being, let's try undoing the Jutsu.\n If we do that, only the two will remain... so...\n You should've realized that sooner, you idiot!\n You're me, you idiot! Just undo the Jutsu!\n Naruto...\n You're embarrassing to watch...\n That was the Substitution Jutsu, you fool.\n Essentially, it's a skill used to quickly switch one's own body\n with an object or animal.\n This makes your enemy think you're being attacked,\n but then you strike during their unguarded moment.\n After letting himself get caught by the real Naruto,\n the Jonin fool switched bodies with one of the clone Narutos.\n Not only did he make Naruto think he'd been nailed...\n he used Naruto's own attack on him.\n A bell?!\n You really must have been in a hurry.\n You've dropped a bell!\n What the heck is this?!\n Of course it's a trap...\n H-H-Hey!\n That jonin doesn't lower his guard even when he's fighting Naruto.\n The bell!\n You have to think when using Jutsu.\n They can be used against you.\n Also...\n ...don't get caught in an obvious trap, you fool.\n A Ninja must see through deception!\n I know that, I say!\n You know, I'm telling you because you don't get it.\n Listen up!\n Your movements are wasteful.\n Now!\n He finally dropped his guard!\n You're so...\n No way!\n You jerk Sasuke!\n You're overdoing it!\n Darn it!\n At this rate, there's no way I can beat Kakashi Sensei.\n But if I don't take the bell...\n I won't get lunch...\n No... I'll fail the test!\n He says a Ninja must see through deception,\n but I have no idea what that means.\n How in the world can I take the bell back\n from Kakashi Sensei?!\n Next episode:  \"You Failed! Kakashi's Final Decision\"\n Don't miss my outstanding performance!\n"
        ],
        [
         "4",
         "5",
         "C'mon!\n Running like a fugitive,\n Being chased by something\n Inside my heart is pounding\n My throat dry like it's withering\n For no single one,\n To none does belong,\n This time is ours, right now...\n Unraveling the pain,\n Unraveling our hearts,\n Unraveling shadows\n Stifling our breath,\n Reaching for beyond,\n Tearing through the dark\n In fighting and in love\n To the distant light above,\n Yes, we are on the way\n I wanna rock...\n Rockin' my heart\n You have to think when using Jutsu.\n They can be used against you.\n Also, don't get caught in an obvious trap, you fool.\n A Ninja must see through deception…got it?\n I know that!\n You know, you say that because you don't get it. Listen up.\n Your movements are wasteful.\n Now!\n He finally dropped his guard!\n You're so...\n No way!\n You jerk Sasuke! You overdid it.\n Damn! Another substitution…?\n He must have found out my location with those Shuriken!\n He purposely lowered his guard! Serves me right…\n I fell for the trap.\n So he's over there, eh…\n Sasuke…Where are you…?!\n Don't tell me, Kakashi Sensei already…\n No!\n That couldn't happen to Sasuke, right?!\n Safe! He didn't notice me.\n Sakura, behind you.\n Huh?!\n What's up with that \"A Ninja must see through deception\" stuff?!\n Darn it! I'll never fall for his trap again!\n I fell for it again!\n You Failed! Kakashi's Final Decision\n What was that?! Huh?!\n Hold on! Where's Sensei?!\n Huh?! What's going on?!\n Huh?! What's what?!\n Sakura…\n Sasuke?!\n Sa…Saku…ra…\n P-Please…help…me…\n Maybe I went a bit overboard…\n But it's really something she should notice…\n Was that voice…Sakura's…?\n Shinobi Battle Skill ♪2, Genjutsu.\n Sakura was easily lured.\n Genjutsu, huh...?\n An illusory mind-controlling technique. I'm not surprised she got lured.\n However…\n I'm different from them.\n Why don't you say that after you get a bell…Sasuke?\n It's no use just using straightforward attacks.\n A trap?!\n What?!\n This guy's...?!\n What a guy.\n There's no time to read \"Make-Out Paradise.\"\n What…? \t\t\t\t\tI…?!\n That's right! I saw Sasuke on the verge of dying and I…\n Sasuke! Don't die and leave me here!!\n Where are you?!\n So that's what it looks like behind the logs.\n Oh! There are box lunches on the stone!\n A Ninja must see through deception... eh?\n Well! I'll acknowledge that you're different from those two.\n Horse!\n Tiger!\n Fire Style! Fireball Jutsu!\n What?! That's not a Jutsu that a Genin can do…\n He shouldn't have enough Chakra yet!\n He's gone! ls he behind me?! No, above me?!\n Where is he?!\n I'm under you!!\n Wha--?!\n Earth Style: Headhunter Jutsu.\n Shinobi Battle Skill ♪3, Ninjutsu.\n How's that? You can't move, heh?\n Although, you're…already starting to make your mark.\n But, oh well.\n They do say that the nail that sticks up gets hammered down, so…\n Damn it!\n I don't have to naively take those bells. I'll just eat in secret right now!\n Let's eat!!\n Hey.\n I was just joking…\n Too late!\n Darn it…! Is there this much of a difference in strength…?\n Sakura...\n This time it's a freshly severed head?!\n What's up with her?\n Sasuke?\n You're okay!\n Hey, cut it out! Don't cling to me!\n There's not much time left until noon. I'm going.\n Sasuke, you're still going after the bells?!\n I was able to touch them last time. Next time I'll be able to take them.\n What?! \t\t\t\t\tI-I see.\n Sure enough, you're awesome, Sasuke.\n There's no way I can take the bells from Sensei.\n At this rate, I'll face separation from Sasuke…\n Uh…say. There's really no time left…\n So let's just take it easy and try again next time.\n I'm the only one who can kill that man.\n Huh…? What? You mean Sensei?\n At that time…I was crying.\n Crying…?\n My…\n What…? What is it…?\n I'm an avenger. I must become stronger than that man…\n I don't have time for setbacks here...\n ...to kill a certain man!\n Damn it…I wasted my time talking.\n Sasuke...\n Oh-oh, your stomachs are growling…\n By the way, about this exercise…\n Well! There's no need for you guys to go back to the Academy.\n What? I… All I did was lay unconscious.\n Is that okay?\n Love is victorious!! Cha!!\n Yahooooo!\n Then, then! That means the three of us…\n Yes. The three of you…\n must quit being Ninja!!\n N-No way!\n Kakashi hasn't passed a single person this whole time…\n Iruka…\n Even I don't know if it's good for those kids to become Shinobi right away…\n However… Kakashi's judgments were correct…\n Quit being Ninja?! What do you mean?!\n Uh, well it's true, we weren't able to take the bells.\n But why do we have to be told to \"quit\"?!\n That's because you're all squirts who don't have the qualifications to become Ninja.\n Oh!\n Sasuke!\n I'm saying you're squirts.\n Don't step on Sasuke!!\n Are you kids thinking that being a Ninja is easy? Huh?\n Why do you think you're doing this exercise in teams?\n Huh?! What do you mean?\n Put simply…\n it's as if you guys have no understanding of the answer to this test.\n Answer…?\n Yes. The answer that determines passing or failing of this test.\n That's…what I've wanted to ask about for a while now.\n Man, are you guys brainless or what?\n Don't you get the meaning of the three-man squad?!\n Jeez!! What of three people to a squad?!\n That's…teamwork!\n You mean, working together?\n Exactly. But it's too late even if you realize that now.\n You might've been able to…\n take the bells if the three of you had come at me…\n Well, it's too bad.\n Now wait a minute.\n Why use teamwork if there were only two bells?\n If the three of us were to desperately go take the bells with one having to hold back,\n that wouldn't be teamwork. That'd create internal discord.\n Of course!\n This is a test set up to purposely place you against each other.\n It's under just such conditions where one's own interests aren't the issue.\n The intention was to select those who could prioritize teamwork…\n Despite this, you fools…\n Sakura!\n You were only concerned with Sasuke and you didn't even know where he was.\n And you didn't care for Naruto who was right in front of your eyes…\n Naruto!\n All you do is run solo…\n You labeled the other two as hindrances and acted on your own…\n Missions are carried out in squads!\n There's no mistaking that Ninjas need unsurpassed individual skills…\n But \"teamwork\" is considered more important than that.\n Individual actions that disrupt teamwork throw the team into crisis and lead to death…\n For example...\n \"Sakura! Kill Naruto, or else Sasuke dies…\"\n What?! What?! Whaaat?!\n Is what will…happen.\n Oh, I was so surpised.\n On top of having a hostage taken,\n you're faced with two impossible choices and end up being killed.\n Every mission is a life-risking assignment.\n Look at this…\n The many names engraved on this stone…\n These are all Ninjas who are called heroes in the village.\n That-that-that-that! I like thaaat!\n I've decided now to get my name engraved there, too!\n A hero! A hero! I'm not going to die like a dog!\n But…they're not just ordinary heroes.\n No kidding. Then, what kind of heroes are they?\n Hey! Hey!\n They are heroes who were killed in action.\n Killed in action?\n It means they died performing a mission.\n This is a memorial.\n The names of my friends are also engraved here...\n I'll give you guys one more chance!\n However, after noon it'll be a harsher battle to take the bell.\n Those who want to take on the challenge can eat lunch.\n However, don't let Naruto have any.\n It's punishment for breaking the rules and attempting to eat lunch on your own.\n If someone lets him eat…\n that person will be disqualified on the spot.\n I make the rules, here. Got it?!\n I must be going.\n Listen to me, Iruka.\n What?\n No matter what the result, don't hold it against Kakashi…\n Alright.\n I'm okay with not eating lunch! No sweat at all!\n No sweat…\n Here.\n H-Hey, Sasuke. Sensei just said…!\n It's okay. There's no sign of him now.\n The three of us are going to go take the bells together.\n It'll be trouble for me if he becomes a hindrance, so...\n Sasuke…\n Sakura…\n Thanks…\n Don't thank me. Just hurry up and eat.\n But…\n I'm on…a diet… I mean I just eat less than Sasuke.\n So you don't need to worry.\n But…\n See…\n Wha--?!\n Hurry it up. We don't know when he'll be back…\n It's just this one time.\n Okay? You got it?!\n I got it.\n You three!\n Yiiikes!\n You defied the rules so that means you know what's coming…\n Do you have…something to say?\n But you see…\n What?!\n But! But! But! You said, Sensei!\n These guys…\n We're a three-man squad, right?\n That's right! The three of us are one, so…!\n That's right! That's right! That's right!\n That's right!\n The three of you are one, eh…\n You pass!\n What?!\n Whaaat?!\n You pass!\n We passed?! Why?!\n You guys are the first.\n Up until now, it was always just dunces who would meekly listen to what I said.\n A Ninja must see through deception…\n In the world of Ninja,\n those who break rules and codes are branded as garbage…\n But…\n Those who don't cherish their friends are garbage worse than that.\n He's… He's…kinda…cool…\n That's it for the exercise…\n Everyone passes!\n Group Seven starts their mission tomorrow!\n Yes, Sir!\n I did it!! I'm a Ninja! Ninja! Ninja!\n Let's go home.\n Cha!\n I...\n knew this is how it'd turn out!\n Untie the rope!\n Oh, please! It'd been nothing but blah missions until now.\n And just when I thought I'd finally gotten an awesome mission,\n to think it'd be bodyguarding this old man.\n He mocks the heck out of me, calling me a brat.\n I'll tell him a thing or two.\n Someday I'll be… Hey, are you listening?!\n Next episode: \"A Dangerous Mission! Journey to the Land of Waves!\"\n Don't miss me kick butt!\n"
        ]
       ],
       "shape": {
        "columns": 2,
        "rows": 5
       }
      },
      "text/html": [
       "<div>\n",
       "<style scoped>\n",
       "    .dataframe tbody tr th:only-of-type {\n",
       "        vertical-align: middle;\n",
       "    }\n",
       "\n",
       "    .dataframe tbody tr th {\n",
       "        vertical-align: top;\n",
       "    }\n",
       "\n",
       "    .dataframe thead th {\n",
       "        text-align: right;\n",
       "    }\n",
       "</style>\n",
       "<table border=\"1\" class=\"dataframe\">\n",
       "  <thead>\n",
       "    <tr style=\"text-align: right;\">\n",
       "      <th></th>\n",
       "      <th>episode</th>\n",
       "      <th>script</th>\n",
       "    </tr>\n",
       "  </thead>\n",
       "  <tbody>\n",
       "    <tr>\n",
       "      <th>0</th>\n",
       "      <td>1</td>\n",
       "      <td>A long time ago, a powerful demon fox appeared...</td>\n",
       "    </tr>\n",
       "    <tr>\n",
       "      <th>1</th>\n",
       "      <td>2</td>\n",
       "      <td>C'mon!\\n Running like a fugitive,\\n Being chas...</td>\n",
       "    </tr>\n",
       "    <tr>\n",
       "      <th>2</th>\n",
       "      <td>3</td>\n",
       "      <td>C'mon!\\n Running like a fugitive,\\n Being chas...</td>\n",
       "    </tr>\n",
       "    <tr>\n",
       "      <th>3</th>\n",
       "      <td>4</td>\n",
       "      <td>C'mon!\\n Running like a fugitive,\\n Being chas...</td>\n",
       "    </tr>\n",
       "    <tr>\n",
       "      <th>4</th>\n",
       "      <td>5</td>\n",
       "      <td>C'mon!\\n Running like a fugitive,\\n Being chas...</td>\n",
       "    </tr>\n",
       "  </tbody>\n",
       "</table>\n",
       "</div>"
      ],
      "text/plain": [
       "   episode                                             script\n",
       "0        1  A long time ago, a powerful demon fox appeared...\n",
       "1        2  C'mon!\\n Running like a fugitive,\\n Being chas...\n",
       "2        3  C'mon!\\n Running like a fugitive,\\n Being chas...\n",
       "3        4  C'mon!\\n Running like a fugitive,\\n Being chas...\n",
       "4        5  C'mon!\\n Running like a fugitive,\\n Being chas..."
      ]
     },
     "execution_count": 131,
     "metadata": {},
     "output_type": "execute_result"
    }
   ],
   "source": [
    "df"
   ]
  },
  {
   "cell_type": "code",
   "execution_count": 132,
   "metadata": {},
   "outputs": [],
   "source": [
    "output_themes = df['script'].apply(get_themes_inference)"
   ]
  },
  {
   "cell_type": "code",
   "execution_count": 133,
   "metadata": {},
   "outputs": [
    {
     "data": {
      "text/plain": [
       "0    {'dialogue': 0.9585431814193726, 'betrayal': 0...\n",
       "1    {'dialogue': 0.9606050252914429, 'sacrifice': ...\n",
       "2    {'dialogue': 0.9430063664913177, 'sacrifice': ...\n",
       "3    {'dialogue': 0.7951261699199677, 'sacrifice': ...\n",
       "4    {'dialogue': 0.9142732620239258, 'betrayal': 0...\n",
       "Name: script, dtype: object"
      ]
     },
     "execution_count": 133,
     "metadata": {},
     "output_type": "execute_result"
    }
   ],
   "source": [
    "output_themes"
   ]
  },
  {
   "cell_type": "code",
   "execution_count": 134,
   "metadata": {},
   "outputs": [],
   "source": [
    "theme_df = pd.DataFrame(output_themes.tolist())"
   ]
  },
  {
   "cell_type": "code",
   "execution_count": 135,
   "metadata": {},
   "outputs": [
    {
     "data": {
      "application/vnd.microsoft.datawrangler.viewer.v0+json": {
       "columns": [
        {
         "name": "index",
         "rawType": "int64",
         "type": "integer"
        },
        {
         "name": "dialogue",
         "rawType": "float64",
         "type": "float"
        },
        {
         "name": "betrayal",
         "rawType": "float64",
         "type": "float"
        },
        {
         "name": "battle",
         "rawType": "float64",
         "type": "float"
        },
        {
         "name": "sacrifice",
         "rawType": "float64",
         "type": "float"
        },
        {
         "name": "self developement",
         "rawType": "float64",
         "type": "float"
        },
        {
         "name": "hope",
         "rawType": "float64",
         "type": "float"
        },
        {
         "name": "friendship",
         "rawType": "float64",
         "type": "float"
        },
        {
         "name": "love",
         "rawType": "float64",
         "type": "float"
        }
       ],
       "conversionMethod": "pd.DataFrame",
       "ref": "6fe3921e-3847-4122-b3f8-5398bce25ad3",
       "rows": [
        [
         "0",
         "0.9585431814193726",
         "0.7927066385746002",
         "0.7564091980457306",
         "0.6804310381412506",
         "0.7287730276584625",
         "0.2016690969467163",
         "0.07262789830565453",
         "0.03414121363312006"
        ],
        [
         "1",
         "0.9606050252914429",
         "0.42994399741292",
         "0.6848434209823608",
         "0.5707032680511475",
         "0.4197438210248947",
         "0.15453361719846725",
         "0.04626055061817169",
         "0.17326001985929906"
        ],
        [
         "2",
         "0.9430063664913177",
         "0.33949054032564163",
         "0.7078851461410522",
         "0.6615160405635834",
         "0.6530581116676331",
         "0.5736332535743713",
         "0.3422190845012665",
         "0.39486246556043625"
        ],
        [
         "3",
         "0.7951261699199677",
         "0.554723784327507",
         "0.7236733734607697",
         "0.6521527022123337",
         "0.8271222114562988",
         "0.4452931135892868",
         "0.5253402441740036",
         "0.31533273309469223"
        ],
        [
         "4",
         "0.9142732620239258",
         "0.8911019861698151",
         "0.7836416065692902",
         "0.5858464986085892",
         "0.45592691004276276",
         "0.09376322105526924",
         "0.07385576143860817",
         "0.0540701188147068"
        ]
       ],
       "shape": {
        "columns": 8,
        "rows": 5
       }
      },
      "text/html": [
       "<div>\n",
       "<style scoped>\n",
       "    .dataframe tbody tr th:only-of-type {\n",
       "        vertical-align: middle;\n",
       "    }\n",
       "\n",
       "    .dataframe tbody tr th {\n",
       "        vertical-align: top;\n",
       "    }\n",
       "\n",
       "    .dataframe thead th {\n",
       "        text-align: right;\n",
       "    }\n",
       "</style>\n",
       "<table border=\"1\" class=\"dataframe\">\n",
       "  <thead>\n",
       "    <tr style=\"text-align: right;\">\n",
       "      <th></th>\n",
       "      <th>dialogue</th>\n",
       "      <th>betrayal</th>\n",
       "      <th>battle</th>\n",
       "      <th>sacrifice</th>\n",
       "      <th>self developement</th>\n",
       "      <th>hope</th>\n",
       "      <th>friendship</th>\n",
       "      <th>love</th>\n",
       "    </tr>\n",
       "  </thead>\n",
       "  <tbody>\n",
       "    <tr>\n",
       "      <th>0</th>\n",
       "      <td>0.958543</td>\n",
       "      <td>0.792707</td>\n",
       "      <td>0.756409</td>\n",
       "      <td>0.680431</td>\n",
       "      <td>0.728773</td>\n",
       "      <td>0.201669</td>\n",
       "      <td>0.072628</td>\n",
       "      <td>0.034141</td>\n",
       "    </tr>\n",
       "    <tr>\n",
       "      <th>1</th>\n",
       "      <td>0.960605</td>\n",
       "      <td>0.429944</td>\n",
       "      <td>0.684843</td>\n",
       "      <td>0.570703</td>\n",
       "      <td>0.419744</td>\n",
       "      <td>0.154534</td>\n",
       "      <td>0.046261</td>\n",
       "      <td>0.173260</td>\n",
       "    </tr>\n",
       "    <tr>\n",
       "      <th>2</th>\n",
       "      <td>0.943006</td>\n",
       "      <td>0.339491</td>\n",
       "      <td>0.707885</td>\n",
       "      <td>0.661516</td>\n",
       "      <td>0.653058</td>\n",
       "      <td>0.573633</td>\n",
       "      <td>0.342219</td>\n",
       "      <td>0.394862</td>\n",
       "    </tr>\n",
       "    <tr>\n",
       "      <th>3</th>\n",
       "      <td>0.795126</td>\n",
       "      <td>0.554724</td>\n",
       "      <td>0.723673</td>\n",
       "      <td>0.652153</td>\n",
       "      <td>0.827122</td>\n",
       "      <td>0.445293</td>\n",
       "      <td>0.525340</td>\n",
       "      <td>0.315333</td>\n",
       "    </tr>\n",
       "    <tr>\n",
       "      <th>4</th>\n",
       "      <td>0.914273</td>\n",
       "      <td>0.891102</td>\n",
       "      <td>0.783642</td>\n",
       "      <td>0.585846</td>\n",
       "      <td>0.455927</td>\n",
       "      <td>0.093763</td>\n",
       "      <td>0.073856</td>\n",
       "      <td>0.054070</td>\n",
       "    </tr>\n",
       "  </tbody>\n",
       "</table>\n",
       "</div>"
      ],
      "text/plain": [
       "   dialogue  betrayal    battle  sacrifice  self developement      hope  \\\n",
       "0  0.958543  0.792707  0.756409   0.680431           0.728773  0.201669   \n",
       "1  0.960605  0.429944  0.684843   0.570703           0.419744  0.154534   \n",
       "2  0.943006  0.339491  0.707885   0.661516           0.653058  0.573633   \n",
       "3  0.795126  0.554724  0.723673   0.652153           0.827122  0.445293   \n",
       "4  0.914273  0.891102  0.783642   0.585846           0.455927  0.093763   \n",
       "\n",
       "   friendship      love  \n",
       "0    0.072628  0.034141  \n",
       "1    0.046261  0.173260  \n",
       "2    0.342219  0.394862  \n",
       "3    0.525340  0.315333  \n",
       "4    0.073856  0.054070  "
      ]
     },
     "execution_count": 135,
     "metadata": {},
     "output_type": "execute_result"
    }
   ],
   "source": [
    "theme_df"
   ]
  },
  {
   "cell_type": "code",
   "execution_count": null,
   "metadata": {},
   "outputs": [],
   "source": []
  },
  {
   "cell_type": "code",
   "execution_count": 136,
   "metadata": {},
   "outputs": [
    {
     "data": {
      "application/vnd.microsoft.datawrangler.viewer.v0+json": {
       "columns": [
        {
         "name": "index",
         "rawType": "int64",
         "type": "integer"
        },
        {
         "name": "episode",
         "rawType": "int64",
         "type": "integer"
        },
        {
         "name": "script",
         "rawType": "object",
         "type": "string"
        }
       ],
       "conversionMethod": "pd.DataFrame",
       "ref": "584b9d9f-ac87-4255-8cec-a71502dddb04",
       "rows": [
        [
         "0",
         "1",
         "A long time ago, a powerful demon fox appeared with nine tails.\n With its powerful tails,\n it could smash mountains and create tidal waves.\n A band of Ninjas rose to defend their village from attack.\n We have to wait until the Fourth Hokage gets here!\n We can't let it get any closer to our village!\n One great Ninja was able to imprison the monster,\n but died in the process.\n This Ninja was known as… the Fourth Hokage.\n Naruto!\n Why did you do such a thing?!\n You're really gonna get it this time!\n I don't care!\n You know your problem?\n You can't do the things I do!\n Only I can do this!\n I'm better than all of you! Believe it!\n There's a problem, sir!\n Lord Hokage!\n What is it?\n Did that Naruto do something again?\n Yes. He climbed onto the Mountainside Images…\n And he vandalized and graffitied all over them!\n Wait!\n Ha ha…\n Why should I?\n Hey, Naruto!\n How did you suddenly get here, lruka Sensei?\n The question is what are you doing here when you should be in class now?\n Now listen, Naruto.\n You failed the last graduation test and the one before that.\n This is no time to be goofing off, you fool!\n We will have a re-test on the Transformation Jutsu!\n Even those who already passed will take it!\n Whaaaat?!\n Sakura Haruno. Here I go…\n Transform!\n OK!\n I did it!\n Cha!\n Did you see that, Sasuke?\n Next, Sasuke Uchiha.\n Yes.\n O-OK.\n Next, Naruto Uzumaki.\n This is a real pain.\n And it's all your fault.\n Like I care!!\n OK…\n Good luck, Naruto…\n Transform!\n How was it?\n I call it the \"Sexy Jutsu\"!\n You fool! Stop making idiotic spells!\n Darn…\n Darn…\n I won't let you go home unless you clean that all up.\n I don't care…\n There's nobody home anyway.\n Naruto...\n What is it this time?\n What I meant was…\n If you clean up all that mess, I'll buy you ramen tonight.\n Huh?!\n Yes! I-I will finish it no time!\n Enter: Naruto Uzumaki!\n Naruto.\n Why did you vandalize those faces?\n Don't you know who the Hokage leaders are?\n Of course, I do!\n I know they earned the title Lord Hokage\n because they were the best Ninja of their time, right?\n Especially the Fourth Hokage was a hero\n who saved the village from the nine-tail demon fox.\n Then why did you do that?\n Because I'll become a Hokage myself.\n And I'll be the greatest Hokage of all time!\n So that everyone will finally learn to accept me!\n By the way, Sensei, I have a favor to ask.\n You want another bowl?\n Mmmm…No…\n Can I borrow that Leaf headband for a while?\n This?\n No no!\n This is worn only by those who have graduated from Ninja Academy.\n Tomorrow, you will…\n You're so mean!\n So that's why you took off your goggles…\n Humph... One more bowl please!\n We are now about to begin the graduation test.\n When your name is called, proceed to the next classroom.\n The test is on the Clone Jutsu.\n Oh no…\n Of all the…! That is my weakest Jutsu!\n But still… I will do it no matter what!\n Clone Jutsu!\n Disqualified!\n Iruka Sensei.\n His physical coordination and stamina are excellent.\n And he managed to come up with something.\n Isn't that enough for him to pass?\n Mizuki Sensei... All the others created three or more clones.\n Naruto created just one.\n And it's practically useless. I can't give him a passing mark.\n I 'm a Ninja now!\n You did well. That's my son.\n Congratulations for your graduation.\n I'll cook something good tonight!\n Look at that one.\n It's that boy. I hear he's the only one who failed.\n Serves him right.\n Imagine what would happen if he became a Ninja.\n Isn't that the boy who is actually…\n Hey! We're not supposed to talk about that.\n Iruka. We need to talk later.\n Yes, sir.\n Iruka Sensei isn't trying to be mean to you.\n Then why only me?\n He wants you to become strong from the bottom of his heart.\n You both don't have parents.\n But I really wanted to graduate.\n Heh... I guess I have no choice…\n I'll let you in on a big secret.\n Secret?\n Iruka.\n What is it, Lord Hokage?\n I know how you feel. But…\n Naruto also grew up without knowing the love of his parents…like you.\n Let me go!\n My mom and dad are still out there fighting!\n Wake up, Iruka Sensei!\n What's the matter?\n Come to Lord Hokage's immediately!\n I heard that Naruto… stole the Scroll of Sealing.\n The Scroll of Sealing?!\n Let's see…\n The first Jutsu is… Multi-Shadow Clone Jutsu?\n What?! Already a Jutsu I'm no good at?\n Lord Hokage! We can't forgive him!\n This is not just a prank!\n The Scroll is a dangerous item that the First Hokage sealed!\n Depending on its use…\n It will be a major disaster if it is taken out of the village!\n Yes. Bring Naruto here at once!\n Yes, sir!\n Where did you go…Naruto?\n I will tell everyone in the village about this and eliminate Naruto…\n Then the Scroll of Sealing will be mine!\n Hey you, Naruto!\n You found me..\n And I've only learned one Jutsu.\n He's been practicing the Jutsu…\n until he's become this exhausted and dirty…?\n Listen, listen! I'm gonna show you this amazing Jutsu!\n You're gonna let me graduate if I can do it!\n Isn't it true that I can graduate if I can do one of the Jutsu written here?\n Who told you that?\n Mizuki Sensei. He told me about this scroll, and this place…\n Mizuki did?!\n I'm impressed you found this place.\n I see now…how it is.\n Naruto, give me that scroll.\n Wait, wait… What's going on here?\n Naruto! Never give him that scroll!\n It is a dangerous object that contains forbidden Ninja Jutsu. It was sealed.\n Mizuki used you in order to get it for himself!\n W-Wha--?\n Naruto, Iruka is only afraid of you holding that scroll!\n Huh?\n What are you saying, Mizuki! Don't let him fool you, Naruto!\n I will tell you the truth.\n Idiot! Don't do that!\n After an incident 12 years ago, a rule was created.\n A rule?\n That is, Naruto, a rule everybody but you knows.\n Except me?! \t\t\t\t\tWhat is it?\n Stop it, Mizuki!\n The rule forbids anyone from revealing that you are actually the Demon Fox Spirit!\n Huh?\n You are actually the Demon, Nine-Tailed Fox Spirit,\n who killed Iruka's parents and destroyed our village!\n Stop it!\n Everyone has been deceiving you ever since.\n Didn't you find it strange?\n Why everyone hated you so much?\n No! No! No! No! No!\n Naruto…\n Nobody accepts you. That's why Iruka hates you so much!\n Iruka... Naruto grew up without the love of parents.\n Everyone avoids him like the plague after what happened.\n That's why he keeps misbehaving.\n It's the only way for him to get any attention or acknowledgement.\n He pretends to be tough, but inside he is really hurting.\n Die, Naruto!\n Naruto! \t\t\t\t\tGet down!\n Why…?\n Because you and I are the same.\n After my parents died,\n nobody paid attention to me or gave me any support.\n I wasn't a good student in school.\n I was the class clown… because I wanted people to notice me.\n I couldn't get noticed through excellence, so I kept doing stupid things.\n It was so hard.\n Isn't that right, Naruto?\n You felt so lonely…right? And you suffered inside, right?\n I'm sorry, Naruto….\n If I had been more responsible, maybe you wouldn't have suffered so much.\n Don't make me laugh!\n Iruka has always hated you, ever since you killed his parents!\n He's just saying all that to get the Scroll of Sealing back!\n Naruto!\n Narutoooooo!\n He is not the type of kid who will change his mind.\n He will take revenge against our village using that scroll!\n Didn't you see his eyes? Those are the eyes of a Demon Fox.\n No… Naruto…isn't…like that at all!\n All I want is to kill Naruto and get the scroll.\n I'll take care of you later!\n I-I won't let you…\n Well, well.\n Mizuki has a big mouth!\n Naruto feels worse than he's ever felt.\n He might unleash the power locked up inside him.\n The Scroll of Sealing is now with him.\n There's a slight chance he might actually release\n the Nine-Tailed Fox Spirit sealed inside him!\n If that happens…\n I've found him!\n Naruto!\n Everything that Mizuki said was a lie!\n Give me that scroll, quick! Mizuki is after the scroll!\n It can't be…\n Why is it, Naruto?\n How…\n did you know I wasn't Iruka…?\n Because I'm Iruka.\n I see.\n What's in it for you to protect the one who killed your family?\n I'm not gonna let a stupid idiot like you get that scroll!\n You're the idiot. Naruto is the same as me.\n Same?\n Anyone can do whatever he wants once he has the scroll.\n There is no way that that monster…\n that Fox Spirit, won't take advantage of the power of that scroll!\n You're right…\n I guess it was true all along!\n See, Iruka Sensei never really cared for me at all!\n ...if he was the Demon Fox Spirit.\n But Naruto is different!\n I know that he is an exceptional student.\n He works very hard,\n and he's single-minded and clumsy at the same time.\n No one accepts him, but he knows the meaning of human suffering.\n He is not the Demon Fox Spirit.\n He's Naruto Uzumaki of the Village Hidden in the Leaves!\n You are so gullible. \t\t\t\t\tlruka!\n I was gonna take you down later, but I have changed my mind.\n Die!\n I guess this is the end for me…\n Naruto?!\n You surprised me there, freak.\n If you ever lay a hand on Iruka Sensei, I'll kill you!\n Shut up! I can take care of a kid like you with a single blow!\n Why don't you try then? I'll strike you back a thousand-fold!\n Let's see you try! Show me what you can do, Demon Fox!\n Shadow Clone Jutsu!\n Naruto! You've…\n Those aren't just images but actual clones! That's an advanced Ninjutsu!\n What's this…?\n What's the matter? \t\t\t\t\tC'mon!\n Weren't you gonna get me with one blow? Here!\n In that case… I'll come to you.\n I kinda got carried away. lruka Sensei, are you okay?\n Yeah.\n He's really something.\n Maybe it is true.\n Maybe he will surpass all the Hokage leaders…\n Naruto, come over here. I'd like to give you something.\n Has anyone found Naruto yet?\n No.\n Darn, this is going to be bad…\n There's no need to worry anymore.\n Lord Hokage!\n He'll be back soon.\n Sensei, how much longer?\n OK, you may open your eyes now.\n Congratulations…on your graduation.\n In celebration, we'll have ramen tonight!\n Iruka Sensei!\n That hurts!\n Naruto…\n I was going to lecture to you...\n that the road gets more difficult now that you're a Ninja.\n But I guess I'll just wait to tell you that until we get to the ramen stand…\n W-What do you want, you little shrimp? Quit following me!\n You're smaller than me and\n you're saying that you're gonna become the Fifth Hokage?\n I don't care if you are the 3rd Hokage's grandson or not.\n It's not that easy to be a Hokage!\n If you want it that bad, you're gonna have to beat me first!\n Next episode:  \"My Name Is Konohamaru!\"\n Watch my outstanding performance!\n"
        ],
        [
         "1",
         "2",
         "C'mon!\n Running like a fugitive,\n Being chased by something\n Inside my heart is pounding\n My throat dry like it's withering\n For no single one,\n To none does belong,\n This time is ours, right now...\n Unraveling the pain,\n Unraveling our hearts,\n Unraveling shadows\n Stifling our breath,\n Reaching for beyond,\n Tearing through the dark\n In fighting and in love\n To the distant light above,\n Yes, we are on the way\n I wanna rock...\n Rockin' my heart\n Hey, you!\n Are you sure you want to look like that?\n Yes, of course! C'mon! So hurry hurry!\n Don't regret it later.\n Say cheese!\n My Name Is Konohamaru!\n I couldn't decide on how to look.\n It took me 3 hours to decide.\n But as you can see, it's more like a work of art.\n Doesn't it look great?\n Take it over.\n What?!\n Take it over.\n Stop saying that!\n Transform!\n Oh please, Lord Hokage…\n The Sexy Jutsu… That's quite a devious technique.\n By the way Naruto, where's your headband?\n I won't wear it until the orientation. lt might get scratched\n Well, that's just fine.\n But the Ninja Registration Form is a very important document\n held in high regard by our village.\n Why do you want to look like this?\n Because!\n Anyway, how should I know about all that stuff?\n Old man! Get ready to fight!\n I am going to be the Fifth Hokage!\n Ouch!\n If it's not one thing, it's another….\n Drat! Is this a trap?\n Are you okay, Honorable Grandson?\n May I just inform you that there aren't any traps here…\n Huh? What's with this runt?\n What?!\n I know this kid… He's that Nine-Tailed boy!\n He's a good-for-nothing scoundrel!\n You must have done this to me!\n You tripped all by yourself, stupid!\n Hey! Let go of him!\n He is the Honorable Grandson of the Third Hokage!\n He stopped as soon as he learned who I am….\n He's like my four-eyed teacher.\n He's just like everyone else!\n What's the matter?\n Weren't you gonna hit me, huh?\n Can't do it 'cuz I'm the Hokage's grandson, eh?\n As if I care! \t\t\t\t\tlmbecile!\n This guy…\n What?!\n Good grief…\n Listen to me.\n You are the Honorable Grandson of the Third Hokage.\n Even though that scoundrel hit you, you must not associate with his kind.\n Nothing good will come of your tangling with him.\n This is your distinguished teacher Ebisu,\n and I am never wrong about these things!\n Don't you want to become the Fifth Hokage?\n Then allow me to teach you Ninjutsu,\n so that your dream will become a reality.\n That's right.\n Stick with me and you will gain a shortcut towards becoming the Fifth Hokage.\n Is that clear, Honorable Grandson?\n He's gone!\n It seems he's gone after Naruto.\n Oh no!\n This is terrible!\n Honorable Grandson!\n How did he become like this?\n That was the 20th sneak attack today.\n And now he's in the company of Naruto. I'm a bit worried.\n I just hope he doesn't pick up more foolishness.\n Huh?\n Stop following me!\n What is it now?!\n Your camouflage is pathetic.\n You've seen through my disguise...\n Your reputation is well-earned.\n I will allow you to make me your apprentice.\n But you must first teach me that  \"Sexy Jutsu\"  technique\n you used to beat Grandpa Hokage.\n You gotta be kidding.\n I beg you to say yes, boss!\n Huh?\n Boss?\n Boss! Boss! Boss!\n I guess I have no choice.\n Listen.\n In order to become a skilled Ninja,\n you must first learn to control your Chatora.\n Chatora?\n Yes, Chatora.\n Boss, I think you mean Chakra.\n Silence!\n That's what real Ninjas call it!\n Oh! I didn't know that!\n Whew… I'm glad he's a fool.\n Listen. Chakra essentially means…\n Basically, it is the energy needed in order to use Jutsu.\n Huh?\n In other words, fundamentally Ninja Arts combine the Chakra,\n the physical energy accumulated from each cell in the body\n with spiritual energy intensified through training and experience.\n This combined energy is summoned with certain hand signs.\n You made me think you knew all that,\n when you were just reading from a scroll!\n Much has been said about perfecting the Ninja techniques,\n but it really boils down to just one thing.\n And what is that?\n Hard work and guts.\n Hard work and guts?\n That's right.\n So be ready for the challenging tasks I will give you.\n Yes, boss!\n Good. Let's start right now. Transform for me.\n Huh?\n Let me see first how much you already know.\n But what do I transform into?\n OK... First, transform into that lady.\n An easy task, boss.\n Transform!\n Well, do I look like her?\n Uhm… Well, the clothes do and…\n And what's so similar about that?!\n Honorable Grandson.\n If you will transform into me, at least try to look a little cuter, OK?\n She's scary!\n Why am I the one who gets hit?\n OK! Next, we'll do some research on sexiness!\n Yes, boss!\n I told you I don't allow reading here, Naruto!\n This is the last test. Put all of your effort into it!\n Yes, boss!\n Transform!\n Naruto! It's you again!\n Why is it always me…?\n Sorry.\n Huh?\n It's because I'm the Hokage's grandson.\n Don't worry about it.\n Huh?\n You're now ready to perform the Sexy Jutsu!\n You just need more practice.\n Yes, boss!\n OK, keep in mind… the point is for \"boom boom boom\"!\n Now do it!\n Yes, boss! \t\t\t\t\tTransform!\n What do you think?\n That won't do!\n More slender.\n Yes, boss!\n Is this okay?\n Not yet. \t\t\t\t\tMore attractive.\n Yes, boss!\n How about now?\n That Naruto… What is he teaching the Honorable Grandson…?\n Where the hell could they be…?\n I am a distinguished teacher training potential Hokage.\n All those who interfere will be eliminated.\n You know I've been wondering…\n You seem obsessed with beating your Grandpa Hokage.\n My name is Konohamaru.\n It was Grandpa who gave me that name.\n He named me after our village.\n It should be easy for everyone here to remember.\n But nobody ever calls me by that name.\n When they see me, all they see is the grandson of Lord Hokage.\n No one sees me for who I really am.\n I can't stand it anymore.\n That's why…\n That's why I want the title of Lord Hokage now.\n Idiot…Who do you think will accept you, huh?\n Huh?\n You won't win the title that easily, you know.\n What?!\n It's not that simple.\n If you're really serious about gaining the title of Lord Hokage…\n What?\n You'll have to beat me first!\n Lord Hokage! I've been looking for you.\n Iruka.\n Did Naruto re-submit his Ninja Registration Form?\n Yes.\n When I lectured to him the other night at the ramen stand,\n he said he will make everyone accept him now that he's a Ninja.\n He's been happy since then.\n It might not be easy for Naruto to realize that dream.\n Huh?\n As you well know,\n only the villagers who fought the Nine-Tailed Fox Spirit 12 years ago\n know that the monster is sealed inside Naruto.\n I ruled that no one shall speak about that incident.\n I have severely punished those who have broken this rule.\n Now our children know nothing about it.\n That is the only positive development for Naruto.\n Before the Fourth Hokage trapped the monster and died,\n his last wish was for the villagers to regard Naruto as a hero.\n A hero?\n The Fourth Hokage sealed the monster into the navel of a newborn baby\n whose umbilical cord had just been cut.\n As the receptacle for the Nine-Tailed Fox Spirit,\n Naruto saved the village.\n Unfortunately, the other villagers don't see him like that.\n Some even say that Naruto is the Nine-Tailed Fox Spirit himself.\n Little by little, that attitude has been passed down to their own children.\n Iruka. \t\t\t\t\tDo you know?\n What, sir?\n When someone is hated and people refuse to accept his existence,\n he sees it in the eyes of the people around him.\n I have found you!\n Huh?\n That Demon Fox!!\n That cold look! lt's always like that!\n Honorable Grandson, we have to go now.\n No way!\n I want to beat Grandpa right now so I can win the title of Lord Hokage!\n Don't get in my way!\n A Hokage must first know about virtue, honor, etiquette, wisdom, loyalty, faith,\n judgment, obedience and all that.\n He must be skilled at more than thousand techniques…\n And then...\n Transform!\n Take this! Sexy Jutsu!\n What? \t\t\t\t\tlt didn't work!\n What kind of a disgraceful spell is that?!\n I am a gentleman!\n Such vulgar attacks will never work on me!\n Honorable Grandson! That rascal will only make you an imbecile!\n Stick with me and...\n you will gain a shortcut towards becoming the Fifth Hokage.\n C'mon, let's go!\n No way!\n Shadow Clone Jutsu\n Wow! \t\t\t\t\tFantastic!\n Ha! \t\t\t\t\tThat's nothing.\n I am a distinguished teacher.\n I am not as weak as Mizuki.\n Boss…\n Transform!\n Transform!\n Oh, Master Ebisu…\n I call it \"the Harem Jutsu\"!\n He combined the Multiple Clones with his own Sexy Jutsu.\n That's another devious attack.\n I probably won't even survive that one.\n I can't even beat that four-eyed teacher of mine!\n I want the title of Lord Hokage so badly! I want to be recognized by everybody!\n But I keep failing.\n You think it's that easy?\n Huh?\n It's given only to the greatest Ninja in the village.\n Everybody must learn to believe in you.\n I've been through a lot already.\n It's been one struggle after another.\n But after all that, I found someone who accepts me.\n I had to go through a lot... Just for one person.\n You had better push yourself.\n For what?\n The path of getting the title, Lord Hokage, is a brutal one.\n There's no such thing as a shortcut.\n If you're really serious about attaining the title of Lord Hokage\n You'll have to beat me first.\n Who do you think you are, lecturing me like that?\n I won't be your apprentice anymore.\n From now on, you're my rival.\n Unfortunately for you, tomorrow I graduate from the Ninja Academy.\n Still, I'll consider you an equal someday when we fight for the title of Lord Hokage.\n Let's look forward to that, Konohamaru.\n You still have a long way to go to become a real Ninja.\n Aaah! Why do I have to be in the same group with Sasuke?\n The guy I hate the most?\n Sakura keeps saying  \"Sasuke Sasuke Sasuke!\"\n and doesn't even pay attention to me!\n It makes me so mad! I got it! I'm going to pull one on him!\n I'm not gonna let him be so cool in front of Sakura!\n Next Episode:  \"Sasuke and Sakura: Friends or Foes?\"\n Watch my outstanding performance!\n"
        ],
        [
         "2",
         "3",
         "C'mon!\n Running like a fugitive,\n Being chased by something\n Inside my heart is pounding\n My throat dry like it's withering\n For no single one,\n To none does belong,\n This time is ours, right now...\n Unraveling the pain,\n Unraveling our hearts,\n Unraveling shadows\n Stifling our breath,\n Reaching for beyond,\n Tearing through the dark\n In fighting and in love\n To the distant light above,\n Yes, we are on the way\n I wanna rock...\n Rockin' my heart\n Today's…a special day, so…\n Time to eat!\n Sasuke and Sakura: Friends or Foes?\n Fight me, here!\n What're you doing, Konohamaru?\n Very good, Naruto…\n You're the man I expected you to be.\n I didn't do anything, you know…\n Let's fight fair!\n Sorry! I've got an orientation meeting to go to.\n An orientation meeting…?\n Cause… As of today, I'm a Ninja!\n Oh…\n Sakura! Shouldn't you be heading out soon?\n I was thinking of leaving now!\n Cha! How long are you planning to treat me like a child?!\n That's right… I'm not a student of the academy anymore…\n I'm a Kunoichi of the Leaf Village, Sakura Haruno!\n I'm off!\n Morning, Sakura.\n Morning... Ino.\n Who would've thought you'd be able to graduate.\n Ancient history has nothing to do with it.\n As of today, we're both full-fledged Ninjas...\n I won't lose to you anymore, Ino!\n What the--? Why are you here?\n Today's meeting is for graduates only.\n Hey, don't you see this headband?\n As of today, I'm a Ninja, too!\n How can I put it, it really suits me.\n So Naruto…was able to graduate.\n Goal!\n I won again, Sakura!\n What're you saying…?\n The tip of my foot got in one centimeter faster!\n You must be blind.\n It's Sakura.\n Oh…\n Sakura's looking at me…\n Hey, Sakura!\n Mor... morning, Sakur--\n Get outta' the way!\n M-Morning, Sasuke…\n Mind if I sit next to you?\n Hey! I'm going to sit next to Sasuke!\n First come, first served!\n I got in the classroom sooner!\n I did!\n If that's the case, then I did!\n I was first!\n I'm sitting next to Sasuke!\n How annoying...\n Is that this year's top rookie, Sasuke Uchiha?\n Yes.\n The sole survivor of the Uchiha clan?\n Yes.\n Naruto Uzumaki, eh…\n Naruto! Don't glare at Sasuke!\n Sakura…\n Everyone's all Sasuke Sasuke.\n What's so great about this guy?!\n Just beat him up, Sasuke!\n Yeah! Yeah!\n What? Really?\n Oh! Sorry!\n Wha--?\n Whoa!\n Cha! I was planning on seizing Sasuke's first kiss!\n You jerk… Naruto! I'll kill you!\n – My mouth is rotting. – Huh? Was that my fault?\n What? I feel rage…\n Naruto…\n You…\n An accident… lt was an accident\n You are annoying!\n Yikes!\n Naruto…He's at the center of trouble as usual.\n As of today, you all have become full-fledged Ninjas…\n However, you're still Genin.\n The tough part's still to come!\n From here on, you'll be in a squad of three\n and carry out your missions under your Jonin teachers.\n A squad of three?!\n I wonder who's going to be grouped with Sasuke.\n I don't know…\n Cha! I'll be the one grouped with Sasuke, naturally!\n Squads of three, eh. lt'll just slow me down…\n First will be Sakura.\n And the other person…\n can be anyone other than Sasuke!\n The groups have been determined\n so that the strength of the groups will be balanced.\n Now for the assignments!\n Now then, next is Group Seven…\n Naruto Uzumaki!\n Sakura Haruno.\n Hooray!\n I'm with…Naruto…?\n And…Sasuke Uchiha!\n Hooray!\n I'm with…Sasuke…?\n So I'll be in a different group from Naruto, huh…\n Next is Group Eight. Hinata Hyuga!\n Y-Yes…\n Kiba Inuzuka!\n Shino Aburame!\n Why is this happening…?\n Group Nine.\n Cha! Love will be victorious!\n Man…\n Why do women think that kind of guy's so great…?\n Don't you understand, Shikamaru?\n Well, I'm not a woman…\n That's why you are not popular among girls.\n I wouldn't want to be grouped with you.\n Group Ten. Ino Yamanaka.  Shikamaru Nara.\n It appears we've been grouped together.\n And Choji Akimichi.\n And Fatty on top of that...\n That's all for the group division.\n Iruka Sensei!\n Why does an exceptional student like me have to be\n in the same group with this guy?!\n Sasuke has the best grades of the graduates.\n Naruto, you're at the bottom!\n Of course, this is how it is when trying to balance the strength within groups.\n Just don't get in my way, loser!\n Hey, what did you say?!\n You want to fight, loser?\n Knock it off, Naruto!!\n In the afternoon, I'll introduce you to your Jonin teachers.\n You're dismissed until then!\n Sasuke!\n Where'd you go, Sasuke?\n I thought since we're in the same group and all, we'd eat together.\n Sakuraaaa!\n Since we're in the same group and all, let's eat together!\n Why should I have to eat with you?!\n Well... we're in the same group, so…\n You're…annoying.\n Sasuke! Where are you?\n Darn! This is no fun.\n I 'm finally in the same group as Sakura… and then it's like this…\n I wonder if something good will happen…\n That's it!\n Listen up!\n As long as we're in the same group, you will follow my instructions.\n Yeah-yeah…\n She becomes a real pain in the neck when people try to argue with to her, so…\n Let's all go out for some BBQ sometime.\n Oh, man…\n Hmm?\n Naruto…?\n Huh?\n Oh!\n Jerk, it's Naruto, isn't it!\n Darn! Just be quiet.\n Naruto! I won't forgive you if you hurt Sasuke!\n What happened?\n Heh! Idiot…\n So Naruto got beaten by the one he challenged…\n Of course! Naruto's no match  for Sasuke!\n No need for me to feel rushed…\n From here on out,\n I'll be in the same group as Sasuke for the long haul…\n But…\n Even if I were to use my feminine charms…\n my proportions are below average…\n All that's above average is  the width of my forehead…\n What should I do…?\n Huh? No way!\n Sasuke…is looking...\n this way!\n And with such a passionate look!\n You…have a charmingly wide forehead.\n It makes me want to kiss it.\n That's what its surface area is for.\n Yeah, right…\n I'm not just some kid who believes in fairy tales…\n There's no way.\n You…have a charmingly wide forehead.\n What?!\n It makes me want to kiss it.\n Cha! This fairy tale is for real!!\n Or that's what Naruto would say.\n I've got something to ask you.\n What?\n What do you think…of Naruto?\n He's quite at home interfering and enjoys it when I make mistakes.\n Naruto doesn't understand one thing about me…\n He just annoys me!\n All I want…is for you to accept me, Sasuke.…\n For me to accept you…?\n I'll do anything for the sake of that.\n I was careless!\n W-Wha--?!\n Gotcha!\n I didn't think someone who couldn't perform the Clone Jutsu properly\n could do the Shadow Clone Jutsu.\n I'm…desperate, so…\n I finally know why I…\n I like Sakura so much.\n Diarrhea at a time like this?!\n What's wrong?\n I-I'll be right back… 225\t01:41:53:26\t01:41:56:04 Sasuke's so shy!\n I guess he needs to prepare himself mentally…\n That was close!\n My stomach hurt so much that the Jutsu was about to wear off!\n Why does my stomach have to hurt at such a good time?!\n I'm annoying... huh…\n She said so again…\n And I transformed into Sasuke and had got a little closer to Sakura…\n In that case… I'll play an obnoxious Sasuke …\n and make her hate him!\n Oh Sasuke, you're such a shy bad boy!\n Are you prepared? I'm raring to go!\n H-Hey, Sasuke!\n Where's Naruto?\n Oh, there you go changing the subject again…\n Just leave Naruto alone!\n All he does is pick fights with you!\n It's because he wasn't raised right!\n You know!\n He doesn't have any parents, right?\n He always selfishly does  whatever he wants!\n My parents would get mad at me if I did something like that!\n There are no parents to nag you if it's just you alone!\n So his selfishness comes out at various times!\n The loneliness.\n Huh?\n It's something worse than getting scolded by parents and...\n W-What's gotten into you…?\n You…\n annoy me.\n Darn! It finally stopped!\n I wonder if Sakura's still waiting.\n W-What are you doing here?!\n I used the Escape Jutsu, the very basic of techniques.\n Oh...\n What were you planning to do…\n by transforming into me?!\n I thought it'd be fun, so I gave it a try!\n The Shadow Clone Jutsu again?!\n I'll show you that I'm really amazing!\n I'll defeat you…\n and make you accept me!\n Prepare yourself, Sasuke!\n Just like that, my stomach again…\n B-Bathroom!\n I'm first, I say!\n I'm first, I say.\n I'm about to go in my pants, I say!\n How stupid!\n \"You annoy me\" …huh?\n I see. So this is how Naruto must've felt…\n I wonder if I can… be a bit more nice next time…\n Darn.\n Did I eat something bad?\n Naruto…\n Smile…Smile…\n Let's go back to the classroom, Naruto.\n Sakura…\n Payback for earlier, huh?\n Sasuke's turned himself into Sakura…\n You're trying to trick me, right, Sasuke?!\n I don't think so!\n Ow-ow-ow… What the heck is going on?!\n Oh…\n You idiot, Naruto!\n So, this is Naruto's room…\n And Sasuke of the Uchiha clan is  also in the group you'll be in charge of.\n I wish you good luck!\n The expiration date…\n of this milk has passed quite awhile ago…\n He'll get sick if he drink this.\n It seems like that things are going to get disastrous.\n What the heck is going on?!\n What is going on?!\n This isn't the same Kakashi Sensei from yesterday.\n Is this really the same Kakashi Sensei\n who got caught in my trap and breezily came late?\n Darn it! Darn it!\n No way am I giving up!\n I'll defeat him and clear this super difficult testl!\n No way am I going back now!\n Next episode:  \"Pass or Fail: Survival Test\"\n Don't miss my outstanding performance!\n"
        ],
        [
         "3",
         "4",
         "C'mon!\n Running like a fugitive,\n Being chased by something\n Inside my heart is pounding\n My throat dry like it's withering\n For no single one,\n To none does belong,\n This time is ours, right now...\n Unraveling the pain,\n Unraveling our hearts,\n Unraveling shadows\n Stifling our breath,\n Reaching for beyond,\n Tearing through the dark\n In fighting and in love\n To the distant light above,\n Yes, we are on the way\n I wanna rock...\n Rockin' my heart\n He's late.\n Naruto!\n Stay still.\n Why's it that only our squad's teacher is late?\n The other squads have gone off somewhere with their new teachers,\n and Iruka Sensei's also left.\n Don't look at me.\n Hey, what're you doing, Naruto?!\n Hey!\n It'll be his fault because he's late.\n Man! You're asking for it!\n I like stuff like this!\n A Jonin wouldn't get caught in such a weak booby trap.\n That's right. You're such an idiot...!\n I got him, I got him...\n I-I'm sorry, sir.\n I tried to stop him, but Naruto did it on his own...\n It's all good.\n Get real. ls he really a Jonin?\n How can I put this?\n As for my first impression of you guys...?\n Well, I hate you.\n Pass or Fail: Survival Test\n Let's see.\n First off, let me have you guys introduce yourselves.\n Introduce ourselves...\n What should we say?\n Your likes, dislikes, your future dream, hobbies, things like that!\n Hey!  Before that, please tell us about yourself.\n Me? My name's Kakashi Hatake.\n I don't feel like telling you guys about my likes and dislikes.\n I've never really thought about my future dream...\n As for my hobbies, I have many.\n In the end, isn't all we know his name?\n Yeah.\n Next is you guys.\n Let's start with you.\n My name's Naruto Uzumaki!\n I like instant ramen,\n but what I like even more is the ramen from Ichiraku\n that Iruka Sensei treats me to.\n What I dislike is the three minutes\n after pouring hot water in the instant ramen.\n My hobby is eating and comparing ramen!\n And my future dream...\n is to surpass the Hokage!\n And so I'm going to get the entire village\n to acknowledge my existence!\n I see...\n this kid's grown up in an interesting way.\n Okay, next.\n I'm Sakura Haruno.\n What I like... I mean, who I like is...\n And, my hobby is, \t\t\t\t\tI mean...\n My future dream is...\n And? What about your dislikes?\n Naruto!\n Girls at her age are probably more interested in love\n than the Ninja Arts.\n And lastly.\n My name's... Sasuke Uchiha.\n I have lots of dislikes, but no likes in particular.\n Oh...\n And...\n I don't feel like summing up my ambition as just a dream\n but I do have an ambition!\n The ambition to restore my clan and without fail...\n to kill a certain man!\n He doesn't...\n mean me, does he?\n Sure enough, Sasuke's cool.\n I knew it...\n Good!\n The three of you are very distinctive and interesting!\n We'll have a mission tomorrow!\n Yes, sir! What kind of mission?\n First, we'll do what we can do with just four people.\n What-what-what?!\n A survival exercise.\n Survival exercise?\n Why are we doing an exercise\n even though this is supposed to be a mission?\n We've had more than our share of exercises in the Academy!\n This is no simple exercise.\n Then... then what kind of exercise is it?\n Hey! What's so funny, Sensei?\n Uh, well, if I tell you, I know you'll grow disenchanted.\n What?\n Of the twenty-seven graduates,\n only nine will be recognized as junior ninjas.\n The remaining eighteen will be sent back to the Academy.\n In other words, this exercise is an extremely difficult test\n with a failure rate of 66% or higher!\n See, see?\n You got disenchanted!\n That's crazy!\n To have suffered that much!\n T-Then, what was the graduation test for?\n Oh, that.\n It was just to select those who have the potential of becoming Genin.\n Whaaaat?!\n Well, that's the way it is.\n I'll be determining whether you pass or fail.\n Bring your complete set of Ninja tools!\n We meet at five in the morning.\n N-No way am I going to be dropped now!\n I've got to have my strength recognized for real.\n I'll be separated from Sasuke if I fail this test.\n This is an exercise of love!\n Okay! You're dismissed.\n Oh... And you'd best skip breakfast.\n You'll throw up.\n Morning.\n Hi, folks. Good morning!\n You're late!\n Well, a black cat crossed my path, you see.\n Ahem! Oh well...\n Okay, it's set for 12:00!\n Today's assignment is to take these bells away from me by noon.\n Those who can't do it won't get lunch.\n They'll be tied to that...\n and I'll eat my lunch before your very eyes.\n So that was the point...\n for us not to eat breakfast...\n But, hold on.\n Why are there only two bells?\n There are only two, so at the very least,\n one will have to go to the logs.\n That person will be disqualified for failing the mission...\n and will return to the Academy.\n It might be one person at the very least,\n or it could be all three of you.\n You can use your Shuriken.\n You won't be able to take the bells unless you come with the intent to kill me.\n But, that's dangerous, sir!\n Y-Yeah, that's right!\n You couldn't even evade a chalkboard eraser!\n In this world,\n those who aren't skilled enough tend to complain more.\n Well, just ignore the loser...\n Begin when I give the \"ready-go\" signal.\n Loser, loser, loser.\n Don't be so hasty. I didn't say start, yet.\n No way...!\n I didn't see him at all.\n So this is a Jonin.\n But, that's fine.\n At least you came with  the intent to kill me.\n How can I put this...?\n I feel like I'm finally starting...\n to like you guys.\n We're going to start.\n Ready... start!\n What do you want to know?\n I didn't think you just came here to drink tea.\n The Jonin in Naruto and company's Group Seven...\n What kind of teacher is he? ls he strict?\n You mean Kakashi? Does he concern you?\n I heard a rumor that concerns me.\n What's this?\n It's a pass-fail list of the junior ninjas\n Kakashi has been in charge of up until now.\n Let me have a look.\n T-This is...!\n Fundamentally, ninja must mask their presence and hide.\n Okay, everyone is hidden pretty well...\n Alright! Let's face off fair and square!\n Oh?\n That goof.\n Say, aren't you a bit off kilter?\n What's off kilter is your hairstyle!\n I'll teach you the first Shinobi Battle Jutsu...\n Taijutsu.\n Taijutsu...?\n That's ninja hand-to-hand combat...\n That being said... he's going to use weapons?\n Make-Out Paradise\n What's the matter?\n Why don't you come at me?\n But hey... what's with the book?\n Why do you ask...?\n It's because I was curious about what happens next.\n Don't worry.\n With you guys as opponents,\n it makes no difference if I'm reading or not.\n I'm going to rip you apart!\n Darn! This time a spin kick!\n Man!\n Wha--?!\n Ninja shouldn't let the enemy take them from behind multiple times, fool.\n The way his hands are positioned...\n Is that the Sign of the Tiger?!\n No way!\n With Naruto as his opponent,\n that's too strong a Ninjutsu no matter how you look at it.\n That Sign... lt's a fire-style skill.\n That idiot teacher's doing more than just running around?\n Naruto, get out of there quick!\n You'll die!\n Too late.\n Leaf Village Secret! Ultimate Taijutsu!\n One Thousand Years of Death!\n Oh, it's not a Ninjutsu.\n Those two are idiots.\n Alright...\n Even so, isn't that against the rules?\n What're we supposed to do about his strength?\n Darn it!\n It wasn't supposed to be like this.\n It... can't be!\n This is more than just a rumor.\n Kakashi's test might be a bit difficult...\n Even so, this means absolutely no one has passed...!\n That's right...\n Kakashi has never had someone pass.\n They have all...\n been annihilated...\n What's the matter?\n You won't get lunch if you can't take the bell by noon.\n I know that, I say.\n You're not very energetic,\n considering you said that you'd surpass the Hokage.\n Darn it! Darn it! I can fight even if I'm hungry.\n I didn't even have dinner last night.\n I shouldn't have gone on a diet.\n I just got a bit careless earlier!\n Darn! I'm hungry, so my strength...\n But... I've got to take the bell, no matter what.\n No matter what...\n I'm... not...\n turning back now!\n I'm going to become a Ninja!\n Security is your greatest enemy!\n Now for my favorite Multi-Shadow Clone Jutsu!\n Seven... Narutos?\n What? They're not just images?\n Are they all real? The real thing?\n Not the clone, but the shadow clone, eh.\n If you ever lay a hand on Iruka Sensei, I'll kill you!\n Show me what you can do, Demon Fox!\n Those aren't just images but actual clones!\n That's an advanced Ninjutsu!\n It's the forbidden Jutsu that did in Mizuki.\n Judging from your ability,\n that Jutsu should have a one-minute limit.\n Even if you talk trash,\n Naruto is Naruto after all is said and done...\n You still can't beat me with that skill.\n W-What?! Behind me?!\n Ninja shouldn't let the enemy take them from behind.\n Right, Kakashi Sensei?\n Using the Shadow Clone,\n I had one of them come up\n from the bottom of the river and sneak behind you!\n Here's one for that attack on my butt earlier!\n Naruto, not bad!\n So... a diversionary tactic, eh?\n Now... allow me to punch you!\n What?!\n The one who got punched was...\n Naruto?\n Ouch!\n You...!\n You're Kakashi Sensei, right?!\n You used the Transformation Jutsu to change yourself, didn't you?!\n It's you!\n You're Kakashi Sensei, I say.\n You smell like Kakashi Sensei!\n The smell of an old guy!\n Why you--!\n Hey! For the time being, let's try undoing the Jutsu.\n If we do that, only the two will remain... so...\n You should've realized that sooner, you idiot!\n You're me, you idiot! Just undo the Jutsu!\n Naruto...\n You're embarrassing to watch...\n That was the Substitution Jutsu, you fool.\n Essentially, it's a skill used to quickly switch one's own body\n with an object or animal.\n This makes your enemy think you're being attacked,\n but then you strike during their unguarded moment.\n After letting himself get caught by the real Naruto,\n the Jonin fool switched bodies with one of the clone Narutos.\n Not only did he make Naruto think he'd been nailed...\n he used Naruto's own attack on him.\n A bell?!\n You really must have been in a hurry.\n You've dropped a bell!\n What the heck is this?!\n Of course it's a trap...\n H-H-Hey!\n That jonin doesn't lower his guard even when he's fighting Naruto.\n The bell!\n You have to think when using Jutsu.\n They can be used against you.\n Also...\n ...don't get caught in an obvious trap, you fool.\n A Ninja must see through deception!\n I know that, I say!\n You know, I'm telling you because you don't get it.\n Listen up!\n Your movements are wasteful.\n Now!\n He finally dropped his guard!\n You're so...\n No way!\n You jerk Sasuke!\n You're overdoing it!\n Darn it!\n At this rate, there's no way I can beat Kakashi Sensei.\n But if I don't take the bell...\n I won't get lunch...\n No... I'll fail the test!\n He says a Ninja must see through deception,\n but I have no idea what that means.\n How in the world can I take the bell back\n from Kakashi Sensei?!\n Next episode:  \"You Failed! Kakashi's Final Decision\"\n Don't miss my outstanding performance!\n"
        ],
        [
         "4",
         "5",
         "C'mon!\n Running like a fugitive,\n Being chased by something\n Inside my heart is pounding\n My throat dry like it's withering\n For no single one,\n To none does belong,\n This time is ours, right now...\n Unraveling the pain,\n Unraveling our hearts,\n Unraveling shadows\n Stifling our breath,\n Reaching for beyond,\n Tearing through the dark\n In fighting and in love\n To the distant light above,\n Yes, we are on the way\n I wanna rock...\n Rockin' my heart\n You have to think when using Jutsu.\n They can be used against you.\n Also, don't get caught in an obvious trap, you fool.\n A Ninja must see through deception…got it?\n I know that!\n You know, you say that because you don't get it. Listen up.\n Your movements are wasteful.\n Now!\n He finally dropped his guard!\n You're so...\n No way!\n You jerk Sasuke! You overdid it.\n Damn! Another substitution…?\n He must have found out my location with those Shuriken!\n He purposely lowered his guard! Serves me right…\n I fell for the trap.\n So he's over there, eh…\n Sasuke…Where are you…?!\n Don't tell me, Kakashi Sensei already…\n No!\n That couldn't happen to Sasuke, right?!\n Safe! He didn't notice me.\n Sakura, behind you.\n Huh?!\n What's up with that \"A Ninja must see through deception\" stuff?!\n Darn it! I'll never fall for his trap again!\n I fell for it again!\n You Failed! Kakashi's Final Decision\n What was that?! Huh?!\n Hold on! Where's Sensei?!\n Huh?! What's going on?!\n Huh?! What's what?!\n Sakura…\n Sasuke?!\n Sa…Saku…ra…\n P-Please…help…me…\n Maybe I went a bit overboard…\n But it's really something she should notice…\n Was that voice…Sakura's…?\n Shinobi Battle Skill ♪2, Genjutsu.\n Sakura was easily lured.\n Genjutsu, huh...?\n An illusory mind-controlling technique. I'm not surprised she got lured.\n However…\n I'm different from them.\n Why don't you say that after you get a bell…Sasuke?\n It's no use just using straightforward attacks.\n A trap?!\n What?!\n This guy's...?!\n What a guy.\n There's no time to read \"Make-Out Paradise.\"\n What…? \t\t\t\t\tI…?!\n That's right! I saw Sasuke on the verge of dying and I…\n Sasuke! Don't die and leave me here!!\n Where are you?!\n So that's what it looks like behind the logs.\n Oh! There are box lunches on the stone!\n A Ninja must see through deception... eh?\n Well! I'll acknowledge that you're different from those two.\n Horse!\n Tiger!\n Fire Style! Fireball Jutsu!\n What?! That's not a Jutsu that a Genin can do…\n He shouldn't have enough Chakra yet!\n He's gone! ls he behind me?! No, above me?!\n Where is he?!\n I'm under you!!\n Wha--?!\n Earth Style: Headhunter Jutsu.\n Shinobi Battle Skill ♪3, Ninjutsu.\n How's that? You can't move, heh?\n Although, you're…already starting to make your mark.\n But, oh well.\n They do say that the nail that sticks up gets hammered down, so…\n Damn it!\n I don't have to naively take those bells. I'll just eat in secret right now!\n Let's eat!!\n Hey.\n I was just joking…\n Too late!\n Darn it…! Is there this much of a difference in strength…?\n Sakura...\n This time it's a freshly severed head?!\n What's up with her?\n Sasuke?\n You're okay!\n Hey, cut it out! Don't cling to me!\n There's not much time left until noon. I'm going.\n Sasuke, you're still going after the bells?!\n I was able to touch them last time. Next time I'll be able to take them.\n What?! \t\t\t\t\tI-I see.\n Sure enough, you're awesome, Sasuke.\n There's no way I can take the bells from Sensei.\n At this rate, I'll face separation from Sasuke…\n Uh…say. There's really no time left…\n So let's just take it easy and try again next time.\n I'm the only one who can kill that man.\n Huh…? What? You mean Sensei?\n At that time…I was crying.\n Crying…?\n My…\n What…? What is it…?\n I'm an avenger. I must become stronger than that man…\n I don't have time for setbacks here...\n ...to kill a certain man!\n Damn it…I wasted my time talking.\n Sasuke...\n Oh-oh, your stomachs are growling…\n By the way, about this exercise…\n Well! There's no need for you guys to go back to the Academy.\n What? I… All I did was lay unconscious.\n Is that okay?\n Love is victorious!! Cha!!\n Yahooooo!\n Then, then! That means the three of us…\n Yes. The three of you…\n must quit being Ninja!!\n N-No way!\n Kakashi hasn't passed a single person this whole time…\n Iruka…\n Even I don't know if it's good for those kids to become Shinobi right away…\n However… Kakashi's judgments were correct…\n Quit being Ninja?! What do you mean?!\n Uh, well it's true, we weren't able to take the bells.\n But why do we have to be told to \"quit\"?!\n That's because you're all squirts who don't have the qualifications to become Ninja.\n Oh!\n Sasuke!\n I'm saying you're squirts.\n Don't step on Sasuke!!\n Are you kids thinking that being a Ninja is easy? Huh?\n Why do you think you're doing this exercise in teams?\n Huh?! What do you mean?\n Put simply…\n it's as if you guys have no understanding of the answer to this test.\n Answer…?\n Yes. The answer that determines passing or failing of this test.\n That's…what I've wanted to ask about for a while now.\n Man, are you guys brainless or what?\n Don't you get the meaning of the three-man squad?!\n Jeez!! What of three people to a squad?!\n That's…teamwork!\n You mean, working together?\n Exactly. But it's too late even if you realize that now.\n You might've been able to…\n take the bells if the three of you had come at me…\n Well, it's too bad.\n Now wait a minute.\n Why use teamwork if there were only two bells?\n If the three of us were to desperately go take the bells with one having to hold back,\n that wouldn't be teamwork. That'd create internal discord.\n Of course!\n This is a test set up to purposely place you against each other.\n It's under just such conditions where one's own interests aren't the issue.\n The intention was to select those who could prioritize teamwork…\n Despite this, you fools…\n Sakura!\n You were only concerned with Sasuke and you didn't even know where he was.\n And you didn't care for Naruto who was right in front of your eyes…\n Naruto!\n All you do is run solo…\n You labeled the other two as hindrances and acted on your own…\n Missions are carried out in squads!\n There's no mistaking that Ninjas need unsurpassed individual skills…\n But \"teamwork\" is considered more important than that.\n Individual actions that disrupt teamwork throw the team into crisis and lead to death…\n For example...\n \"Sakura! Kill Naruto, or else Sasuke dies…\"\n What?! What?! Whaaat?!\n Is what will…happen.\n Oh, I was so surpised.\n On top of having a hostage taken,\n you're faced with two impossible choices and end up being killed.\n Every mission is a life-risking assignment.\n Look at this…\n The many names engraved on this stone…\n These are all Ninjas who are called heroes in the village.\n That-that-that-that! I like thaaat!\n I've decided now to get my name engraved there, too!\n A hero! A hero! I'm not going to die like a dog!\n But…they're not just ordinary heroes.\n No kidding. Then, what kind of heroes are they?\n Hey! Hey!\n They are heroes who were killed in action.\n Killed in action?\n It means they died performing a mission.\n This is a memorial.\n The names of my friends are also engraved here...\n I'll give you guys one more chance!\n However, after noon it'll be a harsher battle to take the bell.\n Those who want to take on the challenge can eat lunch.\n However, don't let Naruto have any.\n It's punishment for breaking the rules and attempting to eat lunch on your own.\n If someone lets him eat…\n that person will be disqualified on the spot.\n I make the rules, here. Got it?!\n I must be going.\n Listen to me, Iruka.\n What?\n No matter what the result, don't hold it against Kakashi…\n Alright.\n I'm okay with not eating lunch! No sweat at all!\n No sweat…\n Here.\n H-Hey, Sasuke. Sensei just said…!\n It's okay. There's no sign of him now.\n The three of us are going to go take the bells together.\n It'll be trouble for me if he becomes a hindrance, so...\n Sasuke…\n Sakura…\n Thanks…\n Don't thank me. Just hurry up and eat.\n But…\n I'm on…a diet… I mean I just eat less than Sasuke.\n So you don't need to worry.\n But…\n See…\n Wha--?!\n Hurry it up. We don't know when he'll be back…\n It's just this one time.\n Okay? You got it?!\n I got it.\n You three!\n Yiiikes!\n You defied the rules so that means you know what's coming…\n Do you have…something to say?\n But you see…\n What?!\n But! But! But! You said, Sensei!\n These guys…\n We're a three-man squad, right?\n That's right! The three of us are one, so…!\n That's right! That's right! That's right!\n That's right!\n The three of you are one, eh…\n You pass!\n What?!\n Whaaat?!\n You pass!\n We passed?! Why?!\n You guys are the first.\n Up until now, it was always just dunces who would meekly listen to what I said.\n A Ninja must see through deception…\n In the world of Ninja,\n those who break rules and codes are branded as garbage…\n But…\n Those who don't cherish their friends are garbage worse than that.\n He's… He's…kinda…cool…\n That's it for the exercise…\n Everyone passes!\n Group Seven starts their mission tomorrow!\n Yes, Sir!\n I did it!! I'm a Ninja! Ninja! Ninja!\n Let's go home.\n Cha!\n I...\n knew this is how it'd turn out!\n Untie the rope!\n Oh, please! It'd been nothing but blah missions until now.\n And just when I thought I'd finally gotten an awesome mission,\n to think it'd be bodyguarding this old man.\n He mocks the heck out of me, calling me a brat.\n I'll tell him a thing or two.\n Someday I'll be… Hey, are you listening?!\n Next episode: \"A Dangerous Mission! Journey to the Land of Waves!\"\n Don't miss me kick butt!\n"
        ]
       ],
       "shape": {
        "columns": 2,
        "rows": 5
       }
      },
      "text/html": [
       "<div>\n",
       "<style scoped>\n",
       "    .dataframe tbody tr th:only-of-type {\n",
       "        vertical-align: middle;\n",
       "    }\n",
       "\n",
       "    .dataframe tbody tr th {\n",
       "        vertical-align: top;\n",
       "    }\n",
       "\n",
       "    .dataframe thead th {\n",
       "        text-align: right;\n",
       "    }\n",
       "</style>\n",
       "<table border=\"1\" class=\"dataframe\">\n",
       "  <thead>\n",
       "    <tr style=\"text-align: right;\">\n",
       "      <th></th>\n",
       "      <th>episode</th>\n",
       "      <th>script</th>\n",
       "    </tr>\n",
       "  </thead>\n",
       "  <tbody>\n",
       "    <tr>\n",
       "      <th>0</th>\n",
       "      <td>1</td>\n",
       "      <td>A long time ago, a powerful demon fox appeared...</td>\n",
       "    </tr>\n",
       "    <tr>\n",
       "      <th>1</th>\n",
       "      <td>2</td>\n",
       "      <td>C'mon!\\n Running like a fugitive,\\n Being chas...</td>\n",
       "    </tr>\n",
       "    <tr>\n",
       "      <th>2</th>\n",
       "      <td>3</td>\n",
       "      <td>C'mon!\\n Running like a fugitive,\\n Being chas...</td>\n",
       "    </tr>\n",
       "    <tr>\n",
       "      <th>3</th>\n",
       "      <td>4</td>\n",
       "      <td>C'mon!\\n Running like a fugitive,\\n Being chas...</td>\n",
       "    </tr>\n",
       "    <tr>\n",
       "      <th>4</th>\n",
       "      <td>5</td>\n",
       "      <td>C'mon!\\n Running like a fugitive,\\n Being chas...</td>\n",
       "    </tr>\n",
       "  </tbody>\n",
       "</table>\n",
       "</div>"
      ],
      "text/plain": [
       "   episode                                             script\n",
       "0        1  A long time ago, a powerful demon fox appeared...\n",
       "1        2  C'mon!\\n Running like a fugitive,\\n Being chas...\n",
       "2        3  C'mon!\\n Running like a fugitive,\\n Being chas...\n",
       "3        4  C'mon!\\n Running like a fugitive,\\n Being chas...\n",
       "4        5  C'mon!\\n Running like a fugitive,\\n Being chas..."
      ]
     },
     "execution_count": 136,
     "metadata": {},
     "output_type": "execute_result"
    }
   ],
   "source": [
    "df"
   ]
  },
  {
   "cell_type": "code",
   "execution_count": 137,
   "metadata": {},
   "outputs": [
    {
     "data": {
      "application/vnd.microsoft.datawrangler.viewer.v0+json": {
       "columns": [
        {
         "name": "index",
         "rawType": "int64",
         "type": "integer"
        },
        {
         "name": "episode",
         "rawType": "int64",
         "type": "integer"
        },
        {
         "name": "script",
         "rawType": "object",
         "type": "string"
        },
        {
         "name": "dialogue",
         "rawType": "float64",
         "type": "float"
        },
        {
         "name": "betrayal",
         "rawType": "float64",
         "type": "float"
        },
        {
         "name": "battle",
         "rawType": "float64",
         "type": "float"
        },
        {
         "name": "sacrifice",
         "rawType": "float64",
         "type": "float"
        },
        {
         "name": "self developement",
         "rawType": "float64",
         "type": "float"
        },
        {
         "name": "hope",
         "rawType": "float64",
         "type": "float"
        },
        {
         "name": "friendship",
         "rawType": "float64",
         "type": "float"
        },
        {
         "name": "love",
         "rawType": "float64",
         "type": "float"
        }
       ],
       "conversionMethod": "pd.DataFrame",
       "ref": "a55464c4-8023-4e88-bc91-53e8e1da1d6e",
       "rows": [
        [
         "0",
         "1",
         "A long time ago, a powerful demon fox appeared with nine tails.\n With its powerful tails,\n it could smash mountains and create tidal waves.\n A band of Ninjas rose to defend their village from attack.\n We have to wait until the Fourth Hokage gets here!\n We can't let it get any closer to our village!\n One great Ninja was able to imprison the monster,\n but died in the process.\n This Ninja was known as… the Fourth Hokage.\n Naruto!\n Why did you do such a thing?!\n You're really gonna get it this time!\n I don't care!\n You know your problem?\n You can't do the things I do!\n Only I can do this!\n I'm better than all of you! Believe it!\n There's a problem, sir!\n Lord Hokage!\n What is it?\n Did that Naruto do something again?\n Yes. He climbed onto the Mountainside Images…\n And he vandalized and graffitied all over them!\n Wait!\n Ha ha…\n Why should I?\n Hey, Naruto!\n How did you suddenly get here, lruka Sensei?\n The question is what are you doing here when you should be in class now?\n Now listen, Naruto.\n You failed the last graduation test and the one before that.\n This is no time to be goofing off, you fool!\n We will have a re-test on the Transformation Jutsu!\n Even those who already passed will take it!\n Whaaaat?!\n Sakura Haruno. Here I go…\n Transform!\n OK!\n I did it!\n Cha!\n Did you see that, Sasuke?\n Next, Sasuke Uchiha.\n Yes.\n O-OK.\n Next, Naruto Uzumaki.\n This is a real pain.\n And it's all your fault.\n Like I care!!\n OK…\n Good luck, Naruto…\n Transform!\n How was it?\n I call it the \"Sexy Jutsu\"!\n You fool! Stop making idiotic spells!\n Darn…\n Darn…\n I won't let you go home unless you clean that all up.\n I don't care…\n There's nobody home anyway.\n Naruto...\n What is it this time?\n What I meant was…\n If you clean up all that mess, I'll buy you ramen tonight.\n Huh?!\n Yes! I-I will finish it no time!\n Enter: Naruto Uzumaki!\n Naruto.\n Why did you vandalize those faces?\n Don't you know who the Hokage leaders are?\n Of course, I do!\n I know they earned the title Lord Hokage\n because they were the best Ninja of their time, right?\n Especially the Fourth Hokage was a hero\n who saved the village from the nine-tail demon fox.\n Then why did you do that?\n Because I'll become a Hokage myself.\n And I'll be the greatest Hokage of all time!\n So that everyone will finally learn to accept me!\n By the way, Sensei, I have a favor to ask.\n You want another bowl?\n Mmmm…No…\n Can I borrow that Leaf headband for a while?\n This?\n No no!\n This is worn only by those who have graduated from Ninja Academy.\n Tomorrow, you will…\n You're so mean!\n So that's why you took off your goggles…\n Humph... One more bowl please!\n We are now about to begin the graduation test.\n When your name is called, proceed to the next classroom.\n The test is on the Clone Jutsu.\n Oh no…\n Of all the…! That is my weakest Jutsu!\n But still… I will do it no matter what!\n Clone Jutsu!\n Disqualified!\n Iruka Sensei.\n His physical coordination and stamina are excellent.\n And he managed to come up with something.\n Isn't that enough for him to pass?\n Mizuki Sensei... All the others created three or more clones.\n Naruto created just one.\n And it's practically useless. I can't give him a passing mark.\n I 'm a Ninja now!\n You did well. That's my son.\n Congratulations for your graduation.\n I'll cook something good tonight!\n Look at that one.\n It's that boy. I hear he's the only one who failed.\n Serves him right.\n Imagine what would happen if he became a Ninja.\n Isn't that the boy who is actually…\n Hey! We're not supposed to talk about that.\n Iruka. We need to talk later.\n Yes, sir.\n Iruka Sensei isn't trying to be mean to you.\n Then why only me?\n He wants you to become strong from the bottom of his heart.\n You both don't have parents.\n But I really wanted to graduate.\n Heh... I guess I have no choice…\n I'll let you in on a big secret.\n Secret?\n Iruka.\n What is it, Lord Hokage?\n I know how you feel. But…\n Naruto also grew up without knowing the love of his parents…like you.\n Let me go!\n My mom and dad are still out there fighting!\n Wake up, Iruka Sensei!\n What's the matter?\n Come to Lord Hokage's immediately!\n I heard that Naruto… stole the Scroll of Sealing.\n The Scroll of Sealing?!\n Let's see…\n The first Jutsu is… Multi-Shadow Clone Jutsu?\n What?! Already a Jutsu I'm no good at?\n Lord Hokage! We can't forgive him!\n This is not just a prank!\n The Scroll is a dangerous item that the First Hokage sealed!\n Depending on its use…\n It will be a major disaster if it is taken out of the village!\n Yes. Bring Naruto here at once!\n Yes, sir!\n Where did you go…Naruto?\n I will tell everyone in the village about this and eliminate Naruto…\n Then the Scroll of Sealing will be mine!\n Hey you, Naruto!\n You found me..\n And I've only learned one Jutsu.\n He's been practicing the Jutsu…\n until he's become this exhausted and dirty…?\n Listen, listen! I'm gonna show you this amazing Jutsu!\n You're gonna let me graduate if I can do it!\n Isn't it true that I can graduate if I can do one of the Jutsu written here?\n Who told you that?\n Mizuki Sensei. He told me about this scroll, and this place…\n Mizuki did?!\n I'm impressed you found this place.\n I see now…how it is.\n Naruto, give me that scroll.\n Wait, wait… What's going on here?\n Naruto! Never give him that scroll!\n It is a dangerous object that contains forbidden Ninja Jutsu. It was sealed.\n Mizuki used you in order to get it for himself!\n W-Wha--?\n Naruto, Iruka is only afraid of you holding that scroll!\n Huh?\n What are you saying, Mizuki! Don't let him fool you, Naruto!\n I will tell you the truth.\n Idiot! Don't do that!\n After an incident 12 years ago, a rule was created.\n A rule?\n That is, Naruto, a rule everybody but you knows.\n Except me?! \t\t\t\t\tWhat is it?\n Stop it, Mizuki!\n The rule forbids anyone from revealing that you are actually the Demon Fox Spirit!\n Huh?\n You are actually the Demon, Nine-Tailed Fox Spirit,\n who killed Iruka's parents and destroyed our village!\n Stop it!\n Everyone has been deceiving you ever since.\n Didn't you find it strange?\n Why everyone hated you so much?\n No! No! No! No! No!\n Naruto…\n Nobody accepts you. That's why Iruka hates you so much!\n Iruka... Naruto grew up without the love of parents.\n Everyone avoids him like the plague after what happened.\n That's why he keeps misbehaving.\n It's the only way for him to get any attention or acknowledgement.\n He pretends to be tough, but inside he is really hurting.\n Die, Naruto!\n Naruto! \t\t\t\t\tGet down!\n Why…?\n Because you and I are the same.\n After my parents died,\n nobody paid attention to me or gave me any support.\n I wasn't a good student in school.\n I was the class clown… because I wanted people to notice me.\n I couldn't get noticed through excellence, so I kept doing stupid things.\n It was so hard.\n Isn't that right, Naruto?\n You felt so lonely…right? And you suffered inside, right?\n I'm sorry, Naruto….\n If I had been more responsible, maybe you wouldn't have suffered so much.\n Don't make me laugh!\n Iruka has always hated you, ever since you killed his parents!\n He's just saying all that to get the Scroll of Sealing back!\n Naruto!\n Narutoooooo!\n He is not the type of kid who will change his mind.\n He will take revenge against our village using that scroll!\n Didn't you see his eyes? Those are the eyes of a Demon Fox.\n No… Naruto…isn't…like that at all!\n All I want is to kill Naruto and get the scroll.\n I'll take care of you later!\n I-I won't let you…\n Well, well.\n Mizuki has a big mouth!\n Naruto feels worse than he's ever felt.\n He might unleash the power locked up inside him.\n The Scroll of Sealing is now with him.\n There's a slight chance he might actually release\n the Nine-Tailed Fox Spirit sealed inside him!\n If that happens…\n I've found him!\n Naruto!\n Everything that Mizuki said was a lie!\n Give me that scroll, quick! Mizuki is after the scroll!\n It can't be…\n Why is it, Naruto?\n How…\n did you know I wasn't Iruka…?\n Because I'm Iruka.\n I see.\n What's in it for you to protect the one who killed your family?\n I'm not gonna let a stupid idiot like you get that scroll!\n You're the idiot. Naruto is the same as me.\n Same?\n Anyone can do whatever he wants once he has the scroll.\n There is no way that that monster…\n that Fox Spirit, won't take advantage of the power of that scroll!\n You're right…\n I guess it was true all along!\n See, Iruka Sensei never really cared for me at all!\n ...if he was the Demon Fox Spirit.\n But Naruto is different!\n I know that he is an exceptional student.\n He works very hard,\n and he's single-minded and clumsy at the same time.\n No one accepts him, but he knows the meaning of human suffering.\n He is not the Demon Fox Spirit.\n He's Naruto Uzumaki of the Village Hidden in the Leaves!\n You are so gullible. \t\t\t\t\tlruka!\n I was gonna take you down later, but I have changed my mind.\n Die!\n I guess this is the end for me…\n Naruto?!\n You surprised me there, freak.\n If you ever lay a hand on Iruka Sensei, I'll kill you!\n Shut up! I can take care of a kid like you with a single blow!\n Why don't you try then? I'll strike you back a thousand-fold!\n Let's see you try! Show me what you can do, Demon Fox!\n Shadow Clone Jutsu!\n Naruto! You've…\n Those aren't just images but actual clones! That's an advanced Ninjutsu!\n What's this…?\n What's the matter? \t\t\t\t\tC'mon!\n Weren't you gonna get me with one blow? Here!\n In that case… I'll come to you.\n I kinda got carried away. lruka Sensei, are you okay?\n Yeah.\n He's really something.\n Maybe it is true.\n Maybe he will surpass all the Hokage leaders…\n Naruto, come over here. I'd like to give you something.\n Has anyone found Naruto yet?\n No.\n Darn, this is going to be bad…\n There's no need to worry anymore.\n Lord Hokage!\n He'll be back soon.\n Sensei, how much longer?\n OK, you may open your eyes now.\n Congratulations…on your graduation.\n In celebration, we'll have ramen tonight!\n Iruka Sensei!\n That hurts!\n Naruto…\n I was going to lecture to you...\n that the road gets more difficult now that you're a Ninja.\n But I guess I'll just wait to tell you that until we get to the ramen stand…\n W-What do you want, you little shrimp? Quit following me!\n You're smaller than me and\n you're saying that you're gonna become the Fifth Hokage?\n I don't care if you are the 3rd Hokage's grandson or not.\n It's not that easy to be a Hokage!\n If you want it that bad, you're gonna have to beat me first!\n Next episode:  \"My Name Is Konohamaru!\"\n Watch my outstanding performance!\n",
         "0.9585431814193726",
         "0.7927066385746002",
         "0.7564091980457306",
         "0.6804310381412506",
         "0.7287730276584625",
         "0.2016690969467163",
         "0.07262789830565453",
         "0.03414121363312006"
        ],
        [
         "1",
         "2",
         "C'mon!\n Running like a fugitive,\n Being chased by something\n Inside my heart is pounding\n My throat dry like it's withering\n For no single one,\n To none does belong,\n This time is ours, right now...\n Unraveling the pain,\n Unraveling our hearts,\n Unraveling shadows\n Stifling our breath,\n Reaching for beyond,\n Tearing through the dark\n In fighting and in love\n To the distant light above,\n Yes, we are on the way\n I wanna rock...\n Rockin' my heart\n Hey, you!\n Are you sure you want to look like that?\n Yes, of course! C'mon! So hurry hurry!\n Don't regret it later.\n Say cheese!\n My Name Is Konohamaru!\n I couldn't decide on how to look.\n It took me 3 hours to decide.\n But as you can see, it's more like a work of art.\n Doesn't it look great?\n Take it over.\n What?!\n Take it over.\n Stop saying that!\n Transform!\n Oh please, Lord Hokage…\n The Sexy Jutsu… That's quite a devious technique.\n By the way Naruto, where's your headband?\n I won't wear it until the orientation. lt might get scratched\n Well, that's just fine.\n But the Ninja Registration Form is a very important document\n held in high regard by our village.\n Why do you want to look like this?\n Because!\n Anyway, how should I know about all that stuff?\n Old man! Get ready to fight!\n I am going to be the Fifth Hokage!\n Ouch!\n If it's not one thing, it's another….\n Drat! Is this a trap?\n Are you okay, Honorable Grandson?\n May I just inform you that there aren't any traps here…\n Huh? What's with this runt?\n What?!\n I know this kid… He's that Nine-Tailed boy!\n He's a good-for-nothing scoundrel!\n You must have done this to me!\n You tripped all by yourself, stupid!\n Hey! Let go of him!\n He is the Honorable Grandson of the Third Hokage!\n He stopped as soon as he learned who I am….\n He's like my four-eyed teacher.\n He's just like everyone else!\n What's the matter?\n Weren't you gonna hit me, huh?\n Can't do it 'cuz I'm the Hokage's grandson, eh?\n As if I care! \t\t\t\t\tlmbecile!\n This guy…\n What?!\n Good grief…\n Listen to me.\n You are the Honorable Grandson of the Third Hokage.\n Even though that scoundrel hit you, you must not associate with his kind.\n Nothing good will come of your tangling with him.\n This is your distinguished teacher Ebisu,\n and I am never wrong about these things!\n Don't you want to become the Fifth Hokage?\n Then allow me to teach you Ninjutsu,\n so that your dream will become a reality.\n That's right.\n Stick with me and you will gain a shortcut towards becoming the Fifth Hokage.\n Is that clear, Honorable Grandson?\n He's gone!\n It seems he's gone after Naruto.\n Oh no!\n This is terrible!\n Honorable Grandson!\n How did he become like this?\n That was the 20th sneak attack today.\n And now he's in the company of Naruto. I'm a bit worried.\n I just hope he doesn't pick up more foolishness.\n Huh?\n Stop following me!\n What is it now?!\n Your camouflage is pathetic.\n You've seen through my disguise...\n Your reputation is well-earned.\n I will allow you to make me your apprentice.\n But you must first teach me that  \"Sexy Jutsu\"  technique\n you used to beat Grandpa Hokage.\n You gotta be kidding.\n I beg you to say yes, boss!\n Huh?\n Boss?\n Boss! Boss! Boss!\n I guess I have no choice.\n Listen.\n In order to become a skilled Ninja,\n you must first learn to control your Chatora.\n Chatora?\n Yes, Chatora.\n Boss, I think you mean Chakra.\n Silence!\n That's what real Ninjas call it!\n Oh! I didn't know that!\n Whew… I'm glad he's a fool.\n Listen. Chakra essentially means…\n Basically, it is the energy needed in order to use Jutsu.\n Huh?\n In other words, fundamentally Ninja Arts combine the Chakra,\n the physical energy accumulated from each cell in the body\n with spiritual energy intensified through training and experience.\n This combined energy is summoned with certain hand signs.\n You made me think you knew all that,\n when you were just reading from a scroll!\n Much has been said about perfecting the Ninja techniques,\n but it really boils down to just one thing.\n And what is that?\n Hard work and guts.\n Hard work and guts?\n That's right.\n So be ready for the challenging tasks I will give you.\n Yes, boss!\n Good. Let's start right now. Transform for me.\n Huh?\n Let me see first how much you already know.\n But what do I transform into?\n OK... First, transform into that lady.\n An easy task, boss.\n Transform!\n Well, do I look like her?\n Uhm… Well, the clothes do and…\n And what's so similar about that?!\n Honorable Grandson.\n If you will transform into me, at least try to look a little cuter, OK?\n She's scary!\n Why am I the one who gets hit?\n OK! Next, we'll do some research on sexiness!\n Yes, boss!\n I told you I don't allow reading here, Naruto!\n This is the last test. Put all of your effort into it!\n Yes, boss!\n Transform!\n Naruto! It's you again!\n Why is it always me…?\n Sorry.\n Huh?\n It's because I'm the Hokage's grandson.\n Don't worry about it.\n Huh?\n You're now ready to perform the Sexy Jutsu!\n You just need more practice.\n Yes, boss!\n OK, keep in mind… the point is for \"boom boom boom\"!\n Now do it!\n Yes, boss! \t\t\t\t\tTransform!\n What do you think?\n That won't do!\n More slender.\n Yes, boss!\n Is this okay?\n Not yet. \t\t\t\t\tMore attractive.\n Yes, boss!\n How about now?\n That Naruto… What is he teaching the Honorable Grandson…?\n Where the hell could they be…?\n I am a distinguished teacher training potential Hokage.\n All those who interfere will be eliminated.\n You know I've been wondering…\n You seem obsessed with beating your Grandpa Hokage.\n My name is Konohamaru.\n It was Grandpa who gave me that name.\n He named me after our village.\n It should be easy for everyone here to remember.\n But nobody ever calls me by that name.\n When they see me, all they see is the grandson of Lord Hokage.\n No one sees me for who I really am.\n I can't stand it anymore.\n That's why…\n That's why I want the title of Lord Hokage now.\n Idiot…Who do you think will accept you, huh?\n Huh?\n You won't win the title that easily, you know.\n What?!\n It's not that simple.\n If you're really serious about gaining the title of Lord Hokage…\n What?\n You'll have to beat me first!\n Lord Hokage! I've been looking for you.\n Iruka.\n Did Naruto re-submit his Ninja Registration Form?\n Yes.\n When I lectured to him the other night at the ramen stand,\n he said he will make everyone accept him now that he's a Ninja.\n He's been happy since then.\n It might not be easy for Naruto to realize that dream.\n Huh?\n As you well know,\n only the villagers who fought the Nine-Tailed Fox Spirit 12 years ago\n know that the monster is sealed inside Naruto.\n I ruled that no one shall speak about that incident.\n I have severely punished those who have broken this rule.\n Now our children know nothing about it.\n That is the only positive development for Naruto.\n Before the Fourth Hokage trapped the monster and died,\n his last wish was for the villagers to regard Naruto as a hero.\n A hero?\n The Fourth Hokage sealed the monster into the navel of a newborn baby\n whose umbilical cord had just been cut.\n As the receptacle for the Nine-Tailed Fox Spirit,\n Naruto saved the village.\n Unfortunately, the other villagers don't see him like that.\n Some even say that Naruto is the Nine-Tailed Fox Spirit himself.\n Little by little, that attitude has been passed down to their own children.\n Iruka. \t\t\t\t\tDo you know?\n What, sir?\n When someone is hated and people refuse to accept his existence,\n he sees it in the eyes of the people around him.\n I have found you!\n Huh?\n That Demon Fox!!\n That cold look! lt's always like that!\n Honorable Grandson, we have to go now.\n No way!\n I want to beat Grandpa right now so I can win the title of Lord Hokage!\n Don't get in my way!\n A Hokage must first know about virtue, honor, etiquette, wisdom, loyalty, faith,\n judgment, obedience and all that.\n He must be skilled at more than thousand techniques…\n And then...\n Transform!\n Take this! Sexy Jutsu!\n What? \t\t\t\t\tlt didn't work!\n What kind of a disgraceful spell is that?!\n I am a gentleman!\n Such vulgar attacks will never work on me!\n Honorable Grandson! That rascal will only make you an imbecile!\n Stick with me and...\n you will gain a shortcut towards becoming the Fifth Hokage.\n C'mon, let's go!\n No way!\n Shadow Clone Jutsu\n Wow! \t\t\t\t\tFantastic!\n Ha! \t\t\t\t\tThat's nothing.\n I am a distinguished teacher.\n I am not as weak as Mizuki.\n Boss…\n Transform!\n Transform!\n Oh, Master Ebisu…\n I call it \"the Harem Jutsu\"!\n He combined the Multiple Clones with his own Sexy Jutsu.\n That's another devious attack.\n I probably won't even survive that one.\n I can't even beat that four-eyed teacher of mine!\n I want the title of Lord Hokage so badly! I want to be recognized by everybody!\n But I keep failing.\n You think it's that easy?\n Huh?\n It's given only to the greatest Ninja in the village.\n Everybody must learn to believe in you.\n I've been through a lot already.\n It's been one struggle after another.\n But after all that, I found someone who accepts me.\n I had to go through a lot... Just for one person.\n You had better push yourself.\n For what?\n The path of getting the title, Lord Hokage, is a brutal one.\n There's no such thing as a shortcut.\n If you're really serious about attaining the title of Lord Hokage\n You'll have to beat me first.\n Who do you think you are, lecturing me like that?\n I won't be your apprentice anymore.\n From now on, you're my rival.\n Unfortunately for you, tomorrow I graduate from the Ninja Academy.\n Still, I'll consider you an equal someday when we fight for the title of Lord Hokage.\n Let's look forward to that, Konohamaru.\n You still have a long way to go to become a real Ninja.\n Aaah! Why do I have to be in the same group with Sasuke?\n The guy I hate the most?\n Sakura keeps saying  \"Sasuke Sasuke Sasuke!\"\n and doesn't even pay attention to me!\n It makes me so mad! I got it! I'm going to pull one on him!\n I'm not gonna let him be so cool in front of Sakura!\n Next Episode:  \"Sasuke and Sakura: Friends or Foes?\"\n Watch my outstanding performance!\n",
         "0.9606050252914429",
         "0.42994399741292",
         "0.6848434209823608",
         "0.5707032680511475",
         "0.4197438210248947",
         "0.15453361719846725",
         "0.04626055061817169",
         "0.17326001985929906"
        ],
        [
         "2",
         "3",
         "C'mon!\n Running like a fugitive,\n Being chased by something\n Inside my heart is pounding\n My throat dry like it's withering\n For no single one,\n To none does belong,\n This time is ours, right now...\n Unraveling the pain,\n Unraveling our hearts,\n Unraveling shadows\n Stifling our breath,\n Reaching for beyond,\n Tearing through the dark\n In fighting and in love\n To the distant light above,\n Yes, we are on the way\n I wanna rock...\n Rockin' my heart\n Today's…a special day, so…\n Time to eat!\n Sasuke and Sakura: Friends or Foes?\n Fight me, here!\n What're you doing, Konohamaru?\n Very good, Naruto…\n You're the man I expected you to be.\n I didn't do anything, you know…\n Let's fight fair!\n Sorry! I've got an orientation meeting to go to.\n An orientation meeting…?\n Cause… As of today, I'm a Ninja!\n Oh…\n Sakura! Shouldn't you be heading out soon?\n I was thinking of leaving now!\n Cha! How long are you planning to treat me like a child?!\n That's right… I'm not a student of the academy anymore…\n I'm a Kunoichi of the Leaf Village, Sakura Haruno!\n I'm off!\n Morning, Sakura.\n Morning... Ino.\n Who would've thought you'd be able to graduate.\n Ancient history has nothing to do with it.\n As of today, we're both full-fledged Ninjas...\n I won't lose to you anymore, Ino!\n What the--? Why are you here?\n Today's meeting is for graduates only.\n Hey, don't you see this headband?\n As of today, I'm a Ninja, too!\n How can I put it, it really suits me.\n So Naruto…was able to graduate.\n Goal!\n I won again, Sakura!\n What're you saying…?\n The tip of my foot got in one centimeter faster!\n You must be blind.\n It's Sakura.\n Oh…\n Sakura's looking at me…\n Hey, Sakura!\n Mor... morning, Sakur--\n Get outta' the way!\n M-Morning, Sasuke…\n Mind if I sit next to you?\n Hey! I'm going to sit next to Sasuke!\n First come, first served!\n I got in the classroom sooner!\n I did!\n If that's the case, then I did!\n I was first!\n I'm sitting next to Sasuke!\n How annoying...\n Is that this year's top rookie, Sasuke Uchiha?\n Yes.\n The sole survivor of the Uchiha clan?\n Yes.\n Naruto Uzumaki, eh…\n Naruto! Don't glare at Sasuke!\n Sakura…\n Everyone's all Sasuke Sasuke.\n What's so great about this guy?!\n Just beat him up, Sasuke!\n Yeah! Yeah!\n What? Really?\n Oh! Sorry!\n Wha--?\n Whoa!\n Cha! I was planning on seizing Sasuke's first kiss!\n You jerk… Naruto! I'll kill you!\n – My mouth is rotting. – Huh? Was that my fault?\n What? I feel rage…\n Naruto…\n You…\n An accident… lt was an accident\n You are annoying!\n Yikes!\n Naruto…He's at the center of trouble as usual.\n As of today, you all have become full-fledged Ninjas…\n However, you're still Genin.\n The tough part's still to come!\n From here on, you'll be in a squad of three\n and carry out your missions under your Jonin teachers.\n A squad of three?!\n I wonder who's going to be grouped with Sasuke.\n I don't know…\n Cha! I'll be the one grouped with Sasuke, naturally!\n Squads of three, eh. lt'll just slow me down…\n First will be Sakura.\n And the other person…\n can be anyone other than Sasuke!\n The groups have been determined\n so that the strength of the groups will be balanced.\n Now for the assignments!\n Now then, next is Group Seven…\n Naruto Uzumaki!\n Sakura Haruno.\n Hooray!\n I'm with…Naruto…?\n And…Sasuke Uchiha!\n Hooray!\n I'm with…Sasuke…?\n So I'll be in a different group from Naruto, huh…\n Next is Group Eight. Hinata Hyuga!\n Y-Yes…\n Kiba Inuzuka!\n Shino Aburame!\n Why is this happening…?\n Group Nine.\n Cha! Love will be victorious!\n Man…\n Why do women think that kind of guy's so great…?\n Don't you understand, Shikamaru?\n Well, I'm not a woman…\n That's why you are not popular among girls.\n I wouldn't want to be grouped with you.\n Group Ten. Ino Yamanaka.  Shikamaru Nara.\n It appears we've been grouped together.\n And Choji Akimichi.\n And Fatty on top of that...\n That's all for the group division.\n Iruka Sensei!\n Why does an exceptional student like me have to be\n in the same group with this guy?!\n Sasuke has the best grades of the graduates.\n Naruto, you're at the bottom!\n Of course, this is how it is when trying to balance the strength within groups.\n Just don't get in my way, loser!\n Hey, what did you say?!\n You want to fight, loser?\n Knock it off, Naruto!!\n In the afternoon, I'll introduce you to your Jonin teachers.\n You're dismissed until then!\n Sasuke!\n Where'd you go, Sasuke?\n I thought since we're in the same group and all, we'd eat together.\n Sakuraaaa!\n Since we're in the same group and all, let's eat together!\n Why should I have to eat with you?!\n Well... we're in the same group, so…\n You're…annoying.\n Sasuke! Where are you?\n Darn! This is no fun.\n I 'm finally in the same group as Sakura… and then it's like this…\n I wonder if something good will happen…\n That's it!\n Listen up!\n As long as we're in the same group, you will follow my instructions.\n Yeah-yeah…\n She becomes a real pain in the neck when people try to argue with to her, so…\n Let's all go out for some BBQ sometime.\n Oh, man…\n Hmm?\n Naruto…?\n Huh?\n Oh!\n Jerk, it's Naruto, isn't it!\n Darn! Just be quiet.\n Naruto! I won't forgive you if you hurt Sasuke!\n What happened?\n Heh! Idiot…\n So Naruto got beaten by the one he challenged…\n Of course! Naruto's no match  for Sasuke!\n No need for me to feel rushed…\n From here on out,\n I'll be in the same group as Sasuke for the long haul…\n But…\n Even if I were to use my feminine charms…\n my proportions are below average…\n All that's above average is  the width of my forehead…\n What should I do…?\n Huh? No way!\n Sasuke…is looking...\n this way!\n And with such a passionate look!\n You…have a charmingly wide forehead.\n It makes me want to kiss it.\n That's what its surface area is for.\n Yeah, right…\n I'm not just some kid who believes in fairy tales…\n There's no way.\n You…have a charmingly wide forehead.\n What?!\n It makes me want to kiss it.\n Cha! This fairy tale is for real!!\n Or that's what Naruto would say.\n I've got something to ask you.\n What?\n What do you think…of Naruto?\n He's quite at home interfering and enjoys it when I make mistakes.\n Naruto doesn't understand one thing about me…\n He just annoys me!\n All I want…is for you to accept me, Sasuke.…\n For me to accept you…?\n I'll do anything for the sake of that.\n I was careless!\n W-Wha--?!\n Gotcha!\n I didn't think someone who couldn't perform the Clone Jutsu properly\n could do the Shadow Clone Jutsu.\n I'm…desperate, so…\n I finally know why I…\n I like Sakura so much.\n Diarrhea at a time like this?!\n What's wrong?\n I-I'll be right back… 225\t01:41:53:26\t01:41:56:04 Sasuke's so shy!\n I guess he needs to prepare himself mentally…\n That was close!\n My stomach hurt so much that the Jutsu was about to wear off!\n Why does my stomach have to hurt at such a good time?!\n I'm annoying... huh…\n She said so again…\n And I transformed into Sasuke and had got a little closer to Sakura…\n In that case… I'll play an obnoxious Sasuke …\n and make her hate him!\n Oh Sasuke, you're such a shy bad boy!\n Are you prepared? I'm raring to go!\n H-Hey, Sasuke!\n Where's Naruto?\n Oh, there you go changing the subject again…\n Just leave Naruto alone!\n All he does is pick fights with you!\n It's because he wasn't raised right!\n You know!\n He doesn't have any parents, right?\n He always selfishly does  whatever he wants!\n My parents would get mad at me if I did something like that!\n There are no parents to nag you if it's just you alone!\n So his selfishness comes out at various times!\n The loneliness.\n Huh?\n It's something worse than getting scolded by parents and...\n W-What's gotten into you…?\n You…\n annoy me.\n Darn! It finally stopped!\n I wonder if Sakura's still waiting.\n W-What are you doing here?!\n I used the Escape Jutsu, the very basic of techniques.\n Oh...\n What were you planning to do…\n by transforming into me?!\n I thought it'd be fun, so I gave it a try!\n The Shadow Clone Jutsu again?!\n I'll show you that I'm really amazing!\n I'll defeat you…\n and make you accept me!\n Prepare yourself, Sasuke!\n Just like that, my stomach again…\n B-Bathroom!\n I'm first, I say!\n I'm first, I say.\n I'm about to go in my pants, I say!\n How stupid!\n \"You annoy me\" …huh?\n I see. So this is how Naruto must've felt…\n I wonder if I can… be a bit more nice next time…\n Darn.\n Did I eat something bad?\n Naruto…\n Smile…Smile…\n Let's go back to the classroom, Naruto.\n Sakura…\n Payback for earlier, huh?\n Sasuke's turned himself into Sakura…\n You're trying to trick me, right, Sasuke?!\n I don't think so!\n Ow-ow-ow… What the heck is going on?!\n Oh…\n You idiot, Naruto!\n So, this is Naruto's room…\n And Sasuke of the Uchiha clan is  also in the group you'll be in charge of.\n I wish you good luck!\n The expiration date…\n of this milk has passed quite awhile ago…\n He'll get sick if he drink this.\n It seems like that things are going to get disastrous.\n What the heck is going on?!\n What is going on?!\n This isn't the same Kakashi Sensei from yesterday.\n Is this really the same Kakashi Sensei\n who got caught in my trap and breezily came late?\n Darn it! Darn it!\n No way am I giving up!\n I'll defeat him and clear this super difficult testl!\n No way am I going back now!\n Next episode:  \"Pass or Fail: Survival Test\"\n Don't miss my outstanding performance!\n",
         "0.9430063664913177",
         "0.33949054032564163",
         "0.7078851461410522",
         "0.6615160405635834",
         "0.6530581116676331",
         "0.5736332535743713",
         "0.3422190845012665",
         "0.39486246556043625"
        ],
        [
         "3",
         "4",
         "C'mon!\n Running like a fugitive,\n Being chased by something\n Inside my heart is pounding\n My throat dry like it's withering\n For no single one,\n To none does belong,\n This time is ours, right now...\n Unraveling the pain,\n Unraveling our hearts,\n Unraveling shadows\n Stifling our breath,\n Reaching for beyond,\n Tearing through the dark\n In fighting and in love\n To the distant light above,\n Yes, we are on the way\n I wanna rock...\n Rockin' my heart\n He's late.\n Naruto!\n Stay still.\n Why's it that only our squad's teacher is late?\n The other squads have gone off somewhere with their new teachers,\n and Iruka Sensei's also left.\n Don't look at me.\n Hey, what're you doing, Naruto?!\n Hey!\n It'll be his fault because he's late.\n Man! You're asking for it!\n I like stuff like this!\n A Jonin wouldn't get caught in such a weak booby trap.\n That's right. You're such an idiot...!\n I got him, I got him...\n I-I'm sorry, sir.\n I tried to stop him, but Naruto did it on his own...\n It's all good.\n Get real. ls he really a Jonin?\n How can I put this?\n As for my first impression of you guys...?\n Well, I hate you.\n Pass or Fail: Survival Test\n Let's see.\n First off, let me have you guys introduce yourselves.\n Introduce ourselves...\n What should we say?\n Your likes, dislikes, your future dream, hobbies, things like that!\n Hey!  Before that, please tell us about yourself.\n Me? My name's Kakashi Hatake.\n I don't feel like telling you guys about my likes and dislikes.\n I've never really thought about my future dream...\n As for my hobbies, I have many.\n In the end, isn't all we know his name?\n Yeah.\n Next is you guys.\n Let's start with you.\n My name's Naruto Uzumaki!\n I like instant ramen,\n but what I like even more is the ramen from Ichiraku\n that Iruka Sensei treats me to.\n What I dislike is the three minutes\n after pouring hot water in the instant ramen.\n My hobby is eating and comparing ramen!\n And my future dream...\n is to surpass the Hokage!\n And so I'm going to get the entire village\n to acknowledge my existence!\n I see...\n this kid's grown up in an interesting way.\n Okay, next.\n I'm Sakura Haruno.\n What I like... I mean, who I like is...\n And, my hobby is, \t\t\t\t\tI mean...\n My future dream is...\n And? What about your dislikes?\n Naruto!\n Girls at her age are probably more interested in love\n than the Ninja Arts.\n And lastly.\n My name's... Sasuke Uchiha.\n I have lots of dislikes, but no likes in particular.\n Oh...\n And...\n I don't feel like summing up my ambition as just a dream\n but I do have an ambition!\n The ambition to restore my clan and without fail...\n to kill a certain man!\n He doesn't...\n mean me, does he?\n Sure enough, Sasuke's cool.\n I knew it...\n Good!\n The three of you are very distinctive and interesting!\n We'll have a mission tomorrow!\n Yes, sir! What kind of mission?\n First, we'll do what we can do with just four people.\n What-what-what?!\n A survival exercise.\n Survival exercise?\n Why are we doing an exercise\n even though this is supposed to be a mission?\n We've had more than our share of exercises in the Academy!\n This is no simple exercise.\n Then... then what kind of exercise is it?\n Hey! What's so funny, Sensei?\n Uh, well, if I tell you, I know you'll grow disenchanted.\n What?\n Of the twenty-seven graduates,\n only nine will be recognized as junior ninjas.\n The remaining eighteen will be sent back to the Academy.\n In other words, this exercise is an extremely difficult test\n with a failure rate of 66% or higher!\n See, see?\n You got disenchanted!\n That's crazy!\n To have suffered that much!\n T-Then, what was the graduation test for?\n Oh, that.\n It was just to select those who have the potential of becoming Genin.\n Whaaaat?!\n Well, that's the way it is.\n I'll be determining whether you pass or fail.\n Bring your complete set of Ninja tools!\n We meet at five in the morning.\n N-No way am I going to be dropped now!\n I've got to have my strength recognized for real.\n I'll be separated from Sasuke if I fail this test.\n This is an exercise of love!\n Okay! You're dismissed.\n Oh... And you'd best skip breakfast.\n You'll throw up.\n Morning.\n Hi, folks. Good morning!\n You're late!\n Well, a black cat crossed my path, you see.\n Ahem! Oh well...\n Okay, it's set for 12:00!\n Today's assignment is to take these bells away from me by noon.\n Those who can't do it won't get lunch.\n They'll be tied to that...\n and I'll eat my lunch before your very eyes.\n So that was the point...\n for us not to eat breakfast...\n But, hold on.\n Why are there only two bells?\n There are only two, so at the very least,\n one will have to go to the logs.\n That person will be disqualified for failing the mission...\n and will return to the Academy.\n It might be one person at the very least,\n or it could be all three of you.\n You can use your Shuriken.\n You won't be able to take the bells unless you come with the intent to kill me.\n But, that's dangerous, sir!\n Y-Yeah, that's right!\n You couldn't even evade a chalkboard eraser!\n In this world,\n those who aren't skilled enough tend to complain more.\n Well, just ignore the loser...\n Begin when I give the \"ready-go\" signal.\n Loser, loser, loser.\n Don't be so hasty. I didn't say start, yet.\n No way...!\n I didn't see him at all.\n So this is a Jonin.\n But, that's fine.\n At least you came with  the intent to kill me.\n How can I put this...?\n I feel like I'm finally starting...\n to like you guys.\n We're going to start.\n Ready... start!\n What do you want to know?\n I didn't think you just came here to drink tea.\n The Jonin in Naruto and company's Group Seven...\n What kind of teacher is he? ls he strict?\n You mean Kakashi? Does he concern you?\n I heard a rumor that concerns me.\n What's this?\n It's a pass-fail list of the junior ninjas\n Kakashi has been in charge of up until now.\n Let me have a look.\n T-This is...!\n Fundamentally, ninja must mask their presence and hide.\n Okay, everyone is hidden pretty well...\n Alright! Let's face off fair and square!\n Oh?\n That goof.\n Say, aren't you a bit off kilter?\n What's off kilter is your hairstyle!\n I'll teach you the first Shinobi Battle Jutsu...\n Taijutsu.\n Taijutsu...?\n That's ninja hand-to-hand combat...\n That being said... he's going to use weapons?\n Make-Out Paradise\n What's the matter?\n Why don't you come at me?\n But hey... what's with the book?\n Why do you ask...?\n It's because I was curious about what happens next.\n Don't worry.\n With you guys as opponents,\n it makes no difference if I'm reading or not.\n I'm going to rip you apart!\n Darn! This time a spin kick!\n Man!\n Wha--?!\n Ninja shouldn't let the enemy take them from behind multiple times, fool.\n The way his hands are positioned...\n Is that the Sign of the Tiger?!\n No way!\n With Naruto as his opponent,\n that's too strong a Ninjutsu no matter how you look at it.\n That Sign... lt's a fire-style skill.\n That idiot teacher's doing more than just running around?\n Naruto, get out of there quick!\n You'll die!\n Too late.\n Leaf Village Secret! Ultimate Taijutsu!\n One Thousand Years of Death!\n Oh, it's not a Ninjutsu.\n Those two are idiots.\n Alright...\n Even so, isn't that against the rules?\n What're we supposed to do about his strength?\n Darn it!\n It wasn't supposed to be like this.\n It... can't be!\n This is more than just a rumor.\n Kakashi's test might be a bit difficult...\n Even so, this means absolutely no one has passed...!\n That's right...\n Kakashi has never had someone pass.\n They have all...\n been annihilated...\n What's the matter?\n You won't get lunch if you can't take the bell by noon.\n I know that, I say.\n You're not very energetic,\n considering you said that you'd surpass the Hokage.\n Darn it! Darn it! I can fight even if I'm hungry.\n I didn't even have dinner last night.\n I shouldn't have gone on a diet.\n I just got a bit careless earlier!\n Darn! I'm hungry, so my strength...\n But... I've got to take the bell, no matter what.\n No matter what...\n I'm... not...\n turning back now!\n I'm going to become a Ninja!\n Security is your greatest enemy!\n Now for my favorite Multi-Shadow Clone Jutsu!\n Seven... Narutos?\n What? They're not just images?\n Are they all real? The real thing?\n Not the clone, but the shadow clone, eh.\n If you ever lay a hand on Iruka Sensei, I'll kill you!\n Show me what you can do, Demon Fox!\n Those aren't just images but actual clones!\n That's an advanced Ninjutsu!\n It's the forbidden Jutsu that did in Mizuki.\n Judging from your ability,\n that Jutsu should have a one-minute limit.\n Even if you talk trash,\n Naruto is Naruto after all is said and done...\n You still can't beat me with that skill.\n W-What?! Behind me?!\n Ninja shouldn't let the enemy take them from behind.\n Right, Kakashi Sensei?\n Using the Shadow Clone,\n I had one of them come up\n from the bottom of the river and sneak behind you!\n Here's one for that attack on my butt earlier!\n Naruto, not bad!\n So... a diversionary tactic, eh?\n Now... allow me to punch you!\n What?!\n The one who got punched was...\n Naruto?\n Ouch!\n You...!\n You're Kakashi Sensei, right?!\n You used the Transformation Jutsu to change yourself, didn't you?!\n It's you!\n You're Kakashi Sensei, I say.\n You smell like Kakashi Sensei!\n The smell of an old guy!\n Why you--!\n Hey! For the time being, let's try undoing the Jutsu.\n If we do that, only the two will remain... so...\n You should've realized that sooner, you idiot!\n You're me, you idiot! Just undo the Jutsu!\n Naruto...\n You're embarrassing to watch...\n That was the Substitution Jutsu, you fool.\n Essentially, it's a skill used to quickly switch one's own body\n with an object or animal.\n This makes your enemy think you're being attacked,\n but then you strike during their unguarded moment.\n After letting himself get caught by the real Naruto,\n the Jonin fool switched bodies with one of the clone Narutos.\n Not only did he make Naruto think he'd been nailed...\n he used Naruto's own attack on him.\n A bell?!\n You really must have been in a hurry.\n You've dropped a bell!\n What the heck is this?!\n Of course it's a trap...\n H-H-Hey!\n That jonin doesn't lower his guard even when he's fighting Naruto.\n The bell!\n You have to think when using Jutsu.\n They can be used against you.\n Also...\n ...don't get caught in an obvious trap, you fool.\n A Ninja must see through deception!\n I know that, I say!\n You know, I'm telling you because you don't get it.\n Listen up!\n Your movements are wasteful.\n Now!\n He finally dropped his guard!\n You're so...\n No way!\n You jerk Sasuke!\n You're overdoing it!\n Darn it!\n At this rate, there's no way I can beat Kakashi Sensei.\n But if I don't take the bell...\n I won't get lunch...\n No... I'll fail the test!\n He says a Ninja must see through deception,\n but I have no idea what that means.\n How in the world can I take the bell back\n from Kakashi Sensei?!\n Next episode:  \"You Failed! Kakashi's Final Decision\"\n Don't miss my outstanding performance!\n",
         "0.7951261699199677",
         "0.554723784327507",
         "0.7236733734607697",
         "0.6521527022123337",
         "0.8271222114562988",
         "0.4452931135892868",
         "0.5253402441740036",
         "0.31533273309469223"
        ],
        [
         "4",
         "5",
         "C'mon!\n Running like a fugitive,\n Being chased by something\n Inside my heart is pounding\n My throat dry like it's withering\n For no single one,\n To none does belong,\n This time is ours, right now...\n Unraveling the pain,\n Unraveling our hearts,\n Unraveling shadows\n Stifling our breath,\n Reaching for beyond,\n Tearing through the dark\n In fighting and in love\n To the distant light above,\n Yes, we are on the way\n I wanna rock...\n Rockin' my heart\n You have to think when using Jutsu.\n They can be used against you.\n Also, don't get caught in an obvious trap, you fool.\n A Ninja must see through deception…got it?\n I know that!\n You know, you say that because you don't get it. Listen up.\n Your movements are wasteful.\n Now!\n He finally dropped his guard!\n You're so...\n No way!\n You jerk Sasuke! You overdid it.\n Damn! Another substitution…?\n He must have found out my location with those Shuriken!\n He purposely lowered his guard! Serves me right…\n I fell for the trap.\n So he's over there, eh…\n Sasuke…Where are you…?!\n Don't tell me, Kakashi Sensei already…\n No!\n That couldn't happen to Sasuke, right?!\n Safe! He didn't notice me.\n Sakura, behind you.\n Huh?!\n What's up with that \"A Ninja must see through deception\" stuff?!\n Darn it! I'll never fall for his trap again!\n I fell for it again!\n You Failed! Kakashi's Final Decision\n What was that?! Huh?!\n Hold on! Where's Sensei?!\n Huh?! What's going on?!\n Huh?! What's what?!\n Sakura…\n Sasuke?!\n Sa…Saku…ra…\n P-Please…help…me…\n Maybe I went a bit overboard…\n But it's really something she should notice…\n Was that voice…Sakura's…?\n Shinobi Battle Skill ♪2, Genjutsu.\n Sakura was easily lured.\n Genjutsu, huh...?\n An illusory mind-controlling technique. I'm not surprised she got lured.\n However…\n I'm different from them.\n Why don't you say that after you get a bell…Sasuke?\n It's no use just using straightforward attacks.\n A trap?!\n What?!\n This guy's...?!\n What a guy.\n There's no time to read \"Make-Out Paradise.\"\n What…? \t\t\t\t\tI…?!\n That's right! I saw Sasuke on the verge of dying and I…\n Sasuke! Don't die and leave me here!!\n Where are you?!\n So that's what it looks like behind the logs.\n Oh! There are box lunches on the stone!\n A Ninja must see through deception... eh?\n Well! I'll acknowledge that you're different from those two.\n Horse!\n Tiger!\n Fire Style! Fireball Jutsu!\n What?! That's not a Jutsu that a Genin can do…\n He shouldn't have enough Chakra yet!\n He's gone! ls he behind me?! No, above me?!\n Where is he?!\n I'm under you!!\n Wha--?!\n Earth Style: Headhunter Jutsu.\n Shinobi Battle Skill ♪3, Ninjutsu.\n How's that? You can't move, heh?\n Although, you're…already starting to make your mark.\n But, oh well.\n They do say that the nail that sticks up gets hammered down, so…\n Damn it!\n I don't have to naively take those bells. I'll just eat in secret right now!\n Let's eat!!\n Hey.\n I was just joking…\n Too late!\n Darn it…! Is there this much of a difference in strength…?\n Sakura...\n This time it's a freshly severed head?!\n What's up with her?\n Sasuke?\n You're okay!\n Hey, cut it out! Don't cling to me!\n There's not much time left until noon. I'm going.\n Sasuke, you're still going after the bells?!\n I was able to touch them last time. Next time I'll be able to take them.\n What?! \t\t\t\t\tI-I see.\n Sure enough, you're awesome, Sasuke.\n There's no way I can take the bells from Sensei.\n At this rate, I'll face separation from Sasuke…\n Uh…say. There's really no time left…\n So let's just take it easy and try again next time.\n I'm the only one who can kill that man.\n Huh…? What? You mean Sensei?\n At that time…I was crying.\n Crying…?\n My…\n What…? What is it…?\n I'm an avenger. I must become stronger than that man…\n I don't have time for setbacks here...\n ...to kill a certain man!\n Damn it…I wasted my time talking.\n Sasuke...\n Oh-oh, your stomachs are growling…\n By the way, about this exercise…\n Well! There's no need for you guys to go back to the Academy.\n What? I… All I did was lay unconscious.\n Is that okay?\n Love is victorious!! Cha!!\n Yahooooo!\n Then, then! That means the three of us…\n Yes. The three of you…\n must quit being Ninja!!\n N-No way!\n Kakashi hasn't passed a single person this whole time…\n Iruka…\n Even I don't know if it's good for those kids to become Shinobi right away…\n However… Kakashi's judgments were correct…\n Quit being Ninja?! What do you mean?!\n Uh, well it's true, we weren't able to take the bells.\n But why do we have to be told to \"quit\"?!\n That's because you're all squirts who don't have the qualifications to become Ninja.\n Oh!\n Sasuke!\n I'm saying you're squirts.\n Don't step on Sasuke!!\n Are you kids thinking that being a Ninja is easy? Huh?\n Why do you think you're doing this exercise in teams?\n Huh?! What do you mean?\n Put simply…\n it's as if you guys have no understanding of the answer to this test.\n Answer…?\n Yes. The answer that determines passing or failing of this test.\n That's…what I've wanted to ask about for a while now.\n Man, are you guys brainless or what?\n Don't you get the meaning of the three-man squad?!\n Jeez!! What of three people to a squad?!\n That's…teamwork!\n You mean, working together?\n Exactly. But it's too late even if you realize that now.\n You might've been able to…\n take the bells if the three of you had come at me…\n Well, it's too bad.\n Now wait a minute.\n Why use teamwork if there were only two bells?\n If the three of us were to desperately go take the bells with one having to hold back,\n that wouldn't be teamwork. That'd create internal discord.\n Of course!\n This is a test set up to purposely place you against each other.\n It's under just such conditions where one's own interests aren't the issue.\n The intention was to select those who could prioritize teamwork…\n Despite this, you fools…\n Sakura!\n You were only concerned with Sasuke and you didn't even know where he was.\n And you didn't care for Naruto who was right in front of your eyes…\n Naruto!\n All you do is run solo…\n You labeled the other two as hindrances and acted on your own…\n Missions are carried out in squads!\n There's no mistaking that Ninjas need unsurpassed individual skills…\n But \"teamwork\" is considered more important than that.\n Individual actions that disrupt teamwork throw the team into crisis and lead to death…\n For example...\n \"Sakura! Kill Naruto, or else Sasuke dies…\"\n What?! What?! Whaaat?!\n Is what will…happen.\n Oh, I was so surpised.\n On top of having a hostage taken,\n you're faced with two impossible choices and end up being killed.\n Every mission is a life-risking assignment.\n Look at this…\n The many names engraved on this stone…\n These are all Ninjas who are called heroes in the village.\n That-that-that-that! I like thaaat!\n I've decided now to get my name engraved there, too!\n A hero! A hero! I'm not going to die like a dog!\n But…they're not just ordinary heroes.\n No kidding. Then, what kind of heroes are they?\n Hey! Hey!\n They are heroes who were killed in action.\n Killed in action?\n It means they died performing a mission.\n This is a memorial.\n The names of my friends are also engraved here...\n I'll give you guys one more chance!\n However, after noon it'll be a harsher battle to take the bell.\n Those who want to take on the challenge can eat lunch.\n However, don't let Naruto have any.\n It's punishment for breaking the rules and attempting to eat lunch on your own.\n If someone lets him eat…\n that person will be disqualified on the spot.\n I make the rules, here. Got it?!\n I must be going.\n Listen to me, Iruka.\n What?\n No matter what the result, don't hold it against Kakashi…\n Alright.\n I'm okay with not eating lunch! No sweat at all!\n No sweat…\n Here.\n H-Hey, Sasuke. Sensei just said…!\n It's okay. There's no sign of him now.\n The three of us are going to go take the bells together.\n It'll be trouble for me if he becomes a hindrance, so...\n Sasuke…\n Sakura…\n Thanks…\n Don't thank me. Just hurry up and eat.\n But…\n I'm on…a diet… I mean I just eat less than Sasuke.\n So you don't need to worry.\n But…\n See…\n Wha--?!\n Hurry it up. We don't know when he'll be back…\n It's just this one time.\n Okay? You got it?!\n I got it.\n You three!\n Yiiikes!\n You defied the rules so that means you know what's coming…\n Do you have…something to say?\n But you see…\n What?!\n But! But! But! You said, Sensei!\n These guys…\n We're a three-man squad, right?\n That's right! The three of us are one, so…!\n That's right! That's right! That's right!\n That's right!\n The three of you are one, eh…\n You pass!\n What?!\n Whaaat?!\n You pass!\n We passed?! Why?!\n You guys are the first.\n Up until now, it was always just dunces who would meekly listen to what I said.\n A Ninja must see through deception…\n In the world of Ninja,\n those who break rules and codes are branded as garbage…\n But…\n Those who don't cherish their friends are garbage worse than that.\n He's… He's…kinda…cool…\n That's it for the exercise…\n Everyone passes!\n Group Seven starts their mission tomorrow!\n Yes, Sir!\n I did it!! I'm a Ninja! Ninja! Ninja!\n Let's go home.\n Cha!\n I...\n knew this is how it'd turn out!\n Untie the rope!\n Oh, please! It'd been nothing but blah missions until now.\n And just when I thought I'd finally gotten an awesome mission,\n to think it'd be bodyguarding this old man.\n He mocks the heck out of me, calling me a brat.\n I'll tell him a thing or two.\n Someday I'll be… Hey, are you listening?!\n Next episode: \"A Dangerous Mission! Journey to the Land of Waves!\"\n Don't miss me kick butt!\n",
         "0.9142732620239258",
         "0.8911019861698151",
         "0.7836416065692902",
         "0.5858464986085892",
         "0.45592691004276276",
         "0.09376322105526924",
         "0.07385576143860817",
         "0.0540701188147068"
        ]
       ],
       "shape": {
        "columns": 10,
        "rows": 5
       }
      },
      "text/html": [
       "<div>\n",
       "<style scoped>\n",
       "    .dataframe tbody tr th:only-of-type {\n",
       "        vertical-align: middle;\n",
       "    }\n",
       "\n",
       "    .dataframe tbody tr th {\n",
       "        vertical-align: top;\n",
       "    }\n",
       "\n",
       "    .dataframe thead th {\n",
       "        text-align: right;\n",
       "    }\n",
       "</style>\n",
       "<table border=\"1\" class=\"dataframe\">\n",
       "  <thead>\n",
       "    <tr style=\"text-align: right;\">\n",
       "      <th></th>\n",
       "      <th>episode</th>\n",
       "      <th>script</th>\n",
       "      <th>dialogue</th>\n",
       "      <th>betrayal</th>\n",
       "      <th>battle</th>\n",
       "      <th>sacrifice</th>\n",
       "      <th>self developement</th>\n",
       "      <th>hope</th>\n",
       "      <th>friendship</th>\n",
       "      <th>love</th>\n",
       "    </tr>\n",
       "  </thead>\n",
       "  <tbody>\n",
       "    <tr>\n",
       "      <th>0</th>\n",
       "      <td>1</td>\n",
       "      <td>A long time ago, a powerful demon fox appeared...</td>\n",
       "      <td>0.958543</td>\n",
       "      <td>0.792707</td>\n",
       "      <td>0.756409</td>\n",
       "      <td>0.680431</td>\n",
       "      <td>0.728773</td>\n",
       "      <td>0.201669</td>\n",
       "      <td>0.072628</td>\n",
       "      <td>0.034141</td>\n",
       "    </tr>\n",
       "    <tr>\n",
       "      <th>1</th>\n",
       "      <td>2</td>\n",
       "      <td>C'mon!\\n Running like a fugitive,\\n Being chas...</td>\n",
       "      <td>0.960605</td>\n",
       "      <td>0.429944</td>\n",
       "      <td>0.684843</td>\n",
       "      <td>0.570703</td>\n",
       "      <td>0.419744</td>\n",
       "      <td>0.154534</td>\n",
       "      <td>0.046261</td>\n",
       "      <td>0.173260</td>\n",
       "    </tr>\n",
       "    <tr>\n",
       "      <th>2</th>\n",
       "      <td>3</td>\n",
       "      <td>C'mon!\\n Running like a fugitive,\\n Being chas...</td>\n",
       "      <td>0.943006</td>\n",
       "      <td>0.339491</td>\n",
       "      <td>0.707885</td>\n",
       "      <td>0.661516</td>\n",
       "      <td>0.653058</td>\n",
       "      <td>0.573633</td>\n",
       "      <td>0.342219</td>\n",
       "      <td>0.394862</td>\n",
       "    </tr>\n",
       "    <tr>\n",
       "      <th>3</th>\n",
       "      <td>4</td>\n",
       "      <td>C'mon!\\n Running like a fugitive,\\n Being chas...</td>\n",
       "      <td>0.795126</td>\n",
       "      <td>0.554724</td>\n",
       "      <td>0.723673</td>\n",
       "      <td>0.652153</td>\n",
       "      <td>0.827122</td>\n",
       "      <td>0.445293</td>\n",
       "      <td>0.525340</td>\n",
       "      <td>0.315333</td>\n",
       "    </tr>\n",
       "    <tr>\n",
       "      <th>4</th>\n",
       "      <td>5</td>\n",
       "      <td>C'mon!\\n Running like a fugitive,\\n Being chas...</td>\n",
       "      <td>0.914273</td>\n",
       "      <td>0.891102</td>\n",
       "      <td>0.783642</td>\n",
       "      <td>0.585846</td>\n",
       "      <td>0.455927</td>\n",
       "      <td>0.093763</td>\n",
       "      <td>0.073856</td>\n",
       "      <td>0.054070</td>\n",
       "    </tr>\n",
       "  </tbody>\n",
       "</table>\n",
       "</div>"
      ],
      "text/plain": [
       "   episode                                             script  dialogue  \\\n",
       "0        1  A long time ago, a powerful demon fox appeared...  0.958543   \n",
       "1        2  C'mon!\\n Running like a fugitive,\\n Being chas...  0.960605   \n",
       "2        3  C'mon!\\n Running like a fugitive,\\n Being chas...  0.943006   \n",
       "3        4  C'mon!\\n Running like a fugitive,\\n Being chas...  0.795126   \n",
       "4        5  C'mon!\\n Running like a fugitive,\\n Being chas...  0.914273   \n",
       "\n",
       "   betrayal    battle  sacrifice  self developement      hope  friendship  \\\n",
       "0  0.792707  0.756409   0.680431           0.728773  0.201669    0.072628   \n",
       "1  0.429944  0.684843   0.570703           0.419744  0.154534    0.046261   \n",
       "2  0.339491  0.707885   0.661516           0.653058  0.573633    0.342219   \n",
       "3  0.554724  0.723673   0.652153           0.827122  0.445293    0.525340   \n",
       "4  0.891102  0.783642   0.585846           0.455927  0.093763    0.073856   \n",
       "\n",
       "       love  \n",
       "0  0.034141  \n",
       "1  0.173260  \n",
       "2  0.394862  \n",
       "3  0.315333  \n",
       "4  0.054070  "
      ]
     },
     "execution_count": 137,
     "metadata": {},
     "output_type": "execute_result"
    }
   ],
   "source": [
    "df[theme_df.columns] = theme_df\n",
    "df"
   ]
  },
  {
   "cell_type": "code",
   "execution_count": null,
   "metadata": {},
   "outputs": [],
   "source": []
  },
  {
   "cell_type": "markdown",
   "metadata": {},
   "source": [
    "# Visualize output"
   ]
  },
  {
   "cell_type": "code",
   "execution_count": null,
   "metadata": {},
   "outputs": [],
   "source": []
  },
  {
   "cell_type": "code",
   "execution_count": 138,
   "metadata": {},
   "outputs": [],
   "source": [
    "df  = df.drop('dialogue', axis = 1)"
   ]
  },
  {
   "cell_type": "markdown",
   "metadata": {},
   "source": []
  },
  {
   "cell_type": "code",
   "execution_count": 139,
   "metadata": {},
   "outputs": [
    {
     "data": {
      "application/vnd.microsoft.datawrangler.viewer.v0+json": {
       "columns": [
        {
         "name": "index",
         "rawType": "int64",
         "type": "integer"
        },
        {
         "name": "theme",
         "rawType": "object",
         "type": "string"
        },
        {
         "name": "score",
         "rawType": "float64",
         "type": "float"
        }
       ],
       "conversionMethod": "pd.DataFrame",
       "ref": "e36d4c90-bc02-4aad-a78c-66c552193138",
       "rows": [
        [
         "0",
         "betrayal",
         "3.007966946810484"
        ],
        [
         "1",
         "battle",
         "3.6564527451992035"
        ],
        [
         "2",
         "sacrifice",
         "3.1506495475769043"
        ],
        [
         "3",
         "self developement",
         "3.084624081850052"
        ],
        [
         "4",
         "hope",
         "1.468892302364111"
        ],
        [
         "5",
         "friendship",
         "1.0603035390377045"
        ],
        [
         "6",
         "love",
         "0.9716665509622544"
        ]
       ],
       "shape": {
        "columns": 2,
        "rows": 7
       }
      },
      "text/html": [
       "<div>\n",
       "<style scoped>\n",
       "    .dataframe tbody tr th:only-of-type {\n",
       "        vertical-align: middle;\n",
       "    }\n",
       "\n",
       "    .dataframe tbody tr th {\n",
       "        vertical-align: top;\n",
       "    }\n",
       "\n",
       "    .dataframe thead th {\n",
       "        text-align: right;\n",
       "    }\n",
       "</style>\n",
       "<table border=\"1\" class=\"dataframe\">\n",
       "  <thead>\n",
       "    <tr style=\"text-align: right;\">\n",
       "      <th></th>\n",
       "      <th>theme</th>\n",
       "      <th>score</th>\n",
       "    </tr>\n",
       "  </thead>\n",
       "  <tbody>\n",
       "    <tr>\n",
       "      <th>0</th>\n",
       "      <td>betrayal</td>\n",
       "      <td>3.007967</td>\n",
       "    </tr>\n",
       "    <tr>\n",
       "      <th>1</th>\n",
       "      <td>battle</td>\n",
       "      <td>3.656453</td>\n",
       "    </tr>\n",
       "    <tr>\n",
       "      <th>2</th>\n",
       "      <td>sacrifice</td>\n",
       "      <td>3.150650</td>\n",
       "    </tr>\n",
       "    <tr>\n",
       "      <th>3</th>\n",
       "      <td>self developement</td>\n",
       "      <td>3.084624</td>\n",
       "    </tr>\n",
       "    <tr>\n",
       "      <th>4</th>\n",
       "      <td>hope</td>\n",
       "      <td>1.468892</td>\n",
       "    </tr>\n",
       "    <tr>\n",
       "      <th>5</th>\n",
       "      <td>friendship</td>\n",
       "      <td>1.060304</td>\n",
       "    </tr>\n",
       "    <tr>\n",
       "      <th>6</th>\n",
       "      <td>love</td>\n",
       "      <td>0.971667</td>\n",
       "    </tr>\n",
       "  </tbody>\n",
       "</table>\n",
       "</div>"
      ],
      "text/plain": [
       "               theme     score\n",
       "0           betrayal  3.007967\n",
       "1             battle  3.656453\n",
       "2          sacrifice  3.150650\n",
       "3  self developement  3.084624\n",
       "4               hope  1.468892\n",
       "5         friendship  1.060304\n",
       "6               love  0.971667"
      ]
     },
     "execution_count": 139,
     "metadata": {},
     "output_type": "execute_result"
    }
   ],
   "source": [
    "theme_output = df.drop(['episode', 'script'], axis = 1).sum().reset_index()\n",
    "theme_output.columns = ['theme','score']\n",
    "theme_output"
   ]
  },
  {
   "cell_type": "code",
   "execution_count": 140,
   "metadata": {},
   "outputs": [
    {
     "name": "stdout",
     "output_type": "stream",
     "text": [
      "Requirement already satisfied: seaborn in c:\\users\\anshu\\appdata\\local\\programs\\python\\python312\\lib\\site-packages (0.13.2)\n",
      "Requirement already satisfied: numpy!=1.24.0,>=1.20 in c:\\users\\anshu\\appdata\\local\\programs\\python\\python312\\lib\\site-packages (from seaborn) (1.26.4)\n",
      "Requirement already satisfied: pandas>=1.2 in c:\\users\\anshu\\appdata\\local\\programs\\python\\python312\\lib\\site-packages (from seaborn) (2.2.3)\n",
      "Requirement already satisfied: matplotlib!=3.6.1,>=3.4 in c:\\users\\anshu\\appdata\\local\\programs\\python\\python312\\lib\\site-packages (from seaborn) (3.10.1)\n",
      "Requirement already satisfied: contourpy>=1.0.1 in c:\\users\\anshu\\appdata\\local\\programs\\python\\python312\\lib\\site-packages (from matplotlib!=3.6.1,>=3.4->seaborn) (1.3.1)\n",
      "Requirement already satisfied: cycler>=0.10 in c:\\users\\anshu\\appdata\\local\\programs\\python\\python312\\lib\\site-packages (from matplotlib!=3.6.1,>=3.4->seaborn) (0.12.1)\n",
      "Requirement already satisfied: fonttools>=4.22.0 in c:\\users\\anshu\\appdata\\local\\programs\\python\\python312\\lib\\site-packages (from matplotlib!=3.6.1,>=3.4->seaborn) (4.56.0)\n",
      "Requirement already satisfied: kiwisolver>=1.3.1 in c:\\users\\anshu\\appdata\\local\\programs\\python\\python312\\lib\\site-packages (from matplotlib!=3.6.1,>=3.4->seaborn) (1.4.8)\n",
      "Requirement already satisfied: packaging>=20.0 in c:\\users\\anshu\\appdata\\local\\programs\\python\\python312\\lib\\site-packages (from matplotlib!=3.6.1,>=3.4->seaborn) (24.0)\n",
      "Requirement already satisfied: pillow>=8 in c:\\users\\anshu\\appdata\\local\\programs\\python\\python312\\lib\\site-packages (from matplotlib!=3.6.1,>=3.4->seaborn) (10.3.0)\n",
      "Requirement already satisfied: pyparsing>=2.3.1 in c:\\users\\anshu\\appdata\\local\\programs\\python\\python312\\lib\\site-packages (from matplotlib!=3.6.1,>=3.4->seaborn) (3.2.1)\n",
      "Requirement already satisfied: python-dateutil>=2.7 in c:\\users\\anshu\\appdata\\local\\programs\\python\\python312\\lib\\site-packages (from matplotlib!=3.6.1,>=3.4->seaborn) (2.9.0.post0)\n",
      "Requirement already satisfied: pytz>=2020.1 in c:\\users\\anshu\\appdata\\local\\programs\\python\\python312\\lib\\site-packages (from pandas>=1.2->seaborn) (2025.1)\n",
      "Requirement already satisfied: tzdata>=2022.7 in c:\\users\\anshu\\appdata\\local\\programs\\python\\python312\\lib\\site-packages (from pandas>=1.2->seaborn) (2025.1)\n",
      "Requirement already satisfied: six>=1.5 in c:\\users\\anshu\\appdata\\local\\programs\\python\\python312\\lib\\site-packages (from python-dateutil>=2.7->matplotlib!=3.6.1,>=3.4->seaborn) (1.16.0)\n"
     ]
    },
    {
     "name": "stderr",
     "output_type": "stream",
     "text": [
      "\n",
      "[notice] A new release of pip is available: 24.0 -> 25.0.1\n",
      "[notice] To update, run: python.exe -m pip install --upgrade pip\n"
     ]
    }
   ],
   "source": [
    "! pip install seaborn\n"
   ]
  },
  {
   "cell_type": "code",
   "execution_count": 141,
   "metadata": {},
   "outputs": [
    {
     "name": "stdout",
     "output_type": "stream",
     "text": [
      "Requirement already satisfied: matplotlib in c:\\users\\anshu\\appdata\\local\\programs\\python\\python312\\lib\\site-packages (3.10.1)\n",
      "Requirement already satisfied: contourpy>=1.0.1 in c:\\users\\anshu\\appdata\\local\\programs\\python\\python312\\lib\\site-packages (from matplotlib) (1.3.1)\n",
      "Requirement already satisfied: cycler>=0.10 in c:\\users\\anshu\\appdata\\local\\programs\\python\\python312\\lib\\site-packages (from matplotlib) (0.12.1)\n",
      "Requirement already satisfied: fonttools>=4.22.0 in c:\\users\\anshu\\appdata\\local\\programs\\python\\python312\\lib\\site-packages (from matplotlib) (4.56.0)\n",
      "Requirement already satisfied: kiwisolver>=1.3.1 in c:\\users\\anshu\\appdata\\local\\programs\\python\\python312\\lib\\site-packages (from matplotlib) (1.4.8)\n",
      "Requirement already satisfied: numpy>=1.23 in c:\\users\\anshu\\appdata\\local\\programs\\python\\python312\\lib\\site-packages (from matplotlib) (1.26.4)\n",
      "Requirement already satisfied: packaging>=20.0 in c:\\users\\anshu\\appdata\\local\\programs\\python\\python312\\lib\\site-packages (from matplotlib) (24.0)\n",
      "Requirement already satisfied: pillow>=8 in c:\\users\\anshu\\appdata\\local\\programs\\python\\python312\\lib\\site-packages (from matplotlib) (10.3.0)\n",
      "Requirement already satisfied: pyparsing>=2.3.1 in c:\\users\\anshu\\appdata\\local\\programs\\python\\python312\\lib\\site-packages (from matplotlib) (3.2.1)\n",
      "Requirement already satisfied: python-dateutil>=2.7 in c:\\users\\anshu\\appdata\\local\\programs\\python\\python312\\lib\\site-packages (from matplotlib) (2.9.0.post0)\n",
      "Requirement already satisfied: six>=1.5 in c:\\users\\anshu\\appdata\\local\\programs\\python\\python312\\lib\\site-packages (from python-dateutil>=2.7->matplotlib) (1.16.0)\n"
     ]
    },
    {
     "name": "stderr",
     "output_type": "stream",
     "text": [
      "\n",
      "[notice] A new release of pip is available: 24.0 -> 25.0.1\n",
      "[notice] To update, run: python.exe -m pip install --upgrade pip\n"
     ]
    }
   ],
   "source": [
    "! pip install matplotlib\n"
   ]
  },
  {
   "cell_type": "code",
   "execution_count": 142,
   "metadata": {},
   "outputs": [],
   "source": [
    "import matplotlib.pyplot as plt\n",
    "import seaborn as sns"
   ]
  },
  {
   "cell_type": "code",
   "execution_count": 143,
   "metadata": {},
   "outputs": [
    {
     "data": {
      "image/png": "[encoded data removed]",
      "text/plain": [
       "<Figure size 640x480 with 1 Axes>"
      ]
     },
     "metadata": {},
     "output_type": "display_data"
    }
   ],
   "source": [
    "sns.barplot(data= theme_output, x = 'theme', y ='score')\n",
    "plt.xticks(rotation = 45)\n",
    "plt.show()"
   ]
  },
  {
   "cell_type": "code",
   "execution_count": null,
   "metadata": {},
   "outputs": [],
   "source": []
  },
  {
   "cell_type": "code",
   "execution_count": 144,
   "metadata": {},
   "outputs": [
    {
     "data": {
      "text/plain": [
       "True"
      ]
     },
     "execution_count": 144,
     "metadata": {},
     "output_type": "execute_result"
    }
   ],
   "source": [
    "import nltk\n",
    "nltk.download('punkt', quiet=True)\n",
    "nltk.download('punkt_tab', quiet=True)"
   ]
  },
  {
   "cell_type": "code",
   "execution_count": null,
   "metadata": {},
   "outputs": [],
   "source": []
  }
 ],
 "metadata": {
  "kernelspec": {
   "display_name": "Python 3",
   "language": "python",
   "name": "python3"
  },
  "language_info": {
   "codemirror_mode": {
    "name": "ipython",
    "version": 3
   },
   "file_extension": ".py",
   "mimetype": "text/x-python",
   "name": "python",
   "nbconvert_exporter": "python",
   "pygments_lexer": "ipython3",
   "version": "3.12.1"
  }
 },
 "nbformat": 4,
 "nbformat_minor": 2
}
