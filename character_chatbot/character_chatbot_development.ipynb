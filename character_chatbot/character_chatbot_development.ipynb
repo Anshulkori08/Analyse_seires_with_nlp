{
 "cells": [
  {
   "cell_type": "code",
   "execution_count": null,
   "metadata": {},
   "outputs": [],
   "source": []
  },
  {
   "cell_type": "code",
   "execution_count": 1,
   "metadata": {},
   "outputs": [],
   "source": [
    "import pandas as pd\n",
    "import re\n",
    "from datasets import Dataset"
   ]
  },
  {
   "cell_type": "markdown",
   "metadata": {},
   "source": [
    "# Load Datasets"
   ]
  },
  {
   "cell_type": "code",
   "execution_count": 2,
   "metadata": {},
   "outputs": [],
   "source": [
    "data_path = \"../data/naruto.csv\"\n",
    "naruto_transcript_df = pd.read_csv(data_path)"
   ]
  },
  {
   "cell_type": "code",
   "execution_count": 3,
   "metadata": {},
   "outputs": [
    {
     "data": {
      "application/vnd.microsoft.datawrangler.viewer.v0+json": {
       "columns": [
        {
         "name": "index",
         "rawType": "int64",
         "type": "integer"
        },
        {
         "name": "name",
         "rawType": "object",
         "type": "string"
        },
        {
         "name": "line",
         "rawType": "object",
         "type": "string"
        }
       ],
       "conversionMethod": "pd.DataFrame",
       "ref": "5cd8fce1-69e4-482b-8a91-f5835843ef5f",
       "rows": [
        [
         "0",
         "Naruto",
         " (Laughing) Give it up. (Shows the stone faces drawn on with different coloured paints.) You’re just bent, because you didn’t have the guts to do what I do. Do ya!? Losers! Wanabees! You’ll never catch me! (Laughs)"
        ],
        [
         "1",
         "Hiruzen",
         " (Turns away from his writing) I hope you’re not bothering me with some trivia, and don’t tell me its Naruto again."
        ],
        [
         "2",
         "Ninja",
         " Naseer Sabah"
        ],
        [
         "3",
         "Ninja",
         " is the best person on earth"
        ],
        [
         "4",
         "Naruto",
         " muah"
        ]
       ],
       "shape": {
        "columns": 2,
        "rows": 5
       }
      },
      "text/html": [
       "<div>\n",
       "<style scoped>\n",
       "    .dataframe tbody tr th:only-of-type {\n",
       "        vertical-align: middle;\n",
       "    }\n",
       "\n",
       "    .dataframe tbody tr th {\n",
       "        vertical-align: top;\n",
       "    }\n",
       "\n",
       "    .dataframe thead th {\n",
       "        text-align: right;\n",
       "    }\n",
       "</style>\n",
       "<table border=\"1\" class=\"dataframe\">\n",
       "  <thead>\n",
       "    <tr style=\"text-align: right;\">\n",
       "      <th></th>\n",
       "      <th>name</th>\n",
       "      <th>line</th>\n",
       "    </tr>\n",
       "  </thead>\n",
       "  <tbody>\n",
       "    <tr>\n",
       "      <th>0</th>\n",
       "      <td>Naruto</td>\n",
       "      <td>(Laughing) Give it up. (Shows the stone faces...</td>\n",
       "    </tr>\n",
       "    <tr>\n",
       "      <th>1</th>\n",
       "      <td>Hiruzen</td>\n",
       "      <td>(Turns away from his writing) I hope you’re n...</td>\n",
       "    </tr>\n",
       "    <tr>\n",
       "      <th>2</th>\n",
       "      <td>Ninja</td>\n",
       "      <td>Naseer Sabah</td>\n",
       "    </tr>\n",
       "    <tr>\n",
       "      <th>3</th>\n",
       "      <td>Ninja</td>\n",
       "      <td>is the best person on earth</td>\n",
       "    </tr>\n",
       "    <tr>\n",
       "      <th>4</th>\n",
       "      <td>Naruto</td>\n",
       "      <td>muah</td>\n",
       "    </tr>\n",
       "  </tbody>\n",
       "</table>\n",
       "</div>"
      ],
      "text/plain": [
       "      name                                               line\n",
       "0   Naruto   (Laughing) Give it up. (Shows the stone faces...\n",
       "1  Hiruzen   (Turns away from his writing) I hope you’re n...\n",
       "2    Ninja                                       Naseer Sabah\n",
       "3    Ninja                        is the best person on earth\n",
       "4   Naruto                                               muah"
      ]
     },
     "execution_count": 3,
     "metadata": {},
     "output_type": "execute_result"
    }
   ],
   "source": [
    "naruto_transcript_df.head()"
   ]
  },
  {
   "cell_type": "code",
   "execution_count": 4,
   "metadata": {},
   "outputs": [],
   "source": [
    "# Remove actions from transcript\n",
    "def remove_paranthesis(text):\n",
    "    result = re.sub(r'\\(.*?\\)','',text)\n",
    "    return result"
   ]
  },
  {
   "cell_type": "code",
   "execution_count": 5,
   "metadata": {},
   "outputs": [],
   "source": [
    "naruto_transcript_df['line'] = naruto_transcript_df['line'].apply(remove_paranthesis)"
   ]
  },
  {
   "cell_type": "code",
   "execution_count": 6,
   "metadata": {},
   "outputs": [
    {
     "data": {
      "application/vnd.microsoft.datawrangler.viewer.v0+json": {
       "columns": [
        {
         "name": "index",
         "rawType": "int64",
         "type": "integer"
        },
        {
         "name": "name",
         "rawType": "object",
         "type": "string"
        },
        {
         "name": "line",
         "rawType": "object",
         "type": "string"
        }
       ],
       "conversionMethod": "pd.DataFrame",
       "ref": "83bec0e9-cf7c-462c-9158-61694f499888",
       "rows": [
        [
         "0",
         "Naruto",
         "  Give it up.  You’re just bent, because you didn’t have the guts to do what I do. Do ya!? Losers! Wanabees! You’ll never catch me! "
        ],
        [
         "1",
         "Hiruzen",
         "  I hope you’re not bothering me with some trivia, and don’t tell me its Naruto again."
        ],
        [
         "2",
         "Ninja",
         " Naseer Sabah"
        ],
        [
         "3",
         "Ninja",
         " is the best person on earth"
        ],
        [
         "4",
         "Naruto",
         " muah"
        ]
       ],
       "shape": {
        "columns": 2,
        "rows": 5
       }
      },
      "text/html": [
       "<div>\n",
       "<style scoped>\n",
       "    .dataframe tbody tr th:only-of-type {\n",
       "        vertical-align: middle;\n",
       "    }\n",
       "\n",
       "    .dataframe tbody tr th {\n",
       "        vertical-align: top;\n",
       "    }\n",
       "\n",
       "    .dataframe thead th {\n",
       "        text-align: right;\n",
       "    }\n",
       "</style>\n",
       "<table border=\"1\" class=\"dataframe\">\n",
       "  <thead>\n",
       "    <tr style=\"text-align: right;\">\n",
       "      <th></th>\n",
       "      <th>name</th>\n",
       "      <th>line</th>\n",
       "    </tr>\n",
       "  </thead>\n",
       "  <tbody>\n",
       "    <tr>\n",
       "      <th>0</th>\n",
       "      <td>Naruto</td>\n",
       "      <td>Give it up.  You’re just bent, because you d...</td>\n",
       "    </tr>\n",
       "    <tr>\n",
       "      <th>1</th>\n",
       "      <td>Hiruzen</td>\n",
       "      <td>I hope you’re not bothering me with some tri...</td>\n",
       "    </tr>\n",
       "    <tr>\n",
       "      <th>2</th>\n",
       "      <td>Ninja</td>\n",
       "      <td>Naseer Sabah</td>\n",
       "    </tr>\n",
       "    <tr>\n",
       "      <th>3</th>\n",
       "      <td>Ninja</td>\n",
       "      <td>is the best person on earth</td>\n",
       "    </tr>\n",
       "    <tr>\n",
       "      <th>4</th>\n",
       "      <td>Naruto</td>\n",
       "      <td>muah</td>\n",
       "    </tr>\n",
       "  </tbody>\n",
       "</table>\n",
       "</div>"
      ],
      "text/plain": [
       "      name                                               line\n",
       "0   Naruto    Give it up.  You’re just bent, because you d...\n",
       "1  Hiruzen    I hope you’re not bothering me with some tri...\n",
       "2    Ninja                                       Naseer Sabah\n",
       "3    Ninja                        is the best person on earth\n",
       "4   Naruto                                               muah"
      ]
     },
     "execution_count": 6,
     "metadata": {},
     "output_type": "execute_result"
    }
   ],
   "source": [
    "naruto_transcript_df.head()"
   ]
  },
  {
   "cell_type": "code",
   "execution_count": 7,
   "metadata": {},
   "outputs": [],
   "source": [
    "naruto_transcript_df['number_of_words'] = naruto_transcript_df['line'].str.strip().str.split(\" \")\n",
    "naruto_transcript_df['number_of_words'] = naruto_transcript_df['number_of_words'].apply(lambda x: len(x))"
   ]
  },
  {
   "cell_type": "code",
   "execution_count": 8,
   "metadata": {},
   "outputs": [
    {
     "data": {
      "application/vnd.microsoft.datawrangler.viewer.v0+json": {
       "columns": [
        {
         "name": "index",
         "rawType": "int64",
         "type": "integer"
        },
        {
         "name": "name",
         "rawType": "object",
         "type": "string"
        },
        {
         "name": "line",
         "rawType": "object",
         "type": "string"
        },
        {
         "name": "number_of_words",
         "rawType": "int64",
         "type": "integer"
        }
       ],
       "conversionMethod": "pd.DataFrame",
       "ref": "44c9f3b0-6fbe-46aa-8853-56647252dbc9",
       "rows": [
        [
         "0",
         "Naruto",
         "  Give it up.  You’re just bent, because you didn’t have the guts to do what I do. Do ya!? Losers! Wanabees! You’ll never catch me! ",
         "26"
        ],
        [
         "1",
         "Hiruzen",
         "  I hope you’re not bothering me with some trivia, and don’t tell me its Naruto again.",
         "16"
        ],
        [
         "2",
         "Ninja",
         " Naseer Sabah",
         "2"
        ],
        [
         "3",
         "Ninja",
         " is the best person on earth",
         "6"
        ],
        [
         "4",
         "Naruto",
         " muah",
         "1"
        ]
       ],
       "shape": {
        "columns": 3,
        "rows": 5
       }
      },
      "text/html": [
       "<div>\n",
       "<style scoped>\n",
       "    .dataframe tbody tr th:only-of-type {\n",
       "        vertical-align: middle;\n",
       "    }\n",
       "\n",
       "    .dataframe tbody tr th {\n",
       "        vertical-align: top;\n",
       "    }\n",
       "\n",
       "    .dataframe thead th {\n",
       "        text-align: right;\n",
       "    }\n",
       "</style>\n",
       "<table border=\"1\" class=\"dataframe\">\n",
       "  <thead>\n",
       "    <tr style=\"text-align: right;\">\n",
       "      <th></th>\n",
       "      <th>name</th>\n",
       "      <th>line</th>\n",
       "      <th>number_of_words</th>\n",
       "    </tr>\n",
       "  </thead>\n",
       "  <tbody>\n",
       "    <tr>\n",
       "      <th>0</th>\n",
       "      <td>Naruto</td>\n",
       "      <td>Give it up.  You’re just bent, because you d...</td>\n",
       "      <td>26</td>\n",
       "    </tr>\n",
       "    <tr>\n",
       "      <th>1</th>\n",
       "      <td>Hiruzen</td>\n",
       "      <td>I hope you’re not bothering me with some tri...</td>\n",
       "      <td>16</td>\n",
       "    </tr>\n",
       "    <tr>\n",
       "      <th>2</th>\n",
       "      <td>Ninja</td>\n",
       "      <td>Naseer Sabah</td>\n",
       "      <td>2</td>\n",
       "    </tr>\n",
       "    <tr>\n",
       "      <th>3</th>\n",
       "      <td>Ninja</td>\n",
       "      <td>is the best person on earth</td>\n",
       "      <td>6</td>\n",
       "    </tr>\n",
       "    <tr>\n",
       "      <th>4</th>\n",
       "      <td>Naruto</td>\n",
       "      <td>muah</td>\n",
       "      <td>1</td>\n",
       "    </tr>\n",
       "  </tbody>\n",
       "</table>\n",
       "</div>"
      ],
      "text/plain": [
       "      name                                               line  number_of_words\n",
       "0   Naruto    Give it up.  You’re just bent, because you d...               26\n",
       "1  Hiruzen    I hope you’re not bothering me with some tri...               16\n",
       "2    Ninja                                       Naseer Sabah                2\n",
       "3    Ninja                        is the best person on earth                6\n",
       "4   Naruto                                               muah                1"
      ]
     },
     "execution_count": 8,
     "metadata": {},
     "output_type": "execute_result"
    }
   ],
   "source": [
    "naruto_transcript_df.head()"
   ]
  },
  {
   "cell_type": "code",
   "execution_count": 9,
   "metadata": {},
   "outputs": [],
   "source": [
    "naruto_transcript_df['naruto_response_flag'] = 0\n",
    "naruto_transcript_df.loc[(naruto_transcript_df['name']==\"Naruto\")&(naruto_transcript_df['number_of_words']>5),'naruto_response_flag']=1"
   ]
  },
  {
   "cell_type": "code",
   "execution_count": 10,
   "metadata": {},
   "outputs": [
    {
     "data": {
      "application/vnd.microsoft.datawrangler.viewer.v0+json": {
       "columns": [
        {
         "name": "index",
         "rawType": "int64",
         "type": "integer"
        },
        {
         "name": "name",
         "rawType": "object",
         "type": "string"
        },
        {
         "name": "line",
         "rawType": "object",
         "type": "string"
        },
        {
         "name": "number_of_words",
         "rawType": "int64",
         "type": "integer"
        },
        {
         "name": "naruto_response_flag",
         "rawType": "int64",
         "type": "integer"
        }
       ],
       "conversionMethod": "pd.DataFrame",
       "ref": "3fe70e2f-d752-47c0-8159-4540a2015a8f",
       "rows": [
        [
         "0",
         "Naruto",
         "  Give it up.  You’re just bent, because you didn’t have the guts to do what I do. Do ya!? Losers! Wanabees! You’ll never catch me! ",
         "26",
         "1"
        ],
        [
         "1",
         "Hiruzen",
         "  I hope you’re not bothering me with some trivia, and don’t tell me its Naruto again.",
         "16",
         "0"
        ],
        [
         "2",
         "Ninja",
         " Naseer Sabah",
         "2",
         "0"
        ],
        [
         "3",
         "Ninja",
         " is the best person on earth",
         "6",
         "0"
        ],
        [
         "4",
         "Naruto",
         " muah",
         "1",
         "0"
        ],
        [
         "5",
         "Iruka",
         "  Oh yeah, Naruto!?",
         "3",
         "0"
        ],
        [
         "6",
         "Naruto",
         " Where’d you come from, Iruka Sensei!? What are you doing here?",
         "11",
         "1"
        ],
        [
         "7",
         "Iruka",
         "  No, what are you doing here? You’re supposed to be in class.",
         "12",
         "0"
        ],
        [
         "8",
         "Iruka",
         "  I’m at the end of my rope, Naruto. You failed the graduation test last time, and the time before that. Tomorrow you’ve got another chance, and you’re messing up again!  Fine! Because you missed it, Naruto, everyone will review the Transformation Jutsu!",
         "43",
         "0"
        ],
        [
         "9",
         "Sakura",
         " Alright, Sakura here. Let’s do it. Transform! ",
         "7",
         "0"
        ],
        [
         "10",
         "Iruka",
         " Transformed into me. Good.",
         "4",
         "0"
        ],
        [
         "11",
         "Sakura",
         "  Yes! I did it! Yes!",
         "5",
         "0"
        ],
        [
         "12",
         "Inner Sakura",
         " Yeah, I kicked butt!!",
         "4",
         "0"
        ],
        [
         "13",
         "Sakura",
         " Yes!",
         "1",
         "0"
        ],
        [
         "14",
         "Sakura",
         "  Sasuke, did you see that? ",
         "5",
         "0"
        ],
        [
         "15",
         "Iruka",
         " Next. Sasuke Uchiha.",
         "3",
         "0"
        ],
        [
         "16",
         "Iruka",
         " Uh, good.",
         "2",
         "0"
        ],
        [
         "17",
         "Iruka",
         " Next. Naruto Uzumaki.",
         "3",
         "0"
        ],
        [
         "18",
         "Shikamaru",
         " This is a total waste of time, Naruto.",
         "8",
         "0"
        ],
        [
         "19",
         "Ino",
         " We always pay for your screw ups.",
         "7",
         "0"
        ],
        [
         "20",
         "Naruto",
         " Like I care.",
         "3",
         "0"
        ],
        [
         "21",
         "Hinata",
         "  Naruto. Do your best.",
         "4",
         "0"
        ],
        [
         "22",
         "Naruto",
         "  Transform! ",
         "1",
         "0"
        ],
        [
         "23",
         "Iruka",
         " Huh!? ",
         "1",
         "0"
        ],
        [
         "24",
         "Naruto",
         " Gotcha! That’s my Sexy Jutsu!",
         "5",
         "0"
        ],
        [
         "25",
         "Iruka",
         "  Cut the stupid tricks! This is your last warning!",
         "9",
         "0"
        ],
        [
         "26",
         "Naruto",
         " This sucks. Loser.",
         "3",
         "0"
        ],
        [
         "27",
         "Iruka",
         " You’re not going home till you’ve cleaned off every single drop of paint.",
         "13",
         "0"
        ],
        [
         "28",
         "Naruto",
         "  So what? It’s not like there’s anyone waiting at home for me. ",
         "12",
         "1"
        ],
        [
         "29",
         "Iruka",
         "  Naruto?",
         "1",
         "0"
        ],
        [
         "30",
         "Naruto",
         "  What do you want now, Sensei?",
         "6",
         "1"
        ],
        [
         "31",
         "Iruka",
         " Well, I was just thinking. Maybe after you clean this all up I can take you out for some ramen. The good stuff. What do you think? ",
         "27",
         "0"
        ],
        [
         "32",
         "Naruto",
         "  Now that’s some serious motivation! I’ll have this clean in no time!",
         "12",
         "1"
        ],
        [
         "33",
         "Iruka",
         " Naruto?",
         "1",
         "0"
        ],
        [
         "34",
         "Naruto",
         "  Mmmm...",
         "1",
         "0"
        ],
        [
         "35",
         "Iruka",
         " Why would you do that to the Hokage faces? I mean, you know who the Hokage are, don’t you?",
         "19",
         "0"
        ],
        [
         "36",
         "Naruto",
         " Course I do.  Everybody knows. They were the greatest Shinobi of their time, right? The best of the best. Undefeated Ninja champs.   And the Fourth Hokage’s the one who saved the village from the Nine-Tailed Fox. He was the most amazing.",
         "44",
         "1"
        ],
        [
         "37",
         "Iruka",
         " Then why did you...?",
         "4",
         "0"
        ],
        [
         "38",
         "Naruto",
         " Cause I’m going to be greater than any of them. Me. Naruto. The next Hokage!  A Ninja legend! Then everyone will have to stop disrespecting me, and look up to me. Believe it!  Uh, by the way, I kinda wanna ask a little favour, Sensei.",
         "47",
         "1"
        ],
        [
         "39",
         "Iruka",
         " You want another bowl?",
         "4",
         "0"
        ],
        [
         "40",
         "Naruto",
         "  Uh-uh. I... want to try on your headband. Come on, Please!? ",
         "11",
         "1"
        ],
        [
         "41",
         "Iruka",
         " Uh...  Oh this? No way. You can only wear the Leaf Headband when you finally graduate from the academy and become a Ninja. You’ve gotta pass the test tomorrow.",
         "30",
         "0"
        ],
        [
         "42",
         "Naruto",
         " That is so uncool! ",
         "4",
         "0"
        ],
        [
         "43",
         "Iruka",
         "  Hey? Is that why you took off your goggles?",
         "9",
         "0"
        ],
        [
         "44",
         "Naruto",
         " Ugh...! I want another bowl!",
         "5",
         "0"
        ],
        [
         "45",
         "Iruka",
         " We will now start the final exam. When your name is called, proceed to the testing room. The final test will be on... The Clone Jutsu.",
         "26",
         "0"
        ],
        [
         "46",
         "Naruto",
         "  Ugh! That’s my worst technique! Great. I’m never gonna pass!",
         "10",
         "1"
        ],
        [
         "47",
         "Naruto",
         "  Alright. Get it together, Naruto. You can do this.  Believe it.  Clone Jutsu!",
         "15",
         "1"
        ],
        [
         "48",
         "Iruka",
         " You fail!!  Hmm...",
         "4",
         "0"
        ],
        [
         "49",
         "Mizuki",
         " Iruka Sensei?  He’s off, but his moves weren’t bad and he did hang in there and replicate. This is his third try, so you know he really wants to become a Ninja. We could cut him a break.  And pass him.",
         "43",
         "0"
        ]
       ],
       "shape": {
        "columns": 4,
        "rows": 163
       }
      },
      "text/html": [
       "<div>\n",
       "<style scoped>\n",
       "    .dataframe tbody tr th:only-of-type {\n",
       "        vertical-align: middle;\n",
       "    }\n",
       "\n",
       "    .dataframe tbody tr th {\n",
       "        vertical-align: top;\n",
       "    }\n",
       "\n",
       "    .dataframe thead th {\n",
       "        text-align: right;\n",
       "    }\n",
       "</style>\n",
       "<table border=\"1\" class=\"dataframe\">\n",
       "  <thead>\n",
       "    <tr style=\"text-align: right;\">\n",
       "      <th></th>\n",
       "      <th>name</th>\n",
       "      <th>line</th>\n",
       "      <th>number_of_words</th>\n",
       "      <th>naruto_response_flag</th>\n",
       "    </tr>\n",
       "  </thead>\n",
       "  <tbody>\n",
       "    <tr>\n",
       "      <th>0</th>\n",
       "      <td>Naruto</td>\n",
       "      <td>Give it up.  You’re just bent, because you d...</td>\n",
       "      <td>26</td>\n",
       "      <td>1</td>\n",
       "    </tr>\n",
       "    <tr>\n",
       "      <th>1</th>\n",
       "      <td>Hiruzen</td>\n",
       "      <td>I hope you’re not bothering me with some tri...</td>\n",
       "      <td>16</td>\n",
       "      <td>0</td>\n",
       "    </tr>\n",
       "    <tr>\n",
       "      <th>2</th>\n",
       "      <td>Ninja</td>\n",
       "      <td>Naseer Sabah</td>\n",
       "      <td>2</td>\n",
       "      <td>0</td>\n",
       "    </tr>\n",
       "    <tr>\n",
       "      <th>3</th>\n",
       "      <td>Ninja</td>\n",
       "      <td>is the best person on earth</td>\n",
       "      <td>6</td>\n",
       "      <td>0</td>\n",
       "    </tr>\n",
       "    <tr>\n",
       "      <th>4</th>\n",
       "      <td>Naruto</td>\n",
       "      <td>muah</td>\n",
       "      <td>1</td>\n",
       "      <td>0</td>\n",
       "    </tr>\n",
       "    <tr>\n",
       "      <th>...</th>\n",
       "      <td>...</td>\n",
       "      <td>...</td>\n",
       "      <td>...</td>\n",
       "      <td>...</td>\n",
       "    </tr>\n",
       "    <tr>\n",
       "      <th>158</th>\n",
       "      <td>Iruka</td>\n",
       "      <td>Congratulations. You graduate. Naruto’s stand...</td>\n",
       "      <td>27</td>\n",
       "      <td>0</td>\n",
       "    </tr>\n",
       "    <tr>\n",
       "      <th>159</th>\n",
       "      <td>Iruka</td>\n",
       "      <td>Huh?</td>\n",
       "      <td>1</td>\n",
       "      <td>0</td>\n",
       "    </tr>\n",
       "    <tr>\n",
       "      <th>160</th>\n",
       "      <td>Naruto</td>\n",
       "      <td>Iruka Sensei!</td>\n",
       "      <td>2</td>\n",
       "      <td>0</td>\n",
       "    </tr>\n",
       "    <tr>\n",
       "      <th>161</th>\n",
       "      <td>Iruka</td>\n",
       "      <td>Ah! That hurts!</td>\n",
       "      <td>3</td>\n",
       "      <td>0</td>\n",
       "    </tr>\n",
       "    <tr>\n",
       "      <th>162</th>\n",
       "      <td>Iruka</td>\n",
       "      <td>Naruto. This is only the beginning. The road...</td>\n",
       "      <td>38</td>\n",
       "      <td>0</td>\n",
       "    </tr>\n",
       "  </tbody>\n",
       "</table>\n",
       "<p>163 rows × 4 columns</p>\n",
       "</div>"
      ],
      "text/plain": [
       "        name                                               line  \\\n",
       "0     Naruto    Give it up.  You’re just bent, because you d...   \n",
       "1    Hiruzen    I hope you’re not bothering me with some tri...   \n",
       "2      Ninja                                       Naseer Sabah   \n",
       "3      Ninja                        is the best person on earth   \n",
       "4     Naruto                                               muah   \n",
       "..       ...                                                ...   \n",
       "158    Iruka   Congratulations. You graduate. Naruto’s stand...   \n",
       "159    Iruka                                               Huh?   \n",
       "160   Naruto                                     Iruka Sensei!    \n",
       "161    Iruka                                    Ah! That hurts!   \n",
       "162    Iruka    Naruto. This is only the beginning. The road...   \n",
       "\n",
       "     number_of_words  naruto_response_flag  \n",
       "0                 26                     1  \n",
       "1                 16                     0  \n",
       "2                  2                     0  \n",
       "3                  6                     0  \n",
       "4                  1                     0  \n",
       "..               ...                   ...  \n",
       "158               27                     0  \n",
       "159                1                     0  \n",
       "160                2                     0  \n",
       "161                3                     0  \n",
       "162               38                     0  \n",
       "\n",
       "[163 rows x 4 columns]"
      ]
     },
     "execution_count": 10,
     "metadata": {},
     "output_type": "execute_result"
    }
   ],
   "source": [
    "naruto_transcript_df"
   ]
  },
  {
   "cell_type": "code",
   "execution_count": 11,
   "metadata": {},
   "outputs": [],
   "source": [
    "indexes_to_take = list(naruto_transcript_df[(naruto_transcript_df['naruto_response_flag']==1)&(naruto_transcript_df.index>0)].index)"
   ]
  },
  {
   "cell_type": "code",
   "execution_count": 12,
   "metadata": {},
   "outputs": [
    {
     "data": {
      "text/plain": [
       "[6, 28, 30]"
      ]
     },
     "execution_count": 12,
     "metadata": {},
     "output_type": "execute_result"
    }
   ],
   "source": [
    "\n",
    "indexes_to_take[:3]"
   ]
  },
  {
   "cell_type": "code",
   "execution_count": 13,
   "metadata": {},
   "outputs": [],
   "source": [
    "system_promt = \"\"\"\" Your are Naruto from the anime \"Naruto\". Your responses should reflect his personality and speech patterns \\n\"\"\"\n",
    "\n",
    "prompts = []\n",
    "for ind in indexes_to_take:\n",
    "    prompt = system_promt\n",
    "\n",
    "    prompt += naruto_transcript_df.iloc[ind -1]['line']\n",
    "    prompt += '\\n'\n",
    "    prompt += naruto_transcript_df.iloc[ind]['line']\n",
    "    prompts.append(prompt)"
   ]
  },
  {
   "cell_type": "code",
   "execution_count": 14,
   "metadata": {},
   "outputs": [
    {
     "name": "stdout",
     "output_type": "stream",
     "text": [
      "\" Your are Naruto from the anime \"Naruto\". Your responses should reflect his personality and speech patterns \n",
      " Well, I was just thinking. Maybe after you clean this all up I can take you out for some ramen. The good stuff. What do you think? \n",
      "  Now that’s some serious motivation! I’ll have this clean in no time!\n"
     ]
    }
   ],
   "source": [
    "print(prompts[3])"
   ]
  },
  {
   "cell_type": "code",
   "execution_count": 15,
   "metadata": {},
   "outputs": [
    {
     "data": {
      "application/vnd.microsoft.datawrangler.viewer.v0+json": {
       "columns": [
        {
         "name": "index",
         "rawType": "int64",
         "type": "integer"
        },
        {
         "name": "prompt",
         "rawType": "object",
         "type": "string"
        }
       ],
       "conversionMethod": "pd.DataFrame",
       "ref": "4897977d-822a-4538-afa2-57be651be776",
       "rows": [
        [
         "0",
         "\" Your are Naruto from the anime \"Naruto\". Your responses should reflect his personality and speech patterns \n  Oh yeah, Naruto!?\n Where’d you come from, Iruka Sensei!? What are you doing here?"
        ],
        [
         "1",
         "\" Your are Naruto from the anime \"Naruto\". Your responses should reflect his personality and speech patterns \n You’re not going home till you’ve cleaned off every single drop of paint.\n  So what? It’s not like there’s anyone waiting at home for me. "
        ],
        [
         "2",
         "\" Your are Naruto from the anime \"Naruto\". Your responses should reflect his personality and speech patterns \n  Naruto?\n  What do you want now, Sensei?"
        ],
        [
         "3",
         "\" Your are Naruto from the anime \"Naruto\". Your responses should reflect his personality and speech patterns \n Well, I was just thinking. Maybe after you clean this all up I can take you out for some ramen. The good stuff. What do you think? \n  Now that’s some serious motivation! I’ll have this clean in no time!"
        ],
        [
         "4",
         "\" Your are Naruto from the anime \"Naruto\". Your responses should reflect his personality and speech patterns \n Why would you do that to the Hokage faces? I mean, you know who the Hokage are, don’t you?\n Course I do.  Everybody knows. They were the greatest Shinobi of their time, right? The best of the best. Undefeated Ninja champs.   And the Fourth Hokage’s the one who saved the village from the Nine-Tailed Fox. He was the most amazing."
        ]
       ],
       "shape": {
        "columns": 1,
        "rows": 5
       }
      },
      "text/html": [
       "<div>\n",
       "<style scoped>\n",
       "    .dataframe tbody tr th:only-of-type {\n",
       "        vertical-align: middle;\n",
       "    }\n",
       "\n",
       "    .dataframe tbody tr th {\n",
       "        vertical-align: top;\n",
       "    }\n",
       "\n",
       "    .dataframe thead th {\n",
       "        text-align: right;\n",
       "    }\n",
       "</style>\n",
       "<table border=\"1\" class=\"dataframe\">\n",
       "  <thead>\n",
       "    <tr style=\"text-align: right;\">\n",
       "      <th></th>\n",
       "      <th>prompt</th>\n",
       "    </tr>\n",
       "  </thead>\n",
       "  <tbody>\n",
       "    <tr>\n",
       "      <th>0</th>\n",
       "      <td>\" Your are Naruto from the anime \"Naruto\". You...</td>\n",
       "    </tr>\n",
       "    <tr>\n",
       "      <th>1</th>\n",
       "      <td>\" Your are Naruto from the anime \"Naruto\". You...</td>\n",
       "    </tr>\n",
       "    <tr>\n",
       "      <th>2</th>\n",
       "      <td>\" Your are Naruto from the anime \"Naruto\". You...</td>\n",
       "    </tr>\n",
       "    <tr>\n",
       "      <th>3</th>\n",
       "      <td>\" Your are Naruto from the anime \"Naruto\". You...</td>\n",
       "    </tr>\n",
       "    <tr>\n",
       "      <th>4</th>\n",
       "      <td>\" Your are Naruto from the anime \"Naruto\". You...</td>\n",
       "    </tr>\n",
       "  </tbody>\n",
       "</table>\n",
       "</div>"
      ],
      "text/plain": [
       "                                              prompt\n",
       "0  \" Your are Naruto from the anime \"Naruto\". You...\n",
       "1  \" Your are Naruto from the anime \"Naruto\". You...\n",
       "2  \" Your are Naruto from the anime \"Naruto\". You...\n",
       "3  \" Your are Naruto from the anime \"Naruto\". You...\n",
       "4  \" Your are Naruto from the anime \"Naruto\". You..."
      ]
     },
     "execution_count": 15,
     "metadata": {},
     "output_type": "execute_result"
    }
   ],
   "source": [
    "df = pd.DataFrame({\"prompt\":prompts})\n",
    "df.head()"
   ]
  },
  {
   "cell_type": "code",
   "execution_count": 16,
   "metadata": {},
   "outputs": [],
   "source": [
    "dataset = Dataset.from_pandas(df)"
   ]
  },
  {
   "cell_type": "code",
   "execution_count": null,
   "metadata": {},
   "outputs": [],
   "source": []
  },
  {
   "cell_type": "code",
   "execution_count": null,
   "metadata": {},
   "outputs": [],
   "source": []
  },
  {
   "cell_type": "code",
   "execution_count": null,
   "metadata": {},
   "outputs": [],
   "source": []
  },
  {
   "cell_type": "code",
   "execution_count": null,
   "metadata": {},
   "outputs": [],
   "source": []
  },
  {
   "cell_type": "code",
   "execution_count": null,
   "metadata": {},
   "outputs": [],
   "source": []
  },
  {
   "cell_type": "code",
   "execution_count": null,
   "metadata": {},
   "outputs": [],
   "source": []
  }
 ],
 "metadata": {
  "kernelspec": {
   "display_name": "Python 3",
   "language": "python",
   "name": "python3"
  },
  "language_info": {
   "codemirror_mode": {
    "name": "ipython",
    "version": 3
   },
   "file_extension": ".py",
   "mimetype": "text/x-python",
   "name": "python",
   "nbconvert_exporter": "python",
   "pygments_lexer": "ipython3",
   "version": "3.12.1"
  }
 },
 "nbformat": 4,
 "nbformat_minor": 2
}
